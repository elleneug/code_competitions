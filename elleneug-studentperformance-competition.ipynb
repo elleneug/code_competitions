{
 "cells": [
  {
   "cell_type": "code",
   "execution_count": 1,
   "id": "7ce234f5",
   "metadata": {
    "_cell_guid": "b1076dfc-b9ad-4769-8c92-a6c4dae69d19",
    "_uuid": "8f2839f25d086af736a60e9eeb907d3b93b6e0e5",
    "execution": {
     "iopub.execute_input": "2023-05-19T09:56:25.023692Z",
     "iopub.status.busy": "2023-05-19T09:56:25.022881Z",
     "iopub.status.idle": "2023-05-19T09:56:25.046756Z",
     "shell.execute_reply": "2023-05-19T09:56:25.045710Z"
    },
    "papermill": {
     "duration": 0.031601,
     "end_time": "2023-05-19T09:56:25.049757",
     "exception": false,
     "start_time": "2023-05-19T09:56:25.018156",
     "status": "completed"
    },
    "tags": []
   },
   "outputs": [
    {
     "name": "stdout",
     "output_type": "stream",
     "text": [
      "/kaggle/input/predict-student-performance-from-game-play/sample_submission.csv\n",
      "/kaggle/input/predict-student-performance-from-game-play/train_labels.csv\n",
      "/kaggle/input/predict-student-performance-from-game-play/train.csv\n",
      "/kaggle/input/predict-student-performance-from-game-play/test.csv\n",
      "/kaggle/input/predict-student-performance-from-game-play/jo_wilder_310/competition.cpython-310-x86_64-linux-gnu.so\n",
      "/kaggle/input/predict-student-performance-from-game-play/jo_wilder_310/__init__.py\n",
      "/kaggle/input/predict-student-performance-from-game-play/jo_wilder/competition.cpython-37m-x86_64-linux-gnu.so\n",
      "/kaggle/input/predict-student-performance-from-game-play/jo_wilder/__init__.py\n"
     ]
    }
   ],
   "source": [
    "# This Python 3 environment comes with many helpful analytics libraries installed\n",
    "# It is defined by the kaggle/python Docker image: https://github.com/kaggle/docker-python\n",
    "# For example, here's several helpful packages to load\n",
    "\n",
    "import numpy as np # linear algebra\n",
    "import pandas as pd # data processing, CSV file I/O (e.g. pd.read_csv)\n",
    "\n",
    "# Input data files are available in the read-only \"../input/\" directory\n",
    "# For example, running this (by clicking run or pressing Shift+Enter) will list all files under the input directory\n",
    "\n",
    "import os\n",
    "for dirname, _, filenames in os.walk('/kaggle/input'):\n",
    "    for filename in filenames:\n",
    "        print(os.path.join(dirname, filename))\n",
    "\n",
    "# You can write up to 20GB to the current directory (/kaggle/working/) that gets preserved as output when you create a version using \"Save & Run All\" \n",
    "# You can also write temporary files to /kaggle/temp/, but they won't be saved outside of the current session"
   ]
  },
  {
   "cell_type": "markdown",
   "id": "e6899587",
   "metadata": {
    "papermill": {
     "duration": 0.002295,
     "end_time": "2023-05-19T09:56:25.056607",
     "exception": false,
     "start_time": "2023-05-19T09:56:25.054312",
     "status": "completed"
    },
    "tags": []
   },
   "source": [
    "## Import the Required Libraries"
   ]
  },
  {
   "cell_type": "code",
   "execution_count": 2,
   "id": "757e1d87",
   "metadata": {
    "execution": {
     "iopub.execute_input": "2023-05-19T09:56:25.063779Z",
     "iopub.status.busy": "2023-05-19T09:56:25.062997Z",
     "iopub.status.idle": "2023-05-19T09:56:25.067413Z",
     "shell.execute_reply": "2023-05-19T09:56:25.066562Z"
    },
    "papermill": {
     "duration": 0.010633,
     "end_time": "2023-05-19T09:56:25.069697",
     "exception": false,
     "start_time": "2023-05-19T09:56:25.059064",
     "status": "completed"
    },
    "tags": []
   },
   "outputs": [],
   "source": [
    "import pandas as pd\n",
    "import numpy as np\n",
    "import matplotlib.pyplot as plt"
   ]
  },
  {
   "cell_type": "code",
   "execution_count": null,
   "id": "6b16a41a",
   "metadata": {
    "papermill": {
     "duration": 0.002173,
     "end_time": "2023-05-19T09:56:25.074452",
     "exception": false,
     "start_time": "2023-05-19T09:56:25.072279",
     "status": "completed"
    },
    "tags": []
   },
   "outputs": [],
   "source": []
  }
 ],
 "metadata": {
  "kernelspec": {
   "display_name": "Python 3",
   "language": "python",
   "name": "python3"
  },
  "language_info": {
   "codemirror_mode": {
    "name": "ipython",
    "version": 3
   },
   "file_extension": ".py",
   "mimetype": "text/x-python",
   "name": "python",
   "nbconvert_exporter": "python",
   "pygments_lexer": "ipython3",
   "version": "3.10.10"
  },
  "papermill": {
   "default_parameters": {},
   "duration": 16.035651,
   "end_time": "2023-05-19T09:56:25.999291",
   "environment_variables": {},
   "exception": null,
   "input_path": "__notebook__.ipynb",
   "output_path": "__notebook__.ipynb",
   "parameters": {},
   "start_time": "2023-05-19T09:56:09.963640",
   "version": "2.4.0"
  }
 },
 "nbformat": 4,
 "nbformat_minor": 5
}

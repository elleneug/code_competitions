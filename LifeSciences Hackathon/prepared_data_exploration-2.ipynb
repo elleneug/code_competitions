{
 "cells": [
  {
   "cell_type": "code",
   "execution_count": 1,
   "id": "e282a414-be80-41da-b0e3-86487170a7f8",
   "metadata": {},
   "outputs": [
    {
     "name": "stderr",
     "output_type": "stream",
     "text": [
      "Warning: Ignoring non-Spark config property: fs.s3a.aws.credentials.provider\n"
     ]
    },
    {
     "name": "stdout",
     "output_type": "stream",
     "text": [
      ":: loading settings :: url = jar:file:/home/jovyan/.conda/envs/python3/lib/python3.9/site-packages/pyspark/jars/ivy-2.5.1.jar!/org/apache/ivy/core/settings/ivysettings.xml\n"
     ]
    },
    {
     "name": "stderr",
     "output_type": "stream",
     "text": [
      "Ivy Default Cache set to: /home/jovyan/.ivy2/cache\n",
      "The jars for the packages stored in: /home/jovyan/.ivy2/jars\n",
      "org.apache.hadoop#hadoop-aws added as a dependency\n",
      ":: resolving dependencies :: org.apache.spark#spark-submit-parent-7675368b-427b-4a6b-aba4-ffb92cbb3e6e;1.0\n",
      "\tconfs: [default]\n",
      "\tfound org.apache.hadoop#hadoop-aws;3.2.2 in central\n",
      "\tfound com.amazonaws#aws-java-sdk-bundle;1.11.563 in central\n",
      ":: resolution report :: resolve 161ms :: artifacts dl 4ms\n",
      "\t:: modules in use:\n",
      "\tcom.amazonaws#aws-java-sdk-bundle;1.11.563 from central in [default]\n",
      "\torg.apache.hadoop#hadoop-aws;3.2.2 from central in [default]\n",
      "\t---------------------------------------------------------------------\n",
      "\t|                  |            modules            ||   artifacts   |\n",
      "\t|       conf       | number| search|dwnlded|evicted|| number|dwnlded|\n",
      "\t---------------------------------------------------------------------\n",
      "\t|      default     |   2   |   0   |   0   |   0   ||   2   |   0   |\n",
      "\t---------------------------------------------------------------------\n",
      ":: retrieving :: org.apache.spark#spark-submit-parent-7675368b-427b-4a6b-aba4-ffb92cbb3e6e\n",
      "\tconfs: [default]\n",
      "\t0 artifacts copied, 2 already retrieved (0kB/5ms)\n",
      "23/04/25 03:51:19 WARN NativeCodeLoader: Unable to load native-hadoop library for your platform... using builtin-java classes where applicable\n",
      "Setting default log level to \"WARN\".\n",
      "To adjust logging level use sc.setLogLevel(newLevel). For SparkR, use setLogLevel(newLevel).\n",
      "23/04/25 03:51:21 WARN Utils: Service 'SparkUI' could not bind on port 4040. Attempting port 4041.\n"
     ]
    },
    {
     "name": "stdout",
     "output_type": "stream",
     "text": [
      "                           PRE prm_diagnosis/\n",
      "                           PRE prm_diagnosis_mk/\n",
      "                           PRE prm_enrollment/\n",
      "                           PRE prm_payers/\n",
      "                           PRE prm_persons/\n",
      "                           PRE prm_prescription/\n",
      "                           PRE prm_prescription_1/\n",
      "                           PRE prm_procedure/\n",
      "                           PRE prm_providers/\n",
      "                           PRE prm_visit/\n"
     ]
    }
   ],
   "source": [
    "from pyspark.sql import SparkSession\n",
    "from pyspark.sql import functions as f\n",
    "from pyspark.sql.window import Window as w\n",
    "import pandas as pd\n",
    "pd.set_option('display.max_columns', None)\n",
    "\n",
    "import warnings\n",
    "warnings.filterwarnings(\"ignore\")\n",
    "\n",
    "spark = (\n",
    "    SparkSession.builder\n",
    "    .config(\"spark.driver.memory\",\"100g\")\n",
    "    .config(\"spark.hadoop.fs.s3a.impl\",\"org.apache.hadoop.fs.s3a.S3AFileSystem\")\n",
    "    .config(\"spark.jars.packages\",\"org.apache.hadoop:hadoop-aws:3.2.2\")\n",
    "    .config(\"fs.s3a.aws.credentials.provider\",\"com.amazonaws.auth.DefaultAWSCredentialsProviderChain\")\n",
    "    .config(\"spark.driver.maxResultSize\",0)\n",
    "    # .config('spark.hadoop.io.compression.codecs', 'nl.basjes.hadoop.io.compress.SplittableGzipCodec')\n",
    "    .getOrCreate()\n",
    ")\n",
    "spark.conf.set(\"spark.sql.repl.eagerEval.enabled\", True)\n",
    "spark.conf.set(\"spark.hadoop.io.compression.codecs\", \"org.apache.hadoop.io.compress.BZip2Codec\")\n",
    "\n",
    "s3_bucket_spark = \"s3a://820323602090-team-dbad373c-7e36-407b-8690-05a44b804f43\"\n",
    "s3_bucket_pandas = \"s3a://820323602090-team-dbad373c-7e36-407b-8690-05a44b804f43\"\n",
    "\n",
    "!aws s3 ls $team_bucket/data/data_komodo/"
   ]
  },
  {
   "cell_type": "code",
   "execution_count": 2,
   "id": "dd8e8bdf-9588-4980-8c06-efe2b5e1e1aa",
   "metadata": {},
   "outputs": [],
   "source": [
    "data_path = s3_bucket_spark + '/data/data_komodo/'"
   ]
  },
  {
   "cell_type": "markdown",
   "id": "7e058033-6569-41af-b2c6-5a5fc2612bf3",
   "metadata": {
    "tags": []
   },
   "source": [
    "## Diagnosis"
   ]
  },
  {
   "cell_type": "markdown",
   "id": "e545bbdb-92c7-46bc-a419-bd8624e1b7ed",
   "metadata": {
    "tags": []
   },
   "source": [
    "### prm_diagnosis"
   ]
  },
  {
   "cell_type": "markdown",
   "id": "b7b07a84-3012-4ff2-a69a-08bc14de6de7",
   "metadata": {},
   "source": [
    "KEYS:\n",
    "- person_id (??)  \n",
    "- npi_id <> HCP_1_NPI  \n",
    "- encounter_key <> ENCOUNTER_KEY  \n",
    "- payer_id <> PAYER_KH_ID  \n",
    "- vx_visit_id <> VISIT_ID  \n",
    "- date_day <> CLAIM_DATE\n",
    "\n",
    "FEATURES:\n",
    "- claim_charge_amount (statistics by NPI)\n",
    "- primary_diagnosis_flag (share by NPI)\n",
    "- dx_diagnosis_code:\n",
    "    - Extract E-codes and V-codes categories\n",
    "    - take codes only after october 2015\n",
    "    - extract codes before \".\"\n",
    "    - get most common ones\n",
    "- dx_diag_code_type: represents ICD-9 or ICD-10 code system"
   ]
  },
  {
   "cell_type": "code",
   "execution_count": 4,
   "id": "64100deb-5a51-4d5a-af5c-b9f4503fbfe0",
   "metadata": {},
   "outputs": [
    {
     "name": "stderr",
     "output_type": "stream",
     "text": [
      "23/04/25 03:53:08 WARN MetricsConfig: Cannot locate configuration: tried hadoop-metrics2-s3a-file-system.properties,hadoop-metrics2.properties\n",
      "                                                                                \r"
     ]
    }
   ],
   "source": [
    "prm_diagn = spark.read.parquet(data_path+\"prm_diagnosis/\")"
   ]
  },
  {
   "cell_type": "code",
   "execution_count": 10,
   "id": "3fbdf47a-87fb-49e1-bbd4-e5226268c230",
   "metadata": {},
   "outputs": [
    {
     "data": {
      "text/html": [
       "<table border='1'>\n",
       "<tr><th>claim_charge_amount</th><th>primary_diagnosis_flag</th><th>dx_diagnosis_code</th><th>dx_diag_code_type</th></tr>\n",
       "<tr><td>null</td><td>true</td><td>M542</td><td>10</td></tr>\n",
       "<tr><td>null</td><td>false</td><td>M5412</td><td>10</td></tr>\n",
       "<tr><td>270.0</td><td>true</td><td>R3121</td><td>10</td></tr>\n",
       "<tr><td>259.0</td><td>true</td><td>N200</td><td>10</td></tr>\n",
       "<tr><td>259.0</td><td>false</td><td>N281</td><td>10</td></tr>\n",
       "</table>\n"
      ],
      "text/plain": [
       "+-------------------+----------------------+-----------------+-----------------+\n",
       "|claim_charge_amount|primary_diagnosis_flag|dx_diagnosis_code|dx_diag_code_type|\n",
       "+-------------------+----------------------+-----------------+-----------------+\n",
       "|               null|                  true|             M542|               10|\n",
       "|               null|                 false|            M5412|               10|\n",
       "|              270.0|                  true|            R3121|               10|\n",
       "|              259.0|                  true|             N200|               10|\n",
       "|              259.0|                 false|             N281|               10|\n",
       "+-------------------+----------------------+-----------------+-----------------+"
      ]
     },
     "execution_count": 10,
     "metadata": {},
     "output_type": "execute_result"
    }
   ],
   "source": [
    "prm_diagn.select(*prm_diagn.columns[9:-2]).limit(5)"
   ]
  },
  {
   "cell_type": "code",
   "execution_count": 11,
   "id": "2b725e5d-df28-4592-a3cc-2a781c1a0a1b",
   "metadata": {},
   "outputs": [
    {
     "name": "stderr",
     "output_type": "stream",
     "text": [
      "                                                                                \r"
     ]
    },
    {
     "data": {
      "text/plain": [
       "61773"
      ]
     },
     "execution_count": 11,
     "metadata": {},
     "output_type": "execute_result"
    }
   ],
   "source": [
    "prm_diagn.select('dx_diagnosis_code').distinct().count()"
   ]
  },
  {
   "cell_type": "code",
   "execution_count": 18,
   "id": "e35582c9-7043-430c-ba09-db246d3451b2",
   "metadata": {},
   "outputs": [
    {
     "name": "stderr",
     "output_type": "stream",
     "text": [
      "                                                                                \r"
     ]
    },
    {
     "data": {
      "text/html": [
       "<table border='1'>\n",
       "<tr><th>dx_diagnosis_code</th></tr>\n",
       "<tr><td>L4059</td></tr>\n",
       "<tr><td>L4050</td></tr>\n",
       "<tr><td>L400</td></tr>\n",
       "<tr><td>L403</td></tr>\n",
       "<tr><td>L4052</td></tr>\n",
       "<tr><td>L4051</td></tr>\n",
       "<tr><td>L408</td></tr>\n",
       "<tr><td>L409</td></tr>\n",
       "<tr><td>L401</td></tr>\n",
       "<tr><td>L4053</td></tr>\n",
       "<tr><td>L4054</td></tr>\n",
       "<tr><td>L402</td></tr>\n",
       "<tr><td>L40</td></tr>\n",
       "<tr><td>L404</td></tr>\n",
       "<tr><td>L405</td></tr>\n",
       "<tr><td>L4090</td></tr>\n",
       "<tr><td>L4001</td></tr>\n",
       "</table>\n"
      ],
      "text/plain": [
       "+-----------------+\n",
       "|dx_diagnosis_code|\n",
       "+-----------------+\n",
       "|            L4059|\n",
       "|            L4050|\n",
       "|             L400|\n",
       "|             L403|\n",
       "|            L4052|\n",
       "|            L4051|\n",
       "|             L408|\n",
       "|             L409|\n",
       "|             L401|\n",
       "|            L4053|\n",
       "|            L4054|\n",
       "|             L402|\n",
       "|              L40|\n",
       "|             L404|\n",
       "|             L405|\n",
       "|            L4090|\n",
       "|            L4001|\n",
       "+-----------------+"
      ]
     },
     "execution_count": 18,
     "metadata": {},
     "output_type": "execute_result"
    }
   ],
   "source": [
    "# ICD-10 PSO (after 10/2015)\n",
    "prm_diagn.filter(prm_diagn.dx_diagnosis_code.startswith('L40')).select('dx_diagnosis_code').distinct()"
   ]
  },
  {
   "cell_type": "code",
   "execution_count": 19,
   "id": "2d95d6ec-7497-4bbe-bfc8-cb81edb292e8",
   "metadata": {},
   "outputs": [
    {
     "name": "stderr",
     "output_type": "stream",
     "text": [
      "                                                                                \r"
     ]
    },
    {
     "data": {
      "text/html": [
       "<table border='1'>\n",
       "<tr><th>dx_diagnosis_code</th></tr>\n",
       "<tr><td>6961</td></tr>\n",
       "<tr><td>6960</td></tr>\n",
       "<tr><td>6968</td></tr>\n",
       "<tr><td>696</td></tr>\n",
       "<tr><td>6965</td></tr>\n",
       "<tr><td>6964</td></tr>\n",
       "<tr><td>6962</td></tr>\n",
       "<tr><td>6963</td></tr>\n",
       "</table>\n"
      ],
      "text/plain": [
       "+-----------------+\n",
       "|dx_diagnosis_code|\n",
       "+-----------------+\n",
       "|             6961|\n",
       "|             6960|\n",
       "|             6968|\n",
       "|              696|\n",
       "|             6965|\n",
       "|             6964|\n",
       "|             6962|\n",
       "|             6963|\n",
       "+-----------------+"
      ]
     },
     "execution_count": 19,
     "metadata": {},
     "output_type": "execute_result"
    }
   ],
   "source": [
    "# ICD-9 PSO (before 10/2015)\n",
    "prm_diagn.filter(prm_diagn.dx_diagnosis_code.startswith('696')).select('dx_diagnosis_code').distinct()"
   ]
  },
  {
   "cell_type": "code",
   "execution_count": 32,
   "id": "ecf4ee20-36d0-4ea3-a321-3bc7743cc3e4",
   "metadata": {},
   "outputs": [
    {
     "name": "stderr",
     "output_type": "stream",
     "text": [
      "                                                                                \r"
     ]
    },
    {
     "data": {
      "text/html": [
       "<table border='1'>\n",
       "<tr><th>dx_diag_code_type</th><th>count</th></tr>\n",
       "<tr><td>null</td><td>117337</td></tr>\n",
       "<tr><td>9</td><td>138827</td></tr>\n",
       "<tr><td>10</td><td>235781034</td></tr>\n",
       "</table>\n"
      ],
      "text/plain": [
       "+-----------------+---------+\n",
       "|dx_diag_code_type|    count|\n",
       "+-----------------+---------+\n",
       "|             null|   117337|\n",
       "|                9|   138827|\n",
       "|               10|235781034|\n",
       "+-----------------+---------+"
      ]
     },
     "execution_count": 32,
     "metadata": {},
     "output_type": "execute_result"
    }
   ],
   "source": [
    "prm_diagn.groupBy('dx_diag_code_type').count()"
   ]
  },
  {
   "cell_type": "code",
   "execution_count": 20,
   "id": "b25b92d3-393c-4afa-bc07-9e58a2d51fa4",
   "metadata": {},
   "outputs": [
    {
     "name": "stderr",
     "output_type": "stream",
     "text": [
      "                                                                                \r"
     ]
    },
    {
     "data": {
      "text/html": [
       "<table border='1'>\n",
       "<tr><th>dx_diag_code_type</th><th>count</th></tr>\n",
       "<tr><td>null</td><td>1924</td></tr>\n",
       "<tr><td>10</td><td>11162632</td></tr>\n",
       "</table>\n"
      ],
      "text/plain": [
       "+-----------------+--------+\n",
       "|dx_diag_code_type|   count|\n",
       "+-----------------+--------+\n",
       "|             null|    1924|\n",
       "|               10|11162632|\n",
       "+-----------------+--------+"
      ]
     },
     "execution_count": 20,
     "metadata": {},
     "output_type": "execute_result"
    }
   ],
   "source": [
    "prm_diagn.filter(prm_diagn.dx_diagnosis_code.startswith('L40')).groupBy('dx_diag_code_type').count()"
   ]
  },
  {
   "cell_type": "code",
   "execution_count": 22,
   "id": "0665620f-63d6-47bb-90fc-010bf751b148",
   "metadata": {},
   "outputs": [
    {
     "name": "stderr",
     "output_type": "stream",
     "text": [
      "                                                                                \r"
     ]
    },
    {
     "data": {
      "text/html": [
       "<table border='1'>\n",
       "<tr><th>dx_diag_code_type</th><th>count</th></tr>\n",
       "<tr><td>9</td><td>1498</td></tr>\n",
       "<tr><td>null</td><td>50</td></tr>\n",
       "</table>\n"
      ],
      "text/plain": [
       "+-----------------+-----+\n",
       "|dx_diag_code_type|count|\n",
       "+-----------------+-----+\n",
       "|                9| 1498|\n",
       "|             null|   50|\n",
       "+-----------------+-----+"
      ]
     },
     "execution_count": 22,
     "metadata": {},
     "output_type": "execute_result"
    }
   ],
   "source": [
    "prm_diagn.filter(prm_diagn.dx_diagnosis_code.startswith('696')).groupBy('dx_diag_code_type').count()"
   ]
  },
  {
   "cell_type": "markdown",
   "id": "0b685cc3-6298-448a-8b58-ed4e99bc3388",
   "metadata": {
    "jp-MarkdownHeadingCollapsed": true,
    "tags": []
   },
   "source": [
    "### prm_diagnosis_mk (same but with procedures)"
   ]
  },
  {
   "cell_type": "markdown",
   "id": "c6eea63d-63df-41ec-a4c6-f88e0d8f3627",
   "metadata": {},
   "source": [
    "KEYS:\n",
    "- person_id (??)  \n",
    "- primary_hcp_npi <> HCP_1_NPI  \n",
    "- encounter_key <> ENCOUNTER_KEY  \n",
    "- payer_id <> PAYER_KH_ID  \n",
    "- vx_visit_id <> VISIT_ID  \n",
    "- date_day <> CLAIM_DATE\n",
    "\n",
    "FEATURES:\n",
    "- dx_diagnosis_code: much less than in previous table\n",
    "- primary_hcp_flag: maybe some relation to HCP key how to join it (~80% true)\n",
    "- claim_charge_amount: almost all have filled values\n",
    "- primary_procedure_flag: some sort of primary procedure during a visit\n",
    "- dx_procedure_code: procedure code, hierarchical, check slack for more info\n",
    "- dx_diag_code_type: used to switch between ICD-9 and ICD-10 systems"
   ]
  },
  {
   "cell_type": "code",
   "execution_count": 27,
   "id": "f73d07cc-136a-4ef4-9780-19e83eacd34a",
   "metadata": {},
   "outputs": [],
   "source": [
    "prm_diagn_mk = spark.read.parquet(data_path+\"prm_diagnosis_mk/\")"
   ]
  },
  {
   "cell_type": "code",
   "execution_count": 29,
   "id": "4c59b9b6-611f-4916-a88c-5489e9544e06",
   "metadata": {},
   "outputs": [
    {
     "data": {
      "text/html": [
       "<table border='1'>\n",
       "<tr><th>primary_hcp_flag</th><th>claim_charge_amount</th><th>primary_diagnosis_flag</th><th>dx_diagnosis_code</th><th>primary_procedure_flag</th><th>dx_procedure_code</th><th>dx_diag_code_type</th></tr>\n",
       "<tr><td>true</td><td>396157.26</td><td>true</td><td>M4316</td><td>true</td><td>0SG10A0</td><td>10</td></tr>\n",
       "<tr><td>true</td><td>396157.26</td><td>true</td><td>M4316</td><td>false</td><td>0SG1071</td><td>10</td></tr>\n",
       "<tr><td>true</td><td>396157.26</td><td>true</td><td>M4316</td><td>false</td><td>0SB20ZZ</td><td>10</td></tr>\n",
       "<tr><td>true</td><td>396157.26</td><td>true</td><td>M4316</td><td>false</td><td>0SG3071</td><td>10</td></tr>\n",
       "<tr><td>false</td><td>396157.26</td><td>true</td><td>M4316</td><td>true</td><td>0SG10A0</td><td>10</td></tr>\n",
       "</table>\n"
      ],
      "text/plain": [
       "+----------------+-------------------+----------------------+-----------------+----------------------+-----------------+-----------------+\n",
       "|primary_hcp_flag|claim_charge_amount|primary_diagnosis_flag|dx_diagnosis_code|primary_procedure_flag|dx_procedure_code|dx_diag_code_type|\n",
       "+----------------+-------------------+----------------------+-----------------+----------------------+-----------------+-----------------+\n",
       "|            true|          396157.26|                  true|            M4316|                  true|          0SG10A0|               10|\n",
       "|            true|          396157.26|                  true|            M4316|                 false|          0SG1071|               10|\n",
       "|            true|          396157.26|                  true|            M4316|                 false|          0SB20ZZ|               10|\n",
       "|            true|          396157.26|                  true|            M4316|                 false|          0SG3071|               10|\n",
       "|           false|          396157.26|                  true|            M4316|                  true|          0SG10A0|               10|\n",
       "+----------------+-------------------+----------------------+-----------------+----------------------+-----------------+-----------------+"
      ]
     },
     "execution_count": 29,
     "metadata": {},
     "output_type": "execute_result"
    }
   ],
   "source": [
    "prm_diagn_mk.select('primary_hcp_flag', *prm_diagn_mk.columns[7:-2]).limit(5)"
   ]
  },
  {
   "cell_type": "code",
   "execution_count": 30,
   "id": "258b2fb6-acd5-4b1d-914f-26ecfa07e4fd",
   "metadata": {},
   "outputs": [
    {
     "name": "stderr",
     "output_type": "stream",
     "text": [
      "                                                                                \r"
     ]
    },
    {
     "data": {
      "text/plain": [
       "13289"
      ]
     },
     "execution_count": 30,
     "metadata": {},
     "output_type": "execute_result"
    }
   ],
   "source": [
    "prm_diagn_mk.select('dx_diagnosis_code').distinct().count()"
   ]
  },
  {
   "cell_type": "code",
   "execution_count": 31,
   "id": "83e8387e-dd9e-4254-858f-c84d18ab563d",
   "metadata": {},
   "outputs": [
    {
     "name": "stderr",
     "output_type": "stream",
     "text": [
      "                                                                                \r"
     ]
    },
    {
     "data": {
      "text/html": [
       "<table border='1'>\n",
       "<tr><th>dx_diag_code_type</th><th>count</th></tr>\n",
       "<tr><td>null</td><td>8306</td></tr>\n",
       "<tr><td>9</td><td>950</td></tr>\n",
       "<tr><td>10</td><td>2929678</td></tr>\n",
       "</table>\n"
      ],
      "text/plain": [
       "+-----------------+-------+\n",
       "|dx_diag_code_type|  count|\n",
       "+-----------------+-------+\n",
       "|             null|   8306|\n",
       "|                9|    950|\n",
       "|               10|2929678|\n",
       "+-----------------+-------+"
      ]
     },
     "execution_count": 31,
     "metadata": {},
     "output_type": "execute_result"
    }
   ],
   "source": [
    "prm_diagn_mk.groupBy('dx_diag_code_type').count()"
   ]
  },
  {
   "cell_type": "code",
   "execution_count": 33,
   "id": "c9fa9cd5-f6fe-4b4d-b2c9-314afd1ff208",
   "metadata": {},
   "outputs": [
    {
     "name": "stderr",
     "output_type": "stream",
     "text": [
      "                                                                                \r"
     ]
    },
    {
     "data": {
      "text/html": [
       "<table border='1'>\n",
       "<tr><th>primary_hcp_flag</th><th>count</th></tr>\n",
       "<tr><td>true</td><td>2311519</td></tr>\n",
       "<tr><td>false</td><td>627415</td></tr>\n",
       "</table>\n"
      ],
      "text/plain": [
       "+----------------+-------+\n",
       "|primary_hcp_flag|  count|\n",
       "+----------------+-------+\n",
       "|            true|2311519|\n",
       "|           false| 627415|\n",
       "+----------------+-------+"
      ]
     },
     "execution_count": 33,
     "metadata": {},
     "output_type": "execute_result"
    }
   ],
   "source": [
    "prm_diagn_mk.groupBy('primary_hcp_flag').count()"
   ]
  },
  {
   "cell_type": "code",
   "execution_count": 35,
   "id": "9c660acc-cc7c-498a-9fda-630b1b6b1d1e",
   "metadata": {},
   "outputs": [
    {
     "name": "stderr",
     "output_type": "stream",
     "text": [
      "                                                                                \r"
     ]
    },
    {
     "data": {
      "text/plain": [
       "10661"
      ]
     },
     "execution_count": 35,
     "metadata": {},
     "output_type": "execute_result"
    }
   ],
   "source": [
    "prm_diagn_mk.select('dx_procedure_code').distinct().count()"
   ]
  },
  {
   "cell_type": "code",
   "execution_count": 36,
   "id": "eb3c9c76-3835-4f92-bbcf-7fc34f0b07a0",
   "metadata": {},
   "outputs": [
    {
     "name": "stderr",
     "output_type": "stream",
     "text": [
      "                                                                                \r"
     ]
    },
    {
     "data": {
      "text/plain": [
       "677"
      ]
     },
     "execution_count": 36,
     "metadata": {},
     "output_type": "execute_result"
    }
   ],
   "source": [
    "prm_diagn_mk.filter(f.col('claim_charge_amount') == 0).count()"
   ]
  },
  {
   "cell_type": "code",
   "execution_count": 37,
   "id": "1bb47c35-4f35-43f1-aca5-3118b8e0b3c7",
   "metadata": {},
   "outputs": [
    {
     "name": "stderr",
     "output_type": "stream",
     "text": [
      "                                                                                \r"
     ]
    },
    {
     "data": {
      "text/plain": [
       "39736"
      ]
     },
     "execution_count": 37,
     "metadata": {},
     "output_type": "execute_result"
    }
   ],
   "source": [
    "prm_diagn_mk.filter(prm_diagn_mk.dx_diagnosis_code.startswith('L40')).count()"
   ]
  },
  {
   "cell_type": "code",
   "execution_count": 38,
   "id": "856fd74f-0253-46fa-8135-aecd8876ae54",
   "metadata": {},
   "outputs": [
    {
     "name": "stderr",
     "output_type": "stream",
     "text": [
      "                                                                                \r"
     ]
    },
    {
     "data": {
      "text/plain": [
       "5"
      ]
     },
     "execution_count": 38,
     "metadata": {},
     "output_type": "execute_result"
    }
   ],
   "source": [
    "prm_diagn_mk.filter(prm_diagn_mk.dx_diagnosis_code.startswith('696')).count()"
   ]
  },
  {
   "cell_type": "code",
   "execution_count": 81,
   "id": "95e99524-4e37-4a73-9703-d06e9003f072",
   "metadata": {},
   "outputs": [
    {
     "name": "stderr",
     "output_type": "stream",
     "text": [
      "                                                                                \r"
     ]
    },
    {
     "data": {
      "text/html": [
       "<table border='1'>\n",
       "<tr><th>dx_procedure_code</th><th>count</th></tr>\n",
       "<tr><td>02HV33Z</td><td>110990</td></tr>\n",
       "<tr><td>30233N1</td><td>70240</td></tr>\n",
       "<tr><td>B2111ZZ</td><td>60696</td></tr>\n",
       "<tr><td>4A023N7</td><td>59004</td></tr>\n",
       "<tr><td>0BH17EZ</td><td>44578</td></tr>\n",
       "<tr><td>5A09357</td><td>38941</td></tr>\n",
       "<tr><td>0DJ08ZZ</td><td>34251</td></tr>\n",
       "<tr><td>B2151ZZ</td><td>33346</td></tr>\n",
       "<tr><td>5A1945Z</td><td>30981</td></tr>\n",
       "<tr><td>5A1D70Z</td><td>30364</td></tr>\n",
       "</table>\n"
      ],
      "text/plain": [
       "+-----------------+------+\n",
       "|dx_procedure_code| count|\n",
       "+-----------------+------+\n",
       "|          02HV33Z|110990|\n",
       "|          30233N1| 70240|\n",
       "|          B2111ZZ| 60696|\n",
       "|          4A023N7| 59004|\n",
       "|          0BH17EZ| 44578|\n",
       "|          5A09357| 38941|\n",
       "|          0DJ08ZZ| 34251|\n",
       "|          B2151ZZ| 33346|\n",
       "|          5A1945Z| 30981|\n",
       "|          5A1D70Z| 30364|\n",
       "+-----------------+------+"
      ]
     },
     "execution_count": 81,
     "metadata": {},
     "output_type": "execute_result"
    }
   ],
   "source": [
    "prm_diagn_mk.groupBy('dx_procedure_code').count().orderBy('count', ascending=False).limit(10)"
   ]
  },
  {
   "cell_type": "code",
   "execution_count": 41,
   "id": "eaad6a65-4fbd-4a22-8cfc-b9cc777cd432",
   "metadata": {},
   "outputs": [
    {
     "name": "stderr",
     "output_type": "stream",
     "text": [
      "                                                                                \r"
     ]
    },
    {
     "data": {
      "text/html": [
       "<table border='1'>\n",
       "<tr><th>dx_procedure_code</th><th>count</th></tr>\n",
       "<tr><td>02HV33Z</td><td>1424</td></tr>\n",
       "<tr><td>30233N1</td><td>816</td></tr>\n",
       "<tr><td>4A023N7</td><td>815</td></tr>\n",
       "<tr><td>B2111ZZ</td><td>799</td></tr>\n",
       "<tr><td>0SRD0J9</td><td>482</td></tr>\n",
       "<tr><td>0SRC0J9</td><td>472</td></tr>\n",
       "<tr><td>5A09357</td><td>456</td></tr>\n",
       "<tr><td>B2151ZZ</td><td>444</td></tr>\n",
       "<tr><td>0BH17EZ</td><td>425</td></tr>\n",
       "<tr><td>0DJ08ZZ</td><td>398</td></tr>\n",
       "</table>\n"
      ],
      "text/plain": [
       "+-----------------+-----+\n",
       "|dx_procedure_code|count|\n",
       "+-----------------+-----+\n",
       "|          02HV33Z| 1424|\n",
       "|          30233N1|  816|\n",
       "|          4A023N7|  815|\n",
       "|          B2111ZZ|  799|\n",
       "|          0SRD0J9|  482|\n",
       "|          0SRC0J9|  472|\n",
       "|          5A09357|  456|\n",
       "|          B2151ZZ|  444|\n",
       "|          0BH17EZ|  425|\n",
       "|          0DJ08ZZ|  398|\n",
       "+-----------------+-----+"
      ]
     },
     "execution_count": 41,
     "metadata": {},
     "output_type": "execute_result"
    }
   ],
   "source": [
    "prm_diagn_mk.filter((prm_diagn_mk.dx_diagnosis_code.startswith('L40')) | \n",
    "                    (prm_diagn_mk.dx_diagnosis_code.startswith('696')))\\\n",
    "            .groupBy('dx_procedure_code').count()\\\n",
    "            .orderBy('count', ascending=False)\\\n",
    "            .limit(10)"
   ]
  },
  {
   "cell_type": "code",
   "execution_count": 42,
   "id": "a9bc91ea-c901-4f94-a014-70e57a2674cc",
   "metadata": {},
   "outputs": [
    {
     "name": "stderr",
     "output_type": "stream",
     "text": [
      "                                                                                \r"
     ]
    },
    {
     "data": {
      "text/html": [
       "<table border='1'>\n",
       "<tr><th>primary_procedure_flag</th><th>count</th></tr>\n",
       "<tr><td>true</td><td>1066183</td></tr>\n",
       "<tr><td>false</td><td>1872751</td></tr>\n",
       "</table>\n"
      ],
      "text/plain": [
       "+----------------------+-------+\n",
       "|primary_procedure_flag|  count|\n",
       "+----------------------+-------+\n",
       "|                  true|1066183|\n",
       "|                 false|1872751|\n",
       "+----------------------+-------+"
      ]
     },
     "execution_count": 42,
     "metadata": {},
     "output_type": "execute_result"
    }
   ],
   "source": [
    "prm_diagn_mk.groupBy('primary_procedure_flag').count()"
   ]
  },
  {
   "cell_type": "markdown",
   "id": "4528e015-2af9-4cba-a209-a85c1e6e2c43",
   "metadata": {
    "tags": []
   },
   "source": [
    "## Payers"
   ]
  },
  {
   "cell_type": "markdown",
   "id": "3e9e088c-2e6e-4809-b434-a3bf1aaf394d",
   "metadata": {
    "jp-MarkdownHeadingCollapsed": true,
    "tags": []
   },
   "source": [
    "### prm_enrollment (less important)"
   ]
  },
  {
   "cell_type": "markdown",
   "id": "e4bc1bc2-7c93-4a3a-aa30-b2600ea95173",
   "metadata": {},
   "source": [
    "KEYS:\n",
    "- person_id (??)\n",
    "\n",
    "FEATURES:\n",
    "- enr_plan_type"
   ]
  },
  {
   "cell_type": "code",
   "execution_count": 44,
   "id": "b69d09b5-f733-44d4-9fe5-33f12e0290d5",
   "metadata": {},
   "outputs": [],
   "source": [
    "prm_enrol = spark.read.parquet(data_path+\"prm_enrollment/\")"
   ]
  },
  {
   "cell_type": "code",
   "execution_count": 45,
   "id": "913ec7f1-fb50-4053-91cf-2da3d15e57e7",
   "metadata": {},
   "outputs": [
    {
     "data": {
      "text/html": [
       "<table border='1'>\n",
       "<tr><th>person_id</th><th>enr_eligibility_start_dt</th><th>enr_eligibility_end_dt</th><th>enr_closed_start_dt</th><th>enr_closed_end_dt</th><th>enr_plan_type</th><th>cohort_id</th><th>source</th></tr>\n",
       "<tr><td>a4a185a8229c07c92...</td><td>2018-01-01</td><td>2020-12-31</td><td>2018-01-01</td><td>2020-12-31</td><td>C</td><td>1043685</td><td>komodo</td></tr>\n",
       "<tr><td>a4a185a8229c07c92...</td><td>2020-09-05</td><td>2020-12-31</td><td>2020-09-05</td><td>2020-12-31</td><td>C</td><td>1043685</td><td>komodo</td></tr>\n",
       "<tr><td>a4a185a8229c07c92...</td><td>2015-03-01</td><td>2017-03-31</td><td>2015-03-01</td><td>2017-03-31</td><td>C</td><td>1043685</td><td>komodo</td></tr>\n",
       "<tr><td>a4a185a8229c07c92...</td><td>2020-07-01</td><td>2020-09-04</td><td>2020-07-01</td><td>2020-09-04</td><td>C</td><td>1043685</td><td>komodo</td></tr>\n",
       "<tr><td>a4a185a8229c07c92...</td><td>2020-10-01</td><td>2020-12-31</td><td>2020-10-01</td><td>2020-12-31</td><td>C</td><td>1043685</td><td>komodo</td></tr>\n",
       "</table>\n"
      ],
      "text/plain": [
       "+--------------------+------------------------+----------------------+-------------------+-----------------+-------------+---------+------+\n",
       "|           person_id|enr_eligibility_start_dt|enr_eligibility_end_dt|enr_closed_start_dt|enr_closed_end_dt|enr_plan_type|cohort_id|source|\n",
       "+--------------------+------------------------+----------------------+-------------------+-----------------+-------------+---------+------+\n",
       "|a4a185a8229c07c92...|              2018-01-01|            2020-12-31|         2018-01-01|       2020-12-31|            C|  1043685|komodo|\n",
       "|a4a185a8229c07c92...|              2020-09-05|            2020-12-31|         2020-09-05|       2020-12-31|            C|  1043685|komodo|\n",
       "|a4a185a8229c07c92...|              2015-03-01|            2017-03-31|         2015-03-01|       2017-03-31|            C|  1043685|komodo|\n",
       "|a4a185a8229c07c92...|              2020-07-01|            2020-09-04|         2020-07-01|       2020-09-04|            C|  1043685|komodo|\n",
       "|a4a185a8229c07c92...|              2020-10-01|            2020-12-31|         2020-10-01|       2020-12-31|            C|  1043685|komodo|\n",
       "+--------------------+------------------------+----------------------+-------------------+-----------------+-------------+---------+------+"
      ]
     },
     "execution_count": 45,
     "metadata": {},
     "output_type": "execute_result"
    }
   ],
   "source": [
    "prm_enrol.limit(5)"
   ]
  },
  {
   "cell_type": "markdown",
   "id": "1114c2cb-d15e-47f7-a8ae-1cc86a21317b",
   "metadata": {
    "jp-MarkdownHeadingCollapsed": true,
    "tags": []
   },
   "source": [
    "### prm_payers (less important)"
   ]
  },
  {
   "cell_type": "markdown",
   "id": "d3021cf2-ea20-454a-9d4a-51586979294d",
   "metadata": {},
   "source": [
    "KEYS: \n",
    "- payer_id <> PAYER_KH_ID\n",
    "\n",
    "FEATURES:\n",
    "- payer_name: maybe extract something"
   ]
  },
  {
   "cell_type": "code",
   "execution_count": 46,
   "id": "1a6ca999-0eff-42c4-bc07-3a9306fb2ee3",
   "metadata": {},
   "outputs": [],
   "source": [
    "prm_payers = spark.read.parquet(data_path+\"prm_payers/\")"
   ]
  },
  {
   "cell_type": "code",
   "execution_count": 47,
   "id": "5fcd5fc8-612b-4e83-91bd-037645d6bfaf",
   "metadata": {},
   "outputs": [
    {
     "data": {
      "text/html": [
       "<table border='1'>\n",
       "<tr><th>payer_id</th><th>payer_name</th><th>source</th></tr>\n",
       "<tr><td>1</td><td>Medical Mutual of...</td><td>komodo</td></tr>\n",
       "<tr><td>2</td><td>ATRIO Health Plans</td><td>komodo</td></tr>\n",
       "<tr><td>4</td><td>Health New Englan...</td><td>komodo</td></tr>\n",
       "<tr><td>6</td><td>America&#x27;s 1st Cho...</td><td>komodo</td></tr>\n",
       "<tr><td>7</td><td>GlobalHealth, Inc.</td><td>komodo</td></tr>\n",
       "</table>\n"
      ],
      "text/plain": [
       "+--------+--------------------+------+\n",
       "|payer_id|          payer_name|source|\n",
       "+--------+--------------------+------+\n",
       "|       1|Medical Mutual of...|komodo|\n",
       "|       2|  ATRIO Health Plans|komodo|\n",
       "|       4|Health New Englan...|komodo|\n",
       "|       6|America's 1st Cho...|komodo|\n",
       "|       7|  GlobalHealth, Inc.|komodo|\n",
       "+--------+--------------------+------+"
      ]
     },
     "execution_count": 47,
     "metadata": {},
     "output_type": "execute_result"
    }
   ],
   "source": [
    "prm_payers.limit(5)"
   ]
  },
  {
   "cell_type": "markdown",
   "id": "a9c6ed4f-a2c3-4118-8ec5-68455bd3d262",
   "metadata": {},
   "source": [
    "## Persons"
   ]
  },
  {
   "cell_type": "markdown",
   "id": "89fc0bba-fa79-444c-89f6-47e3b3dd3977",
   "metadata": {
    "jp-MarkdownHeadingCollapsed": true,
    "tags": []
   },
   "source": [
    "### prm_persons (already used in features)"
   ]
  },
  {
   "cell_type": "markdown",
   "id": "51ef72ab-d1dd-430b-a5d2-bbf23505d08d",
   "metadata": {},
   "source": [
    "KEYS:\n",
    "- person_id (??)\n",
    "\n",
    "FEATURES:\n",
    "- px_birth_dt: calculate age\n",
    "- px_gender\n",
    "- px_location_state and px_zip3_cd: most common states"
   ]
  },
  {
   "cell_type": "code",
   "execution_count": 49,
   "id": "6be2857f-d2ef-43df-a898-84e5b9185d79",
   "metadata": {},
   "outputs": [],
   "source": [
    "prm_persons = spark.read.parquet(data_path+\"prm_persons/\")"
   ]
  },
  {
   "cell_type": "code",
   "execution_count": 51,
   "id": "ca851502-1379-48aa-bd71-b5323a17968b",
   "metadata": {},
   "outputs": [
    {
     "data": {
      "text/html": [
       "<table border='1'>\n",
       "<tr><th>px_birth_dt</th><th>px_gender</th><th>px_location_state</th><th>px_zip3_cd</th></tr>\n",
       "<tr><td>1967-12-31</td><td>M</td><td>WA</td><td>984</td></tr>\n",
       "<tr><td>1952-12-31</td><td>F</td><td>IL</td><td>611</td></tr>\n",
       "<tr><td>1953-12-31</td><td>M</td><td>NY</td><td>125</td></tr>\n",
       "<tr><td>1956-12-31</td><td>M</td><td>MA</td><td>014</td></tr>\n",
       "<tr><td>1965-12-31</td><td>M</td><td>MI</td><td>481</td></tr>\n",
       "</table>\n"
      ],
      "text/plain": [
       "+-----------+---------+-----------------+----------+\n",
       "|px_birth_dt|px_gender|px_location_state|px_zip3_cd|\n",
       "+-----------+---------+-----------------+----------+\n",
       "| 1967-12-31|        M|               WA|       984|\n",
       "| 1952-12-31|        F|               IL|       611|\n",
       "| 1953-12-31|        M|               NY|       125|\n",
       "| 1956-12-31|        M|               MA|       014|\n",
       "| 1965-12-31|        M|               MI|       481|\n",
       "+-----------+---------+-----------------+----------+"
      ]
     },
     "execution_count": 51,
     "metadata": {},
     "output_type": "execute_result"
    }
   ],
   "source": [
    "prm_persons.select(*prm_persons.columns[1:-2]).limit(5)"
   ]
  },
  {
   "cell_type": "markdown",
   "id": "84a71d0c-9d7b-47ae-be4b-e46c18bec79b",
   "metadata": {
    "jp-MarkdownHeadingCollapsed": true,
    "tags": []
   },
   "source": [
    "## Medicines"
   ]
  },
  {
   "cell_type": "markdown",
   "id": "ac839a38-0690-4478-be46-f8f87585751e",
   "metadata": {
    "tags": []
   },
   "source": [
    "### prm_prescription (less important)"
   ]
  },
  {
   "cell_type": "markdown",
   "id": "051c88a7-3f12-4fd0-a2be-c59d2f519cc8",
   "metadata": {},
   "source": [
    "KEYS:\n",
    "- person_id (??)  \n",
    "- npi_id <> HCP_1_NPI\n",
    "- date_day <> CLAIM_DATE\n",
    "\n",
    "FEATURES:\n",
    "- rx_refill_num: Maximum number of refills authorized (a lot of null and 0)\n",
    "- rx_quantity (prescribed or dispensed?): 36% NANs, hardly can be used due to different types of medicine\n",
    "- rx_drug_days_supply: Estimated number of days the dispensing will last, same number of NANs, can be used for long-lasting period features\n",
    "- rx_ndc_code: medicine code, most common ones as features, group somehow\n",
    "- rx_pharmacy_submitted_cost: a lot of NANs and zeros, can make binary feature on this"
   ]
  },
  {
   "cell_type": "code",
   "execution_count": 52,
   "id": "9f956220-d6b6-469b-9519-1f68762adbd0",
   "metadata": {},
   "outputs": [],
   "source": [
    "prm_prescription = spark.read.parquet(data_path+\"prm_prescription/\")"
   ]
  },
  {
   "cell_type": "code",
   "execution_count": 54,
   "id": "031b2b51-8007-4213-b34b-e98bb9583901",
   "metadata": {},
   "outputs": [
    {
     "data": {
      "text/html": [
       "<table border='1'>\n",
       "<tr><th>rx_refill_num</th><th>rx_quantity</th><th>rx_drug_days_supply</th><th>rx_ndc_code</th><th>rx_pharmacy_submitted_cost</th></tr>\n",
       "<tr><td>null</td><td>null</td><td>null</td><td>null</td><td>null</td></tr>\n",
       "<tr><td>null</td><td>null</td><td>null</td><td>null</td><td>null</td></tr>\n",
       "<tr><td>null</td><td>null</td><td>null</td><td>null</td><td>null</td></tr>\n",
       "<tr><td>null</td><td>null</td><td>null</td><td>null</td><td>null</td></tr>\n",
       "<tr><td>null</td><td>null</td><td>null</td><td>null</td><td>null</td></tr>\n",
       "</table>\n"
      ],
      "text/plain": [
       "+-------------+-----------+-------------------+-----------+--------------------------+\n",
       "|rx_refill_num|rx_quantity|rx_drug_days_supply|rx_ndc_code|rx_pharmacy_submitted_cost|\n",
       "+-------------+-----------+-------------------+-----------+--------------------------+\n",
       "|         null|       null|               null|       null|                      null|\n",
       "|         null|       null|               null|       null|                      null|\n",
       "|         null|       null|               null|       null|                      null|\n",
       "|         null|       null|               null|       null|                      null|\n",
       "|         null|       null|               null|       null|                      null|\n",
       "+-------------+-----------+-------------------+-----------+--------------------------+"
      ]
     },
     "execution_count": 54,
     "metadata": {},
     "output_type": "execute_result"
    }
   ],
   "source": [
    "prm_prescription.select(*prm_prescription.columns[3:-2]).limit(5)"
   ]
  },
  {
   "cell_type": "code",
   "execution_count": 61,
   "id": "f3355738-88fe-4d11-a536-bc7162e525f4",
   "metadata": {},
   "outputs": [
    {
     "name": "stderr",
     "output_type": "stream",
     "text": [
      "                                                                                \r"
     ]
    },
    {
     "data": {
      "text/html": [
       "<table border='1'>\n",
       "<tr><th>rx_ndc_code</th><th>count</th></tr>\n",
       "<tr><td>null</td><td>83464591</td></tr>\n",
       "<tr><td>00074433902</td><td>1703727</td></tr>\n",
       "<tr><td>59572063106</td><td>1125739</td></tr>\n",
       "<tr><td>59310057922</td><td>664658</td></tr>\n",
       "<tr><td>00173068220</td><td>660555</td></tr>\n",
       "<tr><td>58406044504</td><td>650129</td></tr>\n",
       "<tr><td>00078063941</td><td>528112</td></tr>\n",
       "<tr><td>00054327099</td><td>512466</td></tr>\n",
       "<tr><td>16729018317</td><td>488298</td></tr>\n",
       "<tr><td>00378001401</td><td>472144</td></tr>\n",
       "</table>\n"
      ],
      "text/plain": [
       "+-----------+--------+\n",
       "|rx_ndc_code|   count|\n",
       "+-----------+--------+\n",
       "|       null|83464591|\n",
       "|00074433902| 1703727|\n",
       "|59572063106| 1125739|\n",
       "|59310057922|  664658|\n",
       "|00173068220|  660555|\n",
       "|58406044504|  650129|\n",
       "|00078063941|  528112|\n",
       "|00054327099|  512466|\n",
       "|16729018317|  488298|\n",
       "|00378001401|  472144|\n",
       "+-----------+--------+"
      ]
     },
     "execution_count": 61,
     "metadata": {},
     "output_type": "execute_result"
    }
   ],
   "source": [
    "prm_prescription.groupBy('rx_ndc_code').count().orderBy('count', ascending=False).limit(10)"
   ]
  },
  {
   "cell_type": "code",
   "execution_count": 62,
   "id": "dbc2027a-9b13-4bbd-bfad-e1214c8e17ff",
   "metadata": {},
   "outputs": [
    {
     "name": "stderr",
     "output_type": "stream",
     "text": [
      "                                                                                \r"
     ]
    },
    {
     "data": {
      "text/html": [
       "<table border='1'>\n",
       "<tr><th>rx_pharmacy_submitted_cost</th><th>count</th></tr>\n",
       "<tr><td>null</td><td>156716687</td></tr>\n",
       "<tr><td>0.0</td><td>5834975</td></tr>\n",
       "<tr><td>4.0</td><td>827016</td></tr>\n",
       "<tr><td>10.0</td><td>807433</td></tr>\n",
       "<tr><td>20.0</td><td>481300</td></tr>\n",
       "<tr><td>15.0</td><td>424621</td></tr>\n",
       "<tr><td>12.0</td><td>420073</td></tr>\n",
       "<tr><td>40.0</td><td>371570</td></tr>\n",
       "<tr><td>18.0</td><td>368438</td></tr>\n",
       "<tr><td>30.0</td><td>364278</td></tr>\n",
       "</table>\n"
      ],
      "text/plain": [
       "+--------------------------+---------+\n",
       "|rx_pharmacy_submitted_cost|    count|\n",
       "+--------------------------+---------+\n",
       "|                      null|156716687|\n",
       "|                       0.0|  5834975|\n",
       "|                       4.0|   827016|\n",
       "|                      10.0|   807433|\n",
       "|                      20.0|   481300|\n",
       "|                      15.0|   424621|\n",
       "|                      12.0|   420073|\n",
       "|                      40.0|   371570|\n",
       "|                      18.0|   368438|\n",
       "|                      30.0|   364278|\n",
       "+--------------------------+---------+"
      ]
     },
     "execution_count": 62,
     "metadata": {},
     "output_type": "execute_result"
    }
   ],
   "source": [
    "prm_prescription.groupBy('rx_pharmacy_submitted_cost').count().orderBy('count', ascending=False).limit(10)"
   ]
  },
  {
   "cell_type": "markdown",
   "id": "0dd7e8cd-1ecb-4838-986b-10c6c3adcfd6",
   "metadata": {},
   "source": [
    "### prm_prescription_1 (same by with diagnoses)"
   ]
  },
  {
   "cell_type": "markdown",
   "id": "2ddfac2c-5b5a-4081-b369-daf068a8aa9d",
   "metadata": {},
   "source": [
    "KEYS:\n",
    "- person_id (??)  \n",
    "- npi_id <> HCP_1_NPI\n",
    "- date_day <> CLAIM_DATE\n",
    "\n",
    "FEATURES:\n",
    "- rx_refill_num: Maximum number of refills authorized (a lot of null and 0)\n",
    "- rx_quantity (prescribed or dispensed?): 36% NANs, hardly can be used due to different types of medicine\n",
    "- rx_drug_days_supply: Estimated number of days the dispensing will last, same number of NANs, can be used for long-lasting period features\n",
    "- rx_ndc_code: medicine code, most common ones as features, group somehow\n",
    "- rx_pharmacy_submitted_cost: a lot of NANs and zeros, can make binary feature on this\n",
    "- diagnosis_code_type: used to switch between ICD-9 and ICD-10 systems\n",
    "- diagnosis: actual diagnosis (like L40... for PSO)"
   ]
  },
  {
   "cell_type": "code",
   "execution_count": 63,
   "id": "366b4861-88b9-439d-84a4-736670d47bd9",
   "metadata": {},
   "outputs": [],
   "source": [
    "prm_prescription_1 = spark.read.parquet(data_path+\"prm_prescription_1/\")"
   ]
  },
  {
   "cell_type": "code",
   "execution_count": 71,
   "id": "58d9a66e-7331-49f6-942d-04a331fcfa18",
   "metadata": {},
   "outputs": [
    {
     "data": {
      "text/html": [
       "<table border='1'>\n",
       "<tr><th>rx_refill_num</th><th>rx_quantity</th><th>rx_drug_days_supply</th><th>rx_ndc_code</th><th>diagnosis_code_type</th><th>diagnosis</th><th>rx_pharmacy_submitted_cost</th></tr>\n",
       "<tr><td>null</td><td>null</td><td>null</td><td>null</td><td>null</td><td>null</td><td>null</td></tr>\n",
       "<tr><td>null</td><td>null</td><td>null</td><td>null</td><td>null</td><td>null</td><td>null</td></tr>\n",
       "<tr><td>null</td><td>null</td><td>null</td><td>null</td><td>null</td><td>null</td><td>null</td></tr>\n",
       "<tr><td>null</td><td>null</td><td>null</td><td>null</td><td>null</td><td>null</td><td>null</td></tr>\n",
       "<tr><td>null</td><td>null</td><td>null</td><td>null</td><td>null</td><td>null</td><td>null</td></tr>\n",
       "</table>\n"
      ],
      "text/plain": [
       "+-------------+-----------+-------------------+-----------+-------------------+---------+--------------------------+\n",
       "|rx_refill_num|rx_quantity|rx_drug_days_supply|rx_ndc_code|diagnosis_code_type|diagnosis|rx_pharmacy_submitted_cost|\n",
       "+-------------+-----------+-------------------+-----------+-------------------+---------+--------------------------+\n",
       "|         null|       null|               null|       null|               null|     null|                      null|\n",
       "|         null|       null|               null|       null|               null|     null|                      null|\n",
       "|         null|       null|               null|       null|               null|     null|                      null|\n",
       "|         null|       null|               null|       null|               null|     null|                      null|\n",
       "|         null|       null|               null|       null|               null|     null|                      null|\n",
       "+-------------+-----------+-------------------+-----------+-------------------+---------+--------------------------+"
      ]
     },
     "execution_count": 71,
     "metadata": {},
     "output_type": "execute_result"
    }
   ],
   "source": [
    "prm_prescription_1.select(*prm_prescription_1.columns[3:-2]).sample(fraction=.1).limit(5)"
   ]
  },
  {
   "cell_type": "code",
   "execution_count": 65,
   "id": "e48cf9b1-6b6b-4cbf-80f8-518692b98c1a",
   "metadata": {},
   "outputs": [
    {
     "name": "stderr",
     "output_type": "stream",
     "text": [
      "                                                                                \r"
     ]
    },
    {
     "data": {
      "text/plain": [
       "243192424"
      ]
     },
     "execution_count": 65,
     "metadata": {},
     "output_type": "execute_result"
    }
   ],
   "source": [
    "prm_prescription.count()"
   ]
  },
  {
   "cell_type": "code",
   "execution_count": 66,
   "id": "299e38f8-9bbf-4c6b-b60e-1d0734996f46",
   "metadata": {},
   "outputs": [
    {
     "name": "stderr",
     "output_type": "stream",
     "text": [
      "                                                                                \r"
     ]
    },
    {
     "data": {
      "text/plain": [
       "262919306"
      ]
     },
     "execution_count": 66,
     "metadata": {},
     "output_type": "execute_result"
    }
   ],
   "source": [
    "prm_prescription_1.count()"
   ]
  },
  {
   "cell_type": "code",
   "execution_count": 73,
   "id": "cf487479-6ee5-4b87-9a37-ac6aa3f2c20a",
   "metadata": {},
   "outputs": [
    {
     "data": {
      "text/plain": [
       "{'diagnosis', 'diagnosis_code_type'}"
      ]
     },
     "execution_count": 73,
     "metadata": {},
     "output_type": "execute_result"
    }
   ],
   "source": [
    "set(prm_prescription_1.columns) - set(prm_prescription.columns)"
   ]
  },
  {
   "cell_type": "code",
   "execution_count": 75,
   "id": "a0d8c504-e217-4ec2-8b04-d897a68cf442",
   "metadata": {},
   "outputs": [
    {
     "name": "stderr",
     "output_type": "stream",
     "text": [
      "                                                                                \r"
     ]
    },
    {
     "data": {
      "text/html": [
       "<table border='1'>\n",
       "<tr><th>diagnosis</th><th>count</th></tr>\n",
       "<tr><td>null</td><td>189333827</td></tr>\n",
       "<tr><td>L400</td><td>3569573</td></tr>\n",
       "<tr><td>I10</td><td>2255386</td></tr>\n",
       "<tr><td>L409</td><td>1326604</td></tr>\n",
       "<tr><td>Z23</td><td>1214918</td></tr>\n",
       "<tr><td>E119</td><td>1187498</td></tr>\n",
       "<tr><td>Z0000</td><td>1049334</td></tr>\n",
       "<tr><td>G4733</td><td>1041662</td></tr>\n",
       "<tr><td>M545</td><td>950456</td></tr>\n",
       "<tr><td>L570</td><td>620630</td></tr>\n",
       "</table>\n"
      ],
      "text/plain": [
       "+---------+---------+\n",
       "|diagnosis|    count|\n",
       "+---------+---------+\n",
       "|     null|189333827|\n",
       "|     L400|  3569573|\n",
       "|      I10|  2255386|\n",
       "|     L409|  1326604|\n",
       "|      Z23|  1214918|\n",
       "|     E119|  1187498|\n",
       "|    Z0000|  1049334|\n",
       "|    G4733|  1041662|\n",
       "|     M545|   950456|\n",
       "|     L570|   620630|\n",
       "+---------+---------+"
      ]
     },
     "execution_count": 75,
     "metadata": {},
     "output_type": "execute_result"
    }
   ],
   "source": [
    "prm_prescription_1.groupBy('diagnosis').count().orderBy('count', ascending=False).limit(10)"
   ]
  },
  {
   "cell_type": "markdown",
   "id": "d0b2c56f-3c75-478a-be0a-c17f57e9b3bf",
   "metadata": {
    "tags": []
   },
   "source": [
    "## Procedures"
   ]
  },
  {
   "cell_type": "markdown",
   "id": "abbe6d42-1fe0-4d6f-a2c0-6b2823575d38",
   "metadata": {
    "jp-MarkdownHeadingCollapsed": true,
    "tags": []
   },
   "source": [
    "### prm_procedure"
   ]
  },
  {
   "cell_type": "markdown",
   "id": "3c17e629-2786-491e-8d33-23a63a06652c",
   "metadata": {},
   "source": [
    "Differes from one in diagnoses: total procedures, not directly connected with diagnoses.\n",
    "\n",
    "KEYS:\n",
    "- person_id (??)  \n",
    "- npi_id <> HCP_1_NPI  \n",
    "- encounter_key <> ENCOUNTER_KEY  \n",
    "- vx_visit_id <> VISIT_ID  \n",
    "- date_day <> CLAIM_DATE\n",
    "\n",
    "FEATURES:\n",
    "- prm_procedure: actual procedure code, including generally a patient visit itself; lots of NANs"
   ]
  },
  {
   "cell_type": "code",
   "execution_count": 77,
   "id": "14c5a4a2-43d9-40a5-b838-a393642e8811",
   "metadata": {},
   "outputs": [],
   "source": [
    "prm_procedure = spark.read.parquet(data_path+\"prm_procedure/\")"
   ]
  },
  {
   "cell_type": "code",
   "execution_count": 79,
   "id": "dcf53d33-8e53-48b5-9c18-401773d9e553",
   "metadata": {},
   "outputs": [
    {
     "data": {
      "text/html": [
       "<table border='1'>\n",
       "<tr><th>pr_procedure_code</th></tr>\n",
       "<tr><td>32666</td></tr>\n",
       "<tr><td>null</td></tr>\n",
       "<tr><td>84132</td></tr>\n",
       "<tr><td>C9290</td></tr>\n",
       "<tr><td>J1650</td></tr>\n",
       "</table>\n"
      ],
      "text/plain": [
       "+-----------------+\n",
       "|pr_procedure_code|\n",
       "+-----------------+\n",
       "|            32666|\n",
       "|             null|\n",
       "|            84132|\n",
       "|            C9290|\n",
       "|            J1650|\n",
       "+-----------------+"
      ]
     },
     "execution_count": 79,
     "metadata": {},
     "output_type": "execute_result"
    }
   ],
   "source": [
    "prm_procedure.select('pr_procedure_code').limit(5)"
   ]
  },
  {
   "cell_type": "code",
   "execution_count": 80,
   "id": "e089304c-f099-4d47-bd84-c5e4a361efdc",
   "metadata": {},
   "outputs": [
    {
     "name": "stderr",
     "output_type": "stream",
     "text": [
      "                                                                                \r"
     ]
    },
    {
     "data": {
      "text/html": [
       "<table border='1'>\n",
       "<tr><th>pr_procedure_code</th><th>count</th></tr>\n",
       "<tr><td>99213</td><td>13096693</td></tr>\n",
       "<tr><td>null</td><td>10399906</td></tr>\n",
       "<tr><td>99214</td><td>9985317</td></tr>\n",
       "<tr><td>36415</td><td>6591494</td></tr>\n",
       "<tr><td>97110</td><td>5977433</td></tr>\n",
       "<tr><td>85025</td><td>4722394</td></tr>\n",
       "<tr><td>80053</td><td>4255693</td></tr>\n",
       "<tr><td>97140</td><td>4222912</td></tr>\n",
       "<tr><td>80061</td><td>2812859</td></tr>\n",
       "<tr><td>99212</td><td>2023420</td></tr>\n",
       "</table>\n"
      ],
      "text/plain": [
       "+-----------------+--------+\n",
       "|pr_procedure_code|   count|\n",
       "+-----------------+--------+\n",
       "|            99213|13096693|\n",
       "|             null|10399906|\n",
       "|            99214| 9985317|\n",
       "|            36415| 6591494|\n",
       "|            97110| 5977433|\n",
       "|            85025| 4722394|\n",
       "|            80053| 4255693|\n",
       "|            97140| 4222912|\n",
       "|            80061| 2812859|\n",
       "|            99212| 2023420|\n",
       "+-----------------+--------+"
      ]
     },
     "execution_count": 80,
     "metadata": {},
     "output_type": "execute_result"
    }
   ],
   "source": [
    "prm_procedure.groupBy('pr_procedure_code').count().orderBy('count', ascending=False).limit(10)"
   ]
  },
  {
   "cell_type": "markdown",
   "id": "76d97320-ca42-45de-93da-e058788479b5",
   "metadata": {
    "jp-MarkdownHeadingCollapsed": true,
    "tags": []
   },
   "source": [
    "## Providers"
   ]
  },
  {
   "cell_type": "markdown",
   "id": "82dd3716-3c8d-4ca5-b985-78fda2624b7a",
   "metadata": {},
   "source": [
    "### prm_providers"
   ]
  },
  {
   "cell_type": "markdown",
   "id": "ad736fe5-40fc-487d-8a07-27070a37b6c8",
   "metadata": {},
   "source": [
    "KEYS:\n",
    "- npi_id <> HCP_1_NPI  \n",
    "- provider_hco_id <> HCO_ID_NPI \n",
    "\n",
    "FEATURES:\n",
    "- provider_speciality_2: 78% NANs, can be used as a feature\n",
    "- provider_state: take most popular states\n",
    "- provider_type: speciality category (maybe univariant for train and test data)  \n",
    "_____\n",
    "- provider_speciality_1: speciality (maybe univariant for train and test data)\n",
    "- provider_middle_name, provider_first_name, provider_last_name seem useless\n",
    "- provider_deactivation_dt and provider_reactivation_dt: NANs only, useless"
   ]
  },
  {
   "cell_type": "code",
   "execution_count": 82,
   "id": "486f2b1a-0110-45a5-afd8-b97eccd7b9af",
   "metadata": {},
   "outputs": [],
   "source": [
    "prm_providers = spark.read.parquet(data_path+\"prm_providers/\")"
   ]
  },
  {
   "cell_type": "code",
   "execution_count": 85,
   "id": "cb6ffe1f-56a6-43b9-b9e1-fa450573f680",
   "metadata": {},
   "outputs": [
    {
     "data": {
      "text/html": [
       "<table border='1'>\n",
       "<tr><th>provider_speciality_1</th><th>provider_speciality_2</th><th>provider_state</th><th>provider_type</th><th>provider_first_name</th><th>provider_middle_name</th><th>provider_last_name</th><th>provider_deactivation_dt</th><th>provider_reactivation_dt</th></tr>\n",
       "<tr><td>Assistive Therapy</td><td>null</td><td>WI</td><td>Assistive Therapy</td><td>Melanie</td><td>null</td><td>Maske</td><td>null</td><td>null</td></tr>\n",
       "<tr><td>Nurse Practitioner</td><td>null</td><td>OH</td><td>Advanced Practice...</td><td>Brenda</td><td>null</td><td>Hamer</td><td>null</td><td>null</td></tr>\n",
       "<tr><td>Internal Medicine</td><td>null</td><td>CA</td><td>Physician</td><td>Maggie</td><td>null</td><td>Wang</td><td>null</td><td>null</td></tr>\n",
       "<tr><td>Surgery, General</td><td>null</td><td>PA</td><td>Physician</td><td>Jasmine</td><td>null</td><td>Kashkoush</td><td>null</td><td>null</td></tr>\n",
       "<tr><td>Family Practice</td><td>null</td><td>NY</td><td>Physician</td><td>Ranier</td><td>null</td><td>Horton</td><td>null</td><td>null</td></tr>\n",
       "</table>\n"
      ],
      "text/plain": [
       "+---------------------+---------------------+--------------+--------------------+-------------------+--------------------+------------------+------------------------+------------------------+\n",
       "|provider_speciality_1|provider_speciality_2|provider_state|       provider_type|provider_first_name|provider_middle_name|provider_last_name|provider_deactivation_dt|provider_reactivation_dt|\n",
       "+---------------------+---------------------+--------------+--------------------+-------------------+--------------------+------------------+------------------------+------------------------+\n",
       "|    Assistive Therapy|                 null|            WI|   Assistive Therapy|            Melanie|                null|             Maske|                    null|                    null|\n",
       "|   Nurse Practitioner|                 null|            OH|Advanced Practice...|             Brenda|                null|             Hamer|                    null|                    null|\n",
       "|    Internal Medicine|                 null|            CA|           Physician|             Maggie|                null|              Wang|                    null|                    null|\n",
       "|     Surgery, General|                 null|            PA|           Physician|            Jasmine|                null|         Kashkoush|                    null|                    null|\n",
       "|      Family Practice|                 null|            NY|           Physician|             Ranier|                null|            Horton|                    null|                    null|\n",
       "+---------------------+---------------------+--------------+--------------------+-------------------+--------------------+------------------+------------------------+------------------------+"
      ]
     },
     "execution_count": 85,
     "metadata": {},
     "output_type": "execute_result"
    }
   ],
   "source": [
    "prm_providers.select(*prm_providers.columns[1:5], *prm_providers.columns[6:-2]).limit(5)"
   ]
  },
  {
   "cell_type": "code",
   "execution_count": 88,
   "id": "d8a44114-2111-40a7-9232-682ad16617cd",
   "metadata": {},
   "outputs": [
    {
     "data": {
      "text/plain": [
       "2362586"
      ]
     },
     "execution_count": 88,
     "metadata": {},
     "output_type": "execute_result"
    }
   ],
   "source": [
    "prm_providers.count()"
   ]
  },
  {
   "cell_type": "code",
   "execution_count": 86,
   "id": "21c82447-ba87-4cc8-a8de-10fe457f050e",
   "metadata": {},
   "outputs": [
    {
     "data": {
      "text/html": [
       "<table border='1'>\n",
       "<tr><th>provider_speciality_1</th><th>count</th></tr>\n",
       "<tr><td>Nurse Practitioner</td><td>236110</td></tr>\n",
       "<tr><td>Behavioral Care</td><td>190545</td></tr>\n",
       "<tr><td>Dentist</td><td>175407</td></tr>\n",
       "<tr><td>Physician Assistant</td><td>155494</td></tr>\n",
       "<tr><td>Assistive Therapy</td><td>150835</td></tr>\n",
       "<tr><td>Family Practice</td><td>112248</td></tr>\n",
       "<tr><td>Internal Medicine</td><td>103820</td></tr>\n",
       "<tr><td>Pharmacology</td><td>100115</td></tr>\n",
       "<tr><td>Advanced Practice...</td><td>84749</td></tr>\n",
       "<tr><td>Emergency Medicine</td><td>69136</td></tr>\n",
       "</table>\n"
      ],
      "text/plain": [
       "+---------------------+------+\n",
       "|provider_speciality_1| count|\n",
       "+---------------------+------+\n",
       "|   Nurse Practitioner|236110|\n",
       "|      Behavioral Care|190545|\n",
       "|              Dentist|175407|\n",
       "|  Physician Assistant|155494|\n",
       "|    Assistive Therapy|150835|\n",
       "|      Family Practice|112248|\n",
       "|    Internal Medicine|103820|\n",
       "|         Pharmacology|100115|\n",
       "| Advanced Practice...| 84749|\n",
       "|   Emergency Medicine| 69136|\n",
       "+---------------------+------+"
      ]
     },
     "execution_count": 86,
     "metadata": {},
     "output_type": "execute_result"
    }
   ],
   "source": [
    "prm_providers.groupBy('provider_speciality_1').count().orderBy('count', ascending=False).limit(10)"
   ]
  },
  {
   "cell_type": "code",
   "execution_count": 87,
   "id": "1212a83f-d766-49dd-b85b-3fe7e6ecee79",
   "metadata": {},
   "outputs": [
    {
     "data": {
      "text/html": [
       "<table border='1'>\n",
       "<tr><th>provider_speciality_2</th><th>count</th></tr>\n",
       "<tr><td>null</td><td>1836626</td></tr>\n",
       "<tr><td>Advanced Practice...</td><td>174736</td></tr>\n",
       "<tr><td>Internal Medicine</td><td>114405</td></tr>\n",
       "<tr><td>Nurse Practitioner</td><td>69876</td></tr>\n",
       "<tr><td>Family Practice</td><td>32637</td></tr>\n",
       "<tr><td>Pediatrics</td><td>22373</td></tr>\n",
       "<tr><td>Surgery, General</td><td>8349</td></tr>\n",
       "<tr><td>Cardiology</td><td>7022</td></tr>\n",
       "<tr><td>Psychiatry, Child...</td><td>5041</td></tr>\n",
       "<tr><td>General Practice</td><td>4570</td></tr>\n",
       "</table>\n"
      ],
      "text/plain": [
       "+---------------------+-------+\n",
       "|provider_speciality_2|  count|\n",
       "+---------------------+-------+\n",
       "|                 null|1836626|\n",
       "| Advanced Practice...| 174736|\n",
       "|    Internal Medicine| 114405|\n",
       "|   Nurse Practitioner|  69876|\n",
       "|      Family Practice|  32637|\n",
       "|           Pediatrics|  22373|\n",
       "|     Surgery, General|   8349|\n",
       "|           Cardiology|   7022|\n",
       "| Psychiatry, Child...|   5041|\n",
       "|     General Practice|   4570|\n",
       "+---------------------+-------+"
      ]
     },
     "execution_count": 87,
     "metadata": {},
     "output_type": "execute_result"
    }
   ],
   "source": [
    "prm_providers.groupBy('provider_speciality_2').count().orderBy('count', ascending=False).limit(10)"
   ]
  },
  {
   "cell_type": "code",
   "execution_count": 91,
   "id": "9210ac49-073f-4fb8-8eb2-2f4ac45c3ef7",
   "metadata": {},
   "outputs": [
    {
     "name": "stderr",
     "output_type": "stream",
     "text": [
      "                                                                                \r"
     ]
    },
    {
     "data": {
      "text/html": [
       "<table border='1'>\n",
       "<tr><th>provider_state</th><th>count</th></tr>\n",
       "<tr><td>CA</td><td>241697</td></tr>\n",
       "<tr><td>NY</td><td>183479</td></tr>\n",
       "<tr><td>TX</td><td>163005</td></tr>\n",
       "<tr><td>FL</td><td>151583</td></tr>\n",
       "<tr><td>PA</td><td>107923</td></tr>\n",
       "<tr><td>OH</td><td>96632</td></tr>\n",
       "<tr><td>IL</td><td>93464</td></tr>\n",
       "<tr><td>MI</td><td>78860</td></tr>\n",
       "<tr><td>MA</td><td>73032</td></tr>\n",
       "<tr><td>NC</td><td>72037</td></tr>\n",
       "</table>\n"
      ],
      "text/plain": [
       "+--------------+------+\n",
       "|provider_state| count|\n",
       "+--------------+------+\n",
       "|            CA|241697|\n",
       "|            NY|183479|\n",
       "|            TX|163005|\n",
       "|            FL|151583|\n",
       "|            PA|107923|\n",
       "|            OH| 96632|\n",
       "|            IL| 93464|\n",
       "|            MI| 78860|\n",
       "|            MA| 73032|\n",
       "|            NC| 72037|\n",
       "+--------------+------+"
      ]
     },
     "execution_count": 91,
     "metadata": {},
     "output_type": "execute_result"
    }
   ],
   "source": [
    "prm_providers.groupBy('provider_state').count().orderBy('count', ascending=False).limit(10)"
   ]
  },
  {
   "cell_type": "code",
   "execution_count": 92,
   "id": "1204aa11-eb0c-4beb-86a9-6ec5026b09a6",
   "metadata": {},
   "outputs": [
    {
     "data": {
      "text/html": [
       "<table border='1'>\n",
       "<tr><th>provider_type</th><th>count</th></tr>\n",
       "<tr><td>Physician</td><td>1036782</td></tr>\n",
       "<tr><td>Advanced Practice...</td><td>385279</td></tr>\n",
       "<tr><td>Behavioral Care</td><td>191015</td></tr>\n",
       "<tr><td>Dentist</td><td>175748</td></tr>\n",
       "<tr><td>Physician Assistant</td><td>155088</td></tr>\n",
       "<tr><td>Assistive Therapy</td><td>150764</td></tr>\n",
       "<tr><td>Pharmacology</td><td>100135</td></tr>\n",
       "<tr><td>Chiropractor</td><td>54580</td></tr>\n",
       "<tr><td>Optometrist</td><td>50113</td></tr>\n",
       "<tr><td>Podiatrist</td><td>19866</td></tr>\n",
       "</table>\n"
      ],
      "text/plain": [
       "+--------------------+-------+\n",
       "|       provider_type|  count|\n",
       "+--------------------+-------+\n",
       "|           Physician|1036782|\n",
       "|Advanced Practice...| 385279|\n",
       "|     Behavioral Care| 191015|\n",
       "|             Dentist| 175748|\n",
       "| Physician Assistant| 155088|\n",
       "|   Assistive Therapy| 150764|\n",
       "|        Pharmacology| 100135|\n",
       "|        Chiropractor|  54580|\n",
       "|         Optometrist|  50113|\n",
       "|          Podiatrist|  19866|\n",
       "+--------------------+-------+"
      ]
     },
     "execution_count": 92,
     "metadata": {},
     "output_type": "execute_result"
    }
   ],
   "source": [
    "prm_providers.groupBy('provider_type').count().orderBy('count', ascending=False).limit(10)"
   ]
  },
  {
   "cell_type": "code",
   "execution_count": 93,
   "id": "f97dfcf0-2fda-4ed7-9535-5e2380ec3545",
   "metadata": {},
   "outputs": [
    {
     "data": {
      "text/plain": [
       "18"
      ]
     },
     "execution_count": 93,
     "metadata": {},
     "output_type": "execute_result"
    }
   ],
   "source": [
    "prm_providers.select('provider_type').distinct().count()"
   ]
  },
  {
   "cell_type": "code",
   "execution_count": 98,
   "id": "68c460e3-d243-4b97-be56-3c239a4782c7",
   "metadata": {},
   "outputs": [
    {
     "data": {
      "text/html": [
       "<table border='1'>\n",
       "<tr><th>provider_reactivation_dt</th><th>count</th></tr>\n",
       "<tr><td>null</td><td>2362586</td></tr>\n",
       "</table>\n"
      ],
      "text/plain": [
       "+------------------------+-------+\n",
       "|provider_reactivation_dt|  count|\n",
       "+------------------------+-------+\n",
       "|                    null|2362586|\n",
       "+------------------------+-------+"
      ]
     },
     "execution_count": 98,
     "metadata": {},
     "output_type": "execute_result"
    }
   ],
   "source": [
    "prm_providers.groupBy('provider_reactivation_dt').count().orderBy('count', ascending=False).limit(10)"
   ]
  },
  {
   "cell_type": "markdown",
   "id": "f60abb28-6315-4039-a232-7ae9c73d2551",
   "metadata": {},
   "source": [
    "## Visits"
   ]
  },
  {
   "cell_type": "markdown",
   "id": "4479232e-60ef-44e6-9906-2e5f75dc105c",
   "metadata": {},
   "source": [
    "### prm_visit (already used in features)"
   ]
  },
  {
   "cell_type": "markdown",
   "id": "46c2b819-0f53-47fb-b8c0-cd36ef7ccfe7",
   "metadata": {},
   "source": [
    "KEYS:\n",
    "- person_id (??)  \n",
    "- vx_provider_id <> HCP_1_NPI\n",
    "- vx_visit_id <> VISIT_ID\n",
    "\n",
    "FEATURES:\n",
    "- vx_visit_type: visit category type (8 + NANs)"
   ]
  },
  {
   "cell_type": "code",
   "execution_count": 99,
   "id": "34a020cd-f7ac-4a60-80af-e73ce3016287",
   "metadata": {},
   "outputs": [],
   "source": [
    "prm_visit = spark.read.parquet(data_path+\"prm_visit/\")"
   ]
  },
  {
   "cell_type": "code",
   "execution_count": 101,
   "id": "5eddc357-263d-455d-afc5-55e74fef55da",
   "metadata": {},
   "outputs": [
    {
     "data": {
      "text/html": [
       "<table border='1'>\n",
       "<tr><th>vx_visit_type</th><th>vx_visit_start_date</th><th>vx_visit_end_date</th></tr>\n",
       "<tr><td>Inpatient Visit</td><td>2015-10-07</td><td>2015-10-08</td></tr>\n",
       "<tr><td>Inpatient Visit</td><td>2015-10-07</td><td>2015-10-08</td></tr>\n",
       "<tr><td>Inpatient Visit</td><td>2015-10-07</td><td>2015-10-08</td></tr>\n",
       "<tr><td>Inpatient Visit</td><td>2015-10-07</td><td>2015-10-08</td></tr>\n",
       "<tr><td>Inpatient Visit</td><td>2015-10-07</td><td>2015-10-08</td></tr>\n",
       "</table>\n"
      ],
      "text/plain": [
       "+---------------+-------------------+-----------------+\n",
       "|  vx_visit_type|vx_visit_start_date|vx_visit_end_date|\n",
       "+---------------+-------------------+-----------------+\n",
       "|Inpatient Visit|         2015-10-07|       2015-10-08|\n",
       "|Inpatient Visit|         2015-10-07|       2015-10-08|\n",
       "|Inpatient Visit|         2015-10-07|       2015-10-08|\n",
       "|Inpatient Visit|         2015-10-07|       2015-10-08|\n",
       "|Inpatient Visit|         2015-10-07|       2015-10-08|\n",
       "+---------------+-------------------+-----------------+"
      ]
     },
     "execution_count": 101,
     "metadata": {},
     "output_type": "execute_result"
    }
   ],
   "source": [
    "prm_visit.select(*prm_visit.columns[3:-2]).limit(5)"
   ]
  },
  {
   "cell_type": "code",
   "execution_count": 104,
   "id": "4df7f10a-2971-4fe9-b66d-daea461c11ed",
   "metadata": {},
   "outputs": [
    {
     "name": "stderr",
     "output_type": "stream",
     "text": [
      "                                                                                \r"
     ]
    },
    {
     "data": {
      "text/html": [
       "<table border='1'>\n",
       "<tr><th>vx_visit_type</th><th>count</th></tr>\n",
       "<tr><td>Outpatient Visit</td><td>99999273</td></tr>\n",
       "<tr><td>Inpatient Visit</td><td>45448617</td></tr>\n",
       "<tr><td>Laboratory Visit</td><td>6199750</td></tr>\n",
       "<tr><td>Home Visit</td><td>4795991</td></tr>\n",
       "<tr><td>null</td><td>3481864</td></tr>\n",
       "<tr><td>Emergency Room Visit</td><td>2434933</td></tr>\n",
       "<tr><td>Non-hospital inst...</td><td>1646760</td></tr>\n",
       "<tr><td>Ambulance Visit</td><td>396723</td></tr>\n",
       "<tr><td>Pharmacy Visit</td><td>28518</td></tr>\n",
       "</table>\n"
      ],
      "text/plain": [
       "+--------------------+--------+\n",
       "|       vx_visit_type|   count|\n",
       "+--------------------+--------+\n",
       "|    Outpatient Visit|99999273|\n",
       "|     Inpatient Visit|45448617|\n",
       "|    Laboratory Visit| 6199750|\n",
       "|          Home Visit| 4795991|\n",
       "|                null| 3481864|\n",
       "|Emergency Room Visit| 2434933|\n",
       "|Non-hospital inst...| 1646760|\n",
       "|     Ambulance Visit|  396723|\n",
       "|      Pharmacy Visit|   28518|\n",
       "+--------------------+--------+"
      ]
     },
     "execution_count": 104,
     "metadata": {},
     "output_type": "execute_result"
    }
   ],
   "source": [
    "prm_visit.groupBy('vx_visit_type').count().orderBy('count', ascending=False)"
   ]
  },
  {
   "cell_type": "code",
   "execution_count": null,
   "id": "a88f4fc3-3fa0-4f9f-85d5-c889971216c3",
   "metadata": {},
   "outputs": [],
   "source": [
    "spark.stop()"
   ]
  },
  {
   "cell_type": "code",
   "execution_count": null,
   "id": "40f57e4f-fa38-4dc9-9107-af062a9b2ea0",
   "metadata": {},
   "outputs": [],
   "source": []
  }
 ],
 "metadata": {
  "kernelspec": {
   "display_name": "Python 3.9",
   "language": "python",
   "name": "python3"
  },
  "language_info": {
   "codemirror_mode": {
    "name": "ipython",
    "version": 3
   },
   "file_extension": ".py",
   "mimetype": "text/x-python",
   "name": "python",
   "nbconvert_exporter": "python",
   "pygments_lexer": "ipython3",
   "version": "3.9.7"
  }
 },
 "nbformat": 4,
 "nbformat_minor": 5
}

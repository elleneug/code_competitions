{
 "cells": [
  {
   "cell_type": "markdown",
   "id": "69e3ea31-24cc-45db-9b49-ec4f27b0696a",
   "metadata": {},
   "source": [
    "### This notebook combines, target for train dataset"
   ]
  },
  {
   "cell_type": "code",
   "execution_count": 2,
   "id": "09d71daa-6489-44d7-a909-65a0dc0aa2e2",
   "metadata": {},
   "outputs": [
    {
     "ename": "ModuleNotFoundError",
     "evalue": "No module named 'pyspark'",
     "output_type": "error",
     "traceback": [
      "\u001b[0;31m---------------------------------------------------------------------------\u001b[0m",
      "\u001b[0;31mModuleNotFoundError\u001b[0m                       Traceback (most recent call last)",
      "\u001b[0;32m/tmp/ipykernel_142/2154577528.py\u001b[0m in \u001b[0;36m<module>\u001b[0;34m\u001b[0m\n\u001b[0;32m----> 1\u001b[0;31m \u001b[0;32mfrom\u001b[0m \u001b[0mpyspark\u001b[0m\u001b[0;34m.\u001b[0m\u001b[0msql\u001b[0m \u001b[0;32mimport\u001b[0m \u001b[0mSparkSession\u001b[0m\u001b[0;34m\u001b[0m\u001b[0;34m\u001b[0m\u001b[0m\n\u001b[0m\u001b[1;32m      2\u001b[0m \u001b[0;32mfrom\u001b[0m \u001b[0mpyspark\u001b[0m\u001b[0;34m.\u001b[0m\u001b[0msql\u001b[0m \u001b[0;32mimport\u001b[0m \u001b[0mfunctions\u001b[0m \u001b[0;32mas\u001b[0m \u001b[0mf\u001b[0m\u001b[0;34m\u001b[0m\u001b[0;34m\u001b[0m\u001b[0m\n\u001b[1;32m      3\u001b[0m \u001b[0;32mfrom\u001b[0m \u001b[0mpyspark\u001b[0m\u001b[0;34m.\u001b[0m\u001b[0msql\u001b[0m\u001b[0;34m.\u001b[0m\u001b[0mwindow\u001b[0m \u001b[0;32mimport\u001b[0m \u001b[0mWindow\u001b[0m \u001b[0;32mas\u001b[0m \u001b[0mw\u001b[0m\u001b[0;34m\u001b[0m\u001b[0;34m\u001b[0m\u001b[0m\n\u001b[1;32m      4\u001b[0m \u001b[0;32mimport\u001b[0m \u001b[0mpandas\u001b[0m \u001b[0;32mas\u001b[0m \u001b[0mpd\u001b[0m\u001b[0;34m\u001b[0m\u001b[0;34m\u001b[0m\u001b[0m\n\u001b[1;32m      5\u001b[0m \u001b[0mpd\u001b[0m\u001b[0;34m.\u001b[0m\u001b[0mset_option\u001b[0m\u001b[0;34m(\u001b[0m\u001b[0;34m'display.max_columns'\u001b[0m\u001b[0;34m,\u001b[0m \u001b[0;32mNone\u001b[0m\u001b[0;34m)\u001b[0m\u001b[0;34m\u001b[0m\u001b[0;34m\u001b[0m\u001b[0m\n",
      "\u001b[0;31mModuleNotFoundError\u001b[0m: No module named 'pyspark'"
     ]
    }
   ],
   "source": [
    "from pyspark.sql import SparkSession\n",
    "from pyspark.sql import functions as f\n",
    "from pyspark.sql.window import Window as w\n",
    "import pandas as pd\n",
    "pd.set_option('display.max_columns', None)\n",
    "\n",
    "import warnings\n",
    "warnings.filterwarnings(\"ignore\")\n",
    "\n",
    "spark = (\n",
    "    SparkSession.builder\n",
    "    .config(\"spark.driver.memory\",\"100g\")\n",
    "    .config(\"spark.hadoop.fs.s3a.impl\",\"org.apache.hadoop.fs.s3a.S3AFileSystem\")\n",
    "    .config(\"spark.jars.packages\",\"org.apache.hadoop:hadoop-aws:3.2.2\")\n",
    "    .config(\"fs.s3a.aws.credentials.provider\",\"com.amazonaws.auth.DefaultAWSCredentialsProviderChain\")\n",
    "    .config(\"spark.driver.maxResultSize\",0)\n",
    "    # .config('spark.hadoop.io.compression.codecs', 'nl.basjes.hadoop.io.compress.SplittableGzipCodec')\n",
    "    .getOrCreate()\n",
    ")\n",
    "spark.conf.set(\"spark.sql.repl.eagerEval.enabled\", True)\n",
    "spark.conf.set(\"spark.hadoop.io.compression.codecs\", \"org.apache.hadoop.io.compress.BZip2Codec\")\n",
    "\n",
    "s3_bucket_spark = \"s3a://820323602090-team-dbad373c-7e36-407b-8690-05a44b804f43\"\n",
    "s3_bucket_pandas = \"s3a://820323602090-team-dbad373c-7e36-407b-8690-05a44b804f43\""
   ]
  },
  {
   "cell_type": "code",
   "execution_count": 2,
   "id": "237580ce-a82f-4368-abe1-18b99bc66cbd",
   "metadata": {},
   "outputs": [
    {
     "name": "stdout",
     "output_type": "stream",
     "text": [
      "                           PRE negative/\n",
      "                           PRE positive/\n"
     ]
    }
   ],
   "source": [
    "!aws s3 ls $team_bucket/data/hcp_universe/tremfya/"
   ]
  },
  {
   "cell_type": "code",
   "execution_count": 21,
   "id": "e0d8c809-b211-41db-9ced-20fcc452dd68",
   "metadata": {},
   "outputs": [
    {
     "name": "stdout",
     "output_type": "stream",
     "text": [
      "+-------+------------+-----------+----------------+------+\n",
      "|   DRUG|PROVIDER_NPI| SPECIALTY1|      SPECIALTY2|target|\n",
      "+-------+------------+-----------+----------------+------+\n",
      "|Tremfya|  1447200845|Dermatology|            null|     1|\n",
      "|Tremfya|  1629041728|Dermatology|            null|     1|\n",
      "|Tremfya|  1306014550|Dermatology|            null|     1|\n",
      "|Tremfya|  1578777017|Dermatology|            null|     1|\n",
      "|Tremfya|  1124078902|Dermatology|Surgery, General|     1|\n",
      "+-------+------------+-----------+----------------+------+\n",
      "only showing top 5 rows\n",
      "\n"
     ]
    }
   ],
   "source": [
    "positive = spark.read.parquet(s3_bucket_spark+\"/data/hcp_universe/tremfya/positive/\").withColumn('target', f.lit(1))\n",
    "negative = spark.read.parquet(s3_bucket_spark+\"/data/hcp_universe/tremfya/negative/\").withColumn('target', f.lit(0))\n",
    "\n",
    "target = positive.union(negative).dropDuplicates()\n",
    "target.show(5)"
   ]
  },
  {
   "cell_type": "code",
   "execution_count": 22,
   "id": "1db89e27-cfa5-4e66-a5d0-241ebb67b035",
   "metadata": {},
   "outputs": [
    {
     "data": {
      "text/html": [
       "<table border='1'>\n",
       "<tr><th>target</th><th>count</th></tr>\n",
       "<tr><td>1</td><td>1853</td></tr>\n",
       "<tr><td>0</td><td>10916</td></tr>\n",
       "</table>\n"
      ],
      "text/plain": [
       "+------+-----+\n",
       "|target|count|\n",
       "+------+-----+\n",
       "|     1| 1853|\n",
       "|     0|10916|\n",
       "+------+-----+"
      ]
     },
     "execution_count": 22,
     "metadata": {},
     "output_type": "execute_result"
    }
   ],
   "source": [
    "target.groupBy('target').count()"
   ]
  },
  {
   "cell_type": "code",
   "execution_count": 17,
   "id": "92926b6a-ef29-482f-a84a-42c1782b2d46",
   "metadata": {},
   "outputs": [
    {
     "data": {
      "text/plain": [
       "12769"
      ]
     },
     "execution_count": 17,
     "metadata": {},
     "output_type": "execute_result"
    }
   ],
   "source": [
    "target.select('PROVIDER_NPI').distinct().count()"
   ]
  },
  {
   "cell_type": "code",
   "execution_count": 24,
   "id": "edd14a73-57ff-4743-8065-877410652df3",
   "metadata": {},
   "outputs": [],
   "source": [
    "target = target.select('PROVIDER_NPI', 'SPECIALTY2', 'target')"
   ]
  },
  {
   "cell_type": "code",
   "execution_count": 25,
   "id": "c9ff3d50-0517-4e8f-ad9f-b255795f8535",
   "metadata": {},
   "outputs": [
    {
     "name": "stdout",
     "output_type": "stream",
     "text": [
      "+------------+----------------+------+\n",
      "|PROVIDER_NPI|      SPECIALTY2|target|\n",
      "+------------+----------------+------+\n",
      "|  1447200845|            null|     1|\n",
      "|  1629041728|            null|     1|\n",
      "|  1306014550|            null|     1|\n",
      "|  1578777017|            null|     1|\n",
      "|  1124078902|Surgery, General|     1|\n",
      "+------------+----------------+------+\n",
      "only showing top 5 rows\n",
      "\n"
     ]
    }
   ],
   "source": [
    "target.show(5)"
   ]
  },
  {
   "cell_type": "code",
   "execution_count": 27,
   "id": "a85c970b-07fa-4bbb-a4f9-f4388dadbff9",
   "metadata": {},
   "outputs": [],
   "source": [
    "target.write.parquet('../data/02_intermediate/train_target.parquet')\n",
    "spark.stop()"
   ]
  },
  {
   "cell_type": "code",
   "execution_count": 32,
   "id": "5fc7006b-ff1a-4474-8f14-b22e0a82fd47",
   "metadata": {},
   "outputs": [
    {
     "data": {
      "text/html": [
       "<div>\n",
       "<style scoped>\n",
       "    .dataframe tbody tr th:only-of-type {\n",
       "        vertical-align: middle;\n",
       "    }\n",
       "\n",
       "    .dataframe tbody tr th {\n",
       "        vertical-align: top;\n",
       "    }\n",
       "\n",
       "    .dataframe thead th {\n",
       "        text-align: right;\n",
       "    }\n",
       "</style>\n",
       "<table border=\"1\" class=\"dataframe\">\n",
       "  <thead>\n",
       "    <tr style=\"text-align: right;\">\n",
       "      <th></th>\n",
       "      <th>PROVIDER_NPI</th>\n",
       "      <th>SPECIALTY2</th>\n",
       "      <th>target</th>\n",
       "    </tr>\n",
       "  </thead>\n",
       "  <tbody>\n",
       "    <tr>\n",
       "      <th>0</th>\n",
       "      <td>1447200845</td>\n",
       "      <td>None</td>\n",
       "      <td>1</td>\n",
       "    </tr>\n",
       "    <tr>\n",
       "      <th>1</th>\n",
       "      <td>1629041728</td>\n",
       "      <td>None</td>\n",
       "      <td>1</td>\n",
       "    </tr>\n",
       "    <tr>\n",
       "      <th>2</th>\n",
       "      <td>1306014550</td>\n",
       "      <td>None</td>\n",
       "      <td>1</td>\n",
       "    </tr>\n",
       "    <tr>\n",
       "      <th>3</th>\n",
       "      <td>1578777017</td>\n",
       "      <td>None</td>\n",
       "      <td>1</td>\n",
       "    </tr>\n",
       "    <tr>\n",
       "      <th>4</th>\n",
       "      <td>1124078902</td>\n",
       "      <td>Surgery, General</td>\n",
       "      <td>1</td>\n",
       "    </tr>\n",
       "    <tr>\n",
       "      <th>...</th>\n",
       "      <td>...</td>\n",
       "      <td>...</td>\n",
       "      <td>...</td>\n",
       "    </tr>\n",
       "    <tr>\n",
       "      <th>12764</th>\n",
       "      <td>1821059395</td>\n",
       "      <td>None</td>\n",
       "      <td>0</td>\n",
       "    </tr>\n",
       "    <tr>\n",
       "      <th>12765</th>\n",
       "      <td>1467566208</td>\n",
       "      <td>Surgery, General</td>\n",
       "      <td>0</td>\n",
       "    </tr>\n",
       "    <tr>\n",
       "      <th>12766</th>\n",
       "      <td>1689833857</td>\n",
       "      <td>None</td>\n",
       "      <td>0</td>\n",
       "    </tr>\n",
       "    <tr>\n",
       "      <th>12767</th>\n",
       "      <td>1861727802</td>\n",
       "      <td>Family Practice</td>\n",
       "      <td>0</td>\n",
       "    </tr>\n",
       "    <tr>\n",
       "      <th>12768</th>\n",
       "      <td>1518915057</td>\n",
       "      <td>None</td>\n",
       "      <td>0</td>\n",
       "    </tr>\n",
       "  </tbody>\n",
       "</table>\n",
       "<p>12769 rows × 3 columns</p>\n",
       "</div>"
      ],
      "text/plain": [
       "      PROVIDER_NPI        SPECIALTY2  target\n",
       "0       1447200845              None       1\n",
       "1       1629041728              None       1\n",
       "2       1306014550              None       1\n",
       "3       1578777017              None       1\n",
       "4       1124078902  Surgery, General       1\n",
       "...            ...               ...     ...\n",
       "12764   1821059395              None       0\n",
       "12765   1467566208  Surgery, General       0\n",
       "12766   1689833857              None       0\n",
       "12767   1861727802   Family Practice       0\n",
       "12768   1518915057              None       0\n",
       "\n",
       "[12769 rows x 3 columns]"
      ]
     },
     "execution_count": 32,
     "metadata": {},
     "output_type": "execute_result"
    }
   ],
   "source": [
    "import pandas as pd\n",
    "tgt = pd.read_parquet('../data/02_intermediate/train_target.parquet/')\n",
    "tgt"
   ]
  },
  {
   "cell_type": "code",
   "execution_count": 33,
   "id": "ef3cc754-ca5f-4c90-8baf-ca45183f2631",
   "metadata": {},
   "outputs": [
    {
     "data": {
      "text/plain": [
       "0.14511708042916438"
      ]
     },
     "execution_count": 33,
     "metadata": {},
     "output_type": "execute_result"
    }
   ],
   "source": [
    "tgt.target.mean()"
   ]
  },
  {
   "cell_type": "code",
   "execution_count": null,
   "id": "eb5c01e4-4a35-4fba-8805-bfefe90c1175",
   "metadata": {},
   "outputs": [],
   "source": []
  }
 ],
 "metadata": {
  "kernelspec": {
   "display_name": "Python 3.9",
   "language": "python",
   "name": "python3"
  },
  "language_info": {
   "codemirror_mode": {
    "name": "ipython",
    "version": 3
   },
   "file_extension": ".py",
   "mimetype": "text/x-python",
   "name": "python",
   "nbconvert_exporter": "python",
   "pygments_lexer": "ipython3",
   "version": "3.9.7"
  }
 },
 "nbformat": 4,
 "nbformat_minor": 5
}

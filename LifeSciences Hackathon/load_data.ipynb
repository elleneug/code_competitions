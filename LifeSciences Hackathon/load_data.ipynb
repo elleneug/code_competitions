{
 "cells": [
  {
   "cell_type": "markdown",
   "id": "cd1b65b9-2e6b-479f-af46-a426c95a351f",
   "metadata": {},
   "source": [
    "# template notebook to load data\n",
    "- (option 1) load from S3 path\n",
    "- (option 2) load from kedro"
   ]
  },
  {
   "cell_type": "markdown",
   "id": "80db0454-5242-476a-81fa-68ec4e8a5378",
   "metadata": {},
   "source": [
    "## Load data from S3 path\n",
    "- make sure spark is installed"
   ]
  },
  {
   "cell_type": "code",
   "execution_count": 1,
   "id": "d88dcf7e-676d-4e1f-9423-0d405b65039b",
   "metadata": {},
   "outputs": [
    {
     "name": "stderr",
     "output_type": "stream",
     "text": [
      "Warning: Ignoring non-Spark config property: fs.s3a.aws.credentials.provider\n"
     ]
    },
    {
     "name": "stdout",
     "output_type": "stream",
     "text": [
      ":: loading settings :: url = jar:file:/home/jovyan/.conda/envs/python3/lib/python3.9/site-packages/pyspark/jars/ivy-2.5.1.jar!/org/apache/ivy/core/settings/ivysettings.xml\n"
     ]
    },
    {
     "name": "stderr",
     "output_type": "stream",
     "text": [
      "Ivy Default Cache set to: /home/jovyan/.ivy2/cache\n",
      "The jars for the packages stored in: /home/jovyan/.ivy2/jars\n",
      "org.apache.hadoop#hadoop-aws added as a dependency\n",
      ":: resolving dependencies :: org.apache.spark#spark-submit-parent-fe1e2c19-6ef1-46a7-a2aa-16e0f12386c5;1.0\n",
      "\tconfs: [default]\n",
      "\tfound org.apache.hadoop#hadoop-aws;3.2.2 in central\n",
      "\tfound com.amazonaws#aws-java-sdk-bundle;1.11.563 in central\n",
      ":: resolution report :: resolve 153ms :: artifacts dl 3ms\n",
      "\t:: modules in use:\n",
      "\tcom.amazonaws#aws-java-sdk-bundle;1.11.563 from central in [default]\n",
      "\torg.apache.hadoop#hadoop-aws;3.2.2 from central in [default]\n",
      "\t---------------------------------------------------------------------\n",
      "\t|                  |            modules            ||   artifacts   |\n",
      "\t|       conf       | number| search|dwnlded|evicted|| number|dwnlded|\n",
      "\t---------------------------------------------------------------------\n",
      "\t|      default     |   2   |   0   |   0   |   0   ||   2   |   0   |\n",
      "\t---------------------------------------------------------------------\n",
      ":: retrieving :: org.apache.spark#spark-submit-parent-fe1e2c19-6ef1-46a7-a2aa-16e0f12386c5\n",
      "\tconfs: [default]\n",
      "\t0 artifacts copied, 2 already retrieved (0kB/5ms)\n",
      "23/04/25 03:13:40 WARN NativeCodeLoader: Unable to load native-hadoop library for your platform... using builtin-java classes where applicable\n",
      "Setting default log level to \"WARN\".\n",
      "To adjust logging level use sc.setLogLevel(newLevel). For SparkR, use setLogLevel(newLevel).\n"
     ]
    }
   ],
   "source": [
    "from pyspark.sql import SparkSession\n",
    "from pyspark.sql import functions as f\n",
    "from pyspark.sql.window import Window as w\n",
    "import pandas as pd\n",
    "pd.set_option('display.max_columns', None)\n",
    "\n",
    "import warnings\n",
    "warnings.filterwarnings(\"ignore\")\n",
    "\n",
    "spark = (\n",
    "    SparkSession.builder\n",
    "    .config(\"spark.driver.memory\",\"100g\")\n",
    "    .config(\"spark.hadoop.fs.s3a.impl\",\"org.apache.hadoop.fs.s3a.S3AFileSystem\")\n",
    "    .config(\"spark.jars.packages\",\"org.apache.hadoop:hadoop-aws:3.2.2\")\n",
    "    .config(\"fs.s3a.aws.credentials.provider\",\"com.amazonaws.auth.DefaultAWSCredentialsProviderChain\")\n",
    "    .config(\"spark.driver.maxResultSize\",0)\n",
    "    # .config('spark.hadoop.io.compression.codecs', 'nl.basjes.hadoop.io.compress.SplittableGzipCodec')\n",
    "    .getOrCreate()\n",
    ")\n",
    "spark.conf.set(\"spark.sql.repl.eagerEval.enabled\", True)\n",
    "spark.conf.set(\"spark.hadoop.io.compression.codecs\", \"org.apache.hadoop.io.compress.BZip2Codec\")"
   ]
  },
  {
   "cell_type": "code",
   "execution_count": 2,
   "id": "2362841a-e43a-4af8-8572-2d4e7dd80c20",
   "metadata": {},
   "outputs": [
    {
     "name": "stdout",
     "output_type": "stream",
     "text": [
      "820323602090-team-dbad373c-7e36-407b-8690-05a44b804f43\n"
     ]
    }
   ],
   "source": [
    "!echo $team_bucket"
   ]
  },
  {
   "cell_type": "code",
   "execution_count": 3,
   "id": "e2fdb271-e1b7-40b4-8c82-d6c65eac9b5d",
   "metadata": {},
   "outputs": [
    {
     "name": "stdout",
     "output_type": "stream",
     "text": [
      "                           PRE DIM_DIAGNOSIS/\n",
      "                           PRE DIM_DRUG/\n",
      "                           PRE DIM_HCPT/\n",
      "                           PRE DX_DIAGNOSIS/\n",
      "                           PRE MEDICAL_HEADERS/\n",
      "                           PRE MEDICAL_SERVICE_LINES/\n",
      "                           PRE PATIENT_ENROLLMENTS/\n",
      "                           PRE PATIENT_SUMMARIES/\n",
      "                           PRE PAYERS/\n",
      "                           PRE PHARMACY/\n",
      "                           PRE PROVIDER_SUMMARIES/\n",
      "                           PRE VISIT_SUMMARIES/\n"
     ]
    }
   ],
   "source": [
    "!aws s3 ls $team_bucket/data/raw/"
   ]
  },
  {
   "cell_type": "code",
   "execution_count": 5,
   "id": "30c066e1-446b-447c-abd0-3a075c52f710",
   "metadata": {},
   "outputs": [
    {
     "name": "stdout",
     "output_type": "stream",
     "text": [
      "                           PRE prm_diagnosis/\n",
      "                           PRE prm_diagnosis_mk/\n",
      "                           PRE prm_enrollment/\n",
      "                           PRE prm_payers/\n",
      "                           PRE prm_persons/\n",
      "                           PRE prm_prescription/\n",
      "                           PRE prm_prescription_1/\n",
      "                           PRE prm_procedure/\n",
      "                           PRE prm_providers/\n",
      "                           PRE prm_visit/\n"
     ]
    }
   ],
   "source": [
    "!aws s3 ls $team_bucket/data/data_komodo/"
   ]
  },
  {
   "cell_type": "code",
   "execution_count": 7,
   "id": "5c4882aa-5469-45f6-ac48-15f6afffae2a",
   "metadata": {},
   "outputs": [],
   "source": [
    "s3_bucket_spark = \"s3a://820323602090-team-dbad373c-7e36-407b-8690-05a44b804f43\"\n",
    "s3_bucket_pandas = \"s3a://820323602090-team-dbad373c-7e36-407b-8690-05a44b804f43\""
   ]
  },
  {
   "cell_type": "code",
   "execution_count": 4,
   "id": "9724c9eb-4672-4642-8f9c-27f001000bc3",
   "metadata": {},
   "outputs": [
    {
     "name": "stderr",
     "output_type": "stream",
     "text": [
      "23/04/24 03:10:25 WARN MetricsConfig: Cannot locate configuration: tried hadoop-metrics2-s3a-file-system.properties,hadoop-metrics2.properties\n",
      "                                                                                \r"
     ]
    },
    {
     "data": {
      "text/plain": [
       "['DIAGNOSIS', 'DIAGNOSIS_CODE', 'SHORTDESCRIPTION']"
      ]
     },
     "execution_count": 4,
     "metadata": {},
     "output_type": "execute_result"
    }
   ],
   "source": [
    "tmp_df = spark.read.parquet(s3_bucket_spark+\"/data/raw/DX_DIAGNOSIS/\")\n",
    "tmp_df.columns"
   ]
  },
  {
   "cell_type": "code",
   "execution_count": 5,
   "id": "2882e1a0-e817-471e-bc76-a432f1ffa0e6",
   "metadata": {},
   "outputs": [
    {
     "name": "stderr",
     "output_type": "stream",
     "text": [
      "                                                                                \r"
     ]
    },
    {
     "name": "stdout",
     "output_type": "stream",
     "text": [
      "+---------+--------------+--------------------+\n",
      "|DIAGNOSIS|DIAGNOSIS_CODE|    SHORTDESCRIPTION|\n",
      "+---------+--------------+--------------------+\n",
      "|      PSO|         L4050|Arthropathic psor...|\n",
      "|      PSO|          L400|  Psoriasis vulgaris|\n",
      "|      PSO|         L4051|Distal interphala...|\n",
      "|      PSO|          L401|Generalized pustu...|\n",
      "|      PSO|          L403|Pustulosis palmar...|\n",
      "+---------+--------------+--------------------+\n",
      "only showing top 5 rows\n",
      "\n"
     ]
    }
   ],
   "source": [
    "tmp_df.show(5)"
   ]
  },
  {
   "cell_type": "code",
   "execution_count": 17,
   "id": "339dc328-6b96-4862-ba11-2f31cbb00f4b",
   "metadata": {},
   "outputs": [
    {
     "name": "stdout",
     "output_type": "stream",
     "text": [
      "                           PRE negative/\n",
      "                           PRE positive/\n"
     ]
    }
   ],
   "source": [
    "!aws s3 ls $team_bucket/data/hcp_universe/tremfya/"
   ]
  },
  {
   "cell_type": "code",
   "execution_count": 18,
   "id": "d72ff03d-db7f-4264-953c-e2383831e28f",
   "metadata": {},
   "outputs": [
    {
     "name": "stdout",
     "output_type": "stream",
     "text": [
      "+-------+------------+-----------+-----------------+\n",
      "|   DRUG|PROVIDER_NPI| SPECIALTY1|       SPECIALTY2|\n",
      "+-------+------------+-----------+-----------------+\n",
      "|Tremfya|  1467492751|Dermatology|             null|\n",
      "|Tremfya|  1821191099|Dermatology|             null|\n",
      "|Tremfya|  1821210337|Dermatology|             null|\n",
      "|Tremfya|  1821280298|Dermatology|Internal Medicine|\n",
      "|Tremfya|  1821292301|Dermatology|             null|\n",
      "+-------+------------+-----------+-----------------+\n",
      "only showing top 5 rows\n",
      "\n"
     ]
    }
   ],
   "source": [
    "positive = spark.read.parquet(s3_bucket_spark+\"/data/hcp_universe/tremfya/positive/\")\n",
    "positive.show(5)"
   ]
  },
  {
   "cell_type": "code",
   "execution_count": 19,
   "id": "fd3d7e7b-6181-4152-8c14-d7ddfa17d626",
   "metadata": {},
   "outputs": [
    {
     "name": "stdout",
     "output_type": "stream",
     "text": [
      "+----------------+------------+-----------+----------+\n",
      "|            DRUG|PROVIDER_NPI| SPECIALTY1|SPECIALTY2|\n",
      "+----------------+------------+-----------+----------+\n",
      "|Tremfya-negative|  1629141866|Dermatology|      null|\n",
      "|Tremfya-negative|  1679507537|Dermatology|      null|\n",
      "|Tremfya-negative|  1225233661|Dermatology|      null|\n",
      "|Tremfya-negative|  1609815166|Dermatology|      null|\n",
      "|Tremfya-negative|  1033287180|Dermatology|      null|\n",
      "+----------------+------------+-----------+----------+\n",
      "only showing top 5 rows\n",
      "\n"
     ]
    }
   ],
   "source": [
    "negative = spark.read.parquet(s3_bucket_spark+\"/data/hcp_universe/tremfya/negative/\")\n",
    "negative.show(5)"
   ]
  },
  {
   "cell_type": "code",
   "execution_count": 21,
   "id": "657e1690-40f1-4860-b894-6c111867e3cd",
   "metadata": {},
   "outputs": [
    {
     "data": {
      "text/plain": [
       "26185"
      ]
     },
     "execution_count": 21,
     "metadata": {},
     "output_type": "execute_result"
    }
   ],
   "source": [
    "feature_and.count()"
   ]
  },
  {
   "cell_type": "code",
   "execution_count": 19,
   "id": "86065b74-1ef0-442c-9591-8be38655a038",
   "metadata": {},
   "outputs": [
    {
     "name": "stderr",
     "output_type": "stream",
     "text": [
      "23/04/24 06:11:42 WARN package: Truncated the string representation of a plan since it was too large. This behavior can be adjusted by setting 'spark.sql.debug.maxToStringFields'.\n"
     ]
    },
    {
     "name": "stdout",
     "output_type": "stream",
     "text": [
      "-RECORD 0-------------------------------------------------------\n",
      " is_train                               | 0                     \n",
      " PROVIDER_NPI                           | 1003145087            \n",
      " count_visits                           | 316                   \n",
      " unique_patients                        | 85                    \n",
      " unique_payers                          | 11                    \n",
      " avg_patient_age_months                 | 803.5770722744937     \n",
      " female_share                           | 0.5379746835443038    \n",
      " pat_from_NY_share                      | 0.00949367088607595   \n",
      " pat_from_CA_share                      | 0.0                   \n",
      " pat_from_FL_share                      | 0.9620253164556962    \n",
      " pat_from_TX_share                      | 0.0                   \n",
      " claim_month_1_share                    | 0.0949367088607595    \n",
      " claim_month_2_share                    | 0.06329113924050633   \n",
      " claim_month_3_share                    | 0.07278481012658228   \n",
      " claim_month_4_share                    | 0.06645569620253164   \n",
      " claim_month_5_share                    | 0.08227848101265822   \n",
      " claim_month_6_share                    | 0.08544303797468354   \n",
      " claim_month_7_share                    | 0.09177215189873418   \n",
      " claim_month_8_share                    | 0.07278481012658228   \n",
      " claim_month_9_share                    | 0.0981012658227848    \n",
      " claim_month_10_share                   | 0.0949367088607595    \n",
      " claim_month_11_share                   | 0.0949367088607595    \n",
      " payer_channel_Commercial_share         | 0.1930379746835443    \n",
      " payer_channel_Medicare_share           | 0.7120253164556962    \n",
      " payer_channel_Medicare Advantage_share | 0.028481012658227847  \n",
      " payer_channel_Managed Medicaid_share   | 0.028481012658227847  \n",
      " payer_channel_Veterans Affairs_share   | 0.03164556962025317   \n",
      " payer_channel_Medicaid_share           | 0.0                   \n",
      " payer_channel_TRICARE_share            | 0.0031645569620253164 \n",
      " count_visits_l3m                       | 23                    \n",
      " unique_patients_l3m                    | 18                    \n",
      " unique_payers_l3m                      | 5                     \n",
      " avg_patient_age_months_l3m             | 835.7896213182609     \n",
      " female_share_l3m                       | 0.34782608695652173   \n",
      " count_visits_l6m                       | 23                    \n",
      " unique_patients_l6m                    | 18                    \n",
      " unique_payers_l6m                      | 5                     \n",
      " avg_patient_age_months_l6m             | 835.7896213182609     \n",
      " female_share_l6m                       | 0.34782608695652173   \n",
      "-RECORD 1-------------------------------------------------------\n",
      " is_train                               | 0                     \n",
      " PROVIDER_NPI                           | 1003173154            \n",
      " count_visits                           | 36                    \n",
      " unique_patients                        | 16                    \n",
      " unique_payers                          | 4                     \n",
      " avg_patient_age_months                 | 656.6209677424999     \n",
      " female_share                           | 0.5277777777777778    \n",
      " pat_from_NY_share                      | 0.0                   \n",
      " pat_from_CA_share                      | 0.0                   \n",
      " pat_from_FL_share                      | 0.0                   \n",
      " pat_from_TX_share                      | 0.0                   \n",
      " claim_month_1_share                    | 0.027777777777777776  \n",
      " claim_month_2_share                    | 0.16666666666666666   \n",
      " claim_month_3_share                    | 0.1111111111111111    \n",
      " claim_month_4_share                    | 0.08333333333333333   \n",
      " claim_month_5_share                    | 0.05555555555555555   \n",
      " claim_month_6_share                    | 0.027777777777777776  \n",
      " claim_month_7_share                    | 0.08333333333333333   \n",
      " claim_month_8_share                    | 0.027777777777777776  \n",
      " claim_month_9_share                    | 0.027777777777777776  \n",
      " claim_month_10_share                   | 0.1388888888888889    \n",
      " claim_month_11_share                   | 0.16666666666666666   \n",
      " payer_channel_Commercial_share         | 0.9166666666666666    \n",
      " payer_channel_Medicare_share           | 0.0                   \n",
      " payer_channel_Medicare Advantage_share | 0.0                   \n",
      " payer_channel_Managed Medicaid_share   | 0.0                   \n",
      " payer_channel_Veterans Affairs_share   | 0.05555555555555555   \n",
      " payer_channel_Medicaid_share           | 0.0                   \n",
      " payer_channel_TRICARE_share            | 0.0                   \n",
      " count_visits_l3m                       | 6                     \n",
      " unique_patients_l3m                    | 3                     \n",
      " unique_payers_l3m                      | 1                     \n",
      " avg_patient_age_months_l3m             | 680.29032258          \n",
      " female_share_l3m                       | 0.3333333333333333    \n",
      " count_visits_l6m                       | 6                     \n",
      " unique_patients_l6m                    | 3                     \n",
      " unique_payers_l6m                      | 1                     \n",
      " avg_patient_age_months_l6m             | 680.29032258          \n",
      " female_share_l6m                       | 0.3333333333333333    \n",
      "-RECORD 2-------------------------------------------------------\n",
      " is_train                               | 0                     \n",
      " PROVIDER_NPI                           | 1003202409            \n",
      " count_visits                           | 5                     \n",
      " unique_patients                        | 4                     \n",
      " unique_payers                          | 2                     \n",
      " avg_patient_age_months                 | 841.161290322         \n",
      " female_share                           | 0.4                   \n",
      " pat_from_NY_share                      | 0.0                   \n",
      " pat_from_CA_share                      | 0.0                   \n",
      " pat_from_FL_share                      | 0.0                   \n",
      " pat_from_TX_share                      | 0.0                   \n",
      " claim_month_1_share                    | 0.0                   \n",
      " claim_month_2_share                    | 0.2                   \n",
      " claim_month_3_share                    | 0.0                   \n",
      " claim_month_4_share                    | 0.0                   \n",
      " claim_month_5_share                    | 0.0                   \n",
      " claim_month_6_share                    | 0.0                   \n",
      " claim_month_7_share                    | 0.0                   \n",
      " claim_month_8_share                    | 0.0                   \n",
      " claim_month_9_share                    | 0.2                   \n",
      " claim_month_10_share                   | 0.0                   \n",
      " claim_month_11_share                   | 0.4                   \n",
      " payer_channel_Commercial_share         | 0.8                   \n",
      " payer_channel_Medicare_share           | 0.0                   \n",
      " payer_channel_Medicare Advantage_share | 0.0                   \n",
      " payer_channel_Managed Medicaid_share   | 0.2                   \n",
      " payer_channel_Veterans Affairs_share   | 0.0                   \n",
      " payer_channel_Medicaid_share           | 0.0                   \n",
      " payer_channel_TRICARE_share            | 0.0                   \n",
      " count_visits_l3m                       | 1                     \n",
      " unique_patients_l3m                    | 1                     \n",
      " unique_payers_l3m                      | 1                     \n",
      " avg_patient_age_months_l3m             | 985.48387097          \n",
      " female_share_l3m                       | 1.0                   \n",
      " count_visits_l6m                       | 1                     \n",
      " unique_patients_l6m                    | 1                     \n",
      " unique_payers_l6m                      | 1                     \n",
      " avg_patient_age_months_l6m             | 985.48387097          \n",
      " female_share_l6m                       | 1.0                   \n",
      "only showing top 3 rows\n",
      "\n"
     ]
    }
   ],
   "source": [
    "feature_and = spark.read.parquet(\"../data/04_feature/patient_payer_months_features.parquet\")\n",
    "feature_and.show(3,truncate=False, vertical=True)"
   ]
  },
  {
   "cell_type": "code",
   "execution_count": 20,
   "id": "47ba338e-4673-4066-b976-87fcc0b60759",
   "metadata": {},
   "outputs": [
    {
     "data": {
      "text/plain": [
       "['is_train',\n",
       " 'PROVIDER_NPI',\n",
       " 'count_visits',\n",
       " 'unique_patients',\n",
       " 'unique_payers',\n",
       " 'avg_patient_age_months',\n",
       " 'female_share',\n",
       " 'pat_from_NY_share',\n",
       " 'pat_from_CA_share',\n",
       " 'pat_from_FL_share',\n",
       " 'pat_from_TX_share',\n",
       " 'claim_month_1_share',\n",
       " 'claim_month_2_share',\n",
       " 'claim_month_3_share',\n",
       " 'claim_month_4_share',\n",
       " 'claim_month_5_share',\n",
       " 'claim_month_6_share',\n",
       " 'claim_month_7_share',\n",
       " 'claim_month_8_share',\n",
       " 'claim_month_9_share',\n",
       " 'claim_month_10_share',\n",
       " 'claim_month_11_share',\n",
       " 'payer_channel_Commercial_share',\n",
       " 'payer_channel_Medicare_share',\n",
       " 'payer_channel_Medicare Advantage_share',\n",
       " 'payer_channel_Managed Medicaid_share',\n",
       " 'payer_channel_Veterans Affairs_share',\n",
       " 'payer_channel_Medicaid_share',\n",
       " 'payer_channel_TRICARE_share',\n",
       " 'count_visits_l3m',\n",
       " 'unique_patients_l3m',\n",
       " 'unique_payers_l3m',\n",
       " 'avg_patient_age_months_l3m',\n",
       " 'female_share_l3m',\n",
       " 'count_visits_l6m',\n",
       " 'unique_patients_l6m',\n",
       " 'unique_payers_l6m',\n",
       " 'avg_patient_age_months_l6m',\n",
       " 'female_share_l6m']"
      ]
     },
     "execution_count": 20,
     "metadata": {},
     "output_type": "execute_result"
    }
   ],
   "source": [
    "feature_and.columns"
   ]
  },
  {
   "cell_type": "markdown",
   "id": "86a3bbd8-271d-4dc2-b614-4d383ccbf805",
   "metadata": {},
   "source": [
    "# Load data from kedro\n",
    "- please make sure this notebook lives within folder \"/notebooks/\" in order for \"%reload_kedro\" magic line to work\n",
    "- alternatively, need to load kedro manually to access context"
   ]
  },
  {
   "cell_type": "code",
   "execution_count": 2,
   "id": "0f5bbdcb-b85f-4aed-9bf2-d177a7226e58",
   "metadata": {},
   "outputs": [
    {
     "data": {
      "text/html": [
       "<pre style=\"white-space:pre;overflow-x:auto;line-height:normal;font-family:Menlo,'DejaVu Sans Mono',consolas,'Courier New',monospace\"><span style=\"color: #7fbfbf; text-decoration-color: #7fbfbf\">[04/19/23 20:25:45] </span><span style=\"color: #000080; text-decoration-color: #000080\">INFO    </span> Resolved project path as: <span style=\"color: #800080; text-decoration-color: #800080\">/home/jovyan/personal/</span> <a href=\"file:///home/jovyan/.conda/envs/test/lib/python3.8/site-packages/kedro/ipython/__init__.py\" target=\"_blank\"><span style=\"color: #7f7f7f; text-decoration-color: #7f7f7f\">__init__.py</span></a><span style=\"color: #7f7f7f; text-decoration-color: #7f7f7f\">:</span><a href=\"file:///home/jovyan/.conda/envs/test/lib/python3.8/site-packages/kedro/ipython/__init__.py#132\" target=\"_blank\"><span style=\"color: #7f7f7f; text-decoration-color: #7f7f7f\">132</span></a>\n",
       "<span style=\"color: #7fbfbf; text-decoration-color: #7fbfbf\">                    </span>         <span style=\"color: #800080; text-decoration-color: #800080\">zecai/codebase/</span><span style=\"color: #ff00ff; text-decoration-color: #ff00ff\">life_sciences_hackathon.</span>          <span style=\"color: #7f7f7f; text-decoration-color: #7f7f7f\">               </span>\n",
       "<span style=\"color: #7fbfbf; text-decoration-color: #7fbfbf\">                    </span>         To set a different path, run <span style=\"color: #008000; text-decoration-color: #008000\">'%reload_kedro </span>     <span style=\"color: #7f7f7f; text-decoration-color: #7f7f7f\">               </span>\n",
       "<span style=\"color: #7fbfbf; text-decoration-color: #7fbfbf\">                    </span>         <span style=\"color: #008000; text-decoration-color: #008000\">&lt;project_root&gt;'</span>                                  <span style=\"color: #7f7f7f; text-decoration-color: #7f7f7f\">               </span>\n",
       "</pre>\n"
      ],
      "text/plain": [
       "\u001b[2;36m[04/19/23 20:25:45]\u001b[0m\u001b[2;36m \u001b[0m\u001b[34mINFO    \u001b[0m Resolved project path as: \u001b[35m/home/jovyan/personal/\u001b[0m \u001b]8;id=56035;file:///home/jovyan/.conda/envs/test/lib/python3.8/site-packages/kedro/ipython/__init__.py\u001b\\\u001b[2m__init__.py\u001b[0m\u001b]8;;\u001b\\\u001b[2m:\u001b[0m\u001b]8;id=618027;file:///home/jovyan/.conda/envs/test/lib/python3.8/site-packages/kedro/ipython/__init__.py#132\u001b\\\u001b[2m132\u001b[0m\u001b]8;;\u001b\\\n",
       "\u001b[2;36m                    \u001b[0m         \u001b[35mzecai/codebase/\u001b[0m\u001b[95mlife_sciences_hackathon.\u001b[0m          \u001b[2m               \u001b[0m\n",
       "\u001b[2;36m                    \u001b[0m         To set a different path, run \u001b[32m'%reload_kedro \u001b[0m     \u001b[2m               \u001b[0m\n",
       "\u001b[2;36m                    \u001b[0m         \u001b[32m<\u001b[0m\u001b[32mproject_root\u001b[0m\u001b[32m>\u001b[0m\u001b[32m'\u001b[0m                                  \u001b[2m               \u001b[0m\n"
      ]
     },
     "metadata": {},
     "output_type": "display_data"
    },
    {
     "data": {
      "text/html": [
       "<pre style=\"white-space:pre;overflow-x:auto;line-height:normal;font-family:Menlo,'DejaVu Sans Mono',consolas,'Courier New',monospace\"><span style=\"color: #7fbfbf; text-decoration-color: #7fbfbf\">[04/19/23 20:25:46] </span><span style=\"color: #800000; text-decoration-color: #800000\">WARNING </span> <span style=\"color: #800080; text-decoration-color: #800080\">/home/jovyan/.conda/envs/test/lib/python3.8/site</span> <a href=\"file:///home/jovyan/.conda/envs/test/lib/python3.8/warnings.py\" target=\"_blank\"><span style=\"color: #7f7f7f; text-decoration-color: #7f7f7f\">warnings.py</span></a><span style=\"color: #7f7f7f; text-decoration-color: #7f7f7f\">:</span><a href=\"file:///home/jovyan/.conda/envs/test/lib/python3.8/warnings.py#109\" target=\"_blank\"><span style=\"color: #7f7f7f; text-decoration-color: #7f7f7f\">109</span></a>\n",
       "<span style=\"color: #7fbfbf; text-decoration-color: #7fbfbf\">                    </span>         <span style=\"color: #800080; text-decoration-color: #800080\">-packages/kedro/framework/context/</span><span style=\"color: #ff00ff; text-decoration-color: #ff00ff\">context.py</span>:<span style=\"color: #008080; text-decoration-color: #008080; font-weight: bold\">339</span> <span style=\"color: #7f7f7f; text-decoration-color: #7f7f7f\">               </span>\n",
       "<span style=\"color: #7fbfbf; text-decoration-color: #7fbfbf\">                    </span>         : UserWarning: Credentials not found in your     <span style=\"color: #7f7f7f; text-decoration-color: #7f7f7f\">               </span>\n",
       "<span style=\"color: #7fbfbf; text-decoration-color: #7fbfbf\">                    </span>         Kedro project config.                            <span style=\"color: #7f7f7f; text-decoration-color: #7f7f7f\">               </span>\n",
       "<span style=\"color: #7fbfbf; text-decoration-color: #7fbfbf\">                    </span>         No files found in <span style=\"font-weight: bold\">[</span><span style=\"color: #008000; text-decoration-color: #008000\">'/home/jovyan/personal/zecai/</span> <span style=\"color: #7f7f7f; text-decoration-color: #7f7f7f\">               </span>\n",
       "<span style=\"color: #7fbfbf; text-decoration-color: #7fbfbf\">                    </span>         <span style=\"color: #008000; text-decoration-color: #008000\">codebase/life_sciences_hackathon/conf/base'</span>, <span style=\"color: #008000; text-decoration-color: #008000\">'/h</span> <span style=\"color: #7f7f7f; text-decoration-color: #7f7f7f\">               </span>\n",
       "<span style=\"color: #7fbfbf; text-decoration-color: #7fbfbf\">                    </span>         <span style=\"color: #008000; text-decoration-color: #008000\">ome/jovyan/personal/zecai/codebase/life_sciences</span> <span style=\"color: #7f7f7f; text-decoration-color: #7f7f7f\">               </span>\n",
       "<span style=\"color: #7fbfbf; text-decoration-color: #7fbfbf\">                    </span>         <span style=\"color: #008000; text-decoration-color: #008000\">_hackathon/conf/local'</span>, <span style=\"color: #008000; text-decoration-color: #008000\">'/home/jovyan/personal/z</span> <span style=\"color: #7f7f7f; text-decoration-color: #7f7f7f\">               </span>\n",
       "<span style=\"color: #7fbfbf; text-decoration-color: #7fbfbf\">                    </span>         <span style=\"color: #008000; text-decoration-color: #008000\">ecai/codebase/life_sciences_hackathon/src/pmpx_p</span> <span style=\"color: #7f7f7f; text-decoration-color: #7f7f7f\">               </span>\n",
       "<span style=\"color: #7fbfbf; text-decoration-color: #7fbfbf\">                    </span>         <span style=\"color: #008000; text-decoration-color: #008000\">kg/connectors/model_input/conf'</span>, <span style=\"color: #008000; text-decoration-color: #008000\">'/home/jovyan/p</span> <span style=\"color: #7f7f7f; text-decoration-color: #7f7f7f\">               </span>\n",
       "<span style=\"color: #7fbfbf; text-decoration-color: #7fbfbf\">                    </span>         <span style=\"color: #008000; text-decoration-color: #008000\">ersonal/zecai/codebase/life_sciences_hackathon/s</span> <span style=\"color: #7f7f7f; text-decoration-color: #7f7f7f\">               </span>\n",
       "<span style=\"color: #7fbfbf; text-decoration-color: #7fbfbf\">                    </span>         <span style=\"color: #008000; text-decoration-color: #008000\">rc/pmpx_pkg/connectors/post_surrogate_tree/conf'</span> <span style=\"color: #7f7f7f; text-decoration-color: #7f7f7f\">               </span>\n",
       "<span style=\"color: #7fbfbf; text-decoration-color: #7fbfbf\">                    </span>         , <span style=\"color: #008000; text-decoration-color: #008000\">'/home/jovyan/personal/zecai/codebase/life_sci</span> <span style=\"color: #7f7f7f; text-decoration-color: #7f7f7f\">               </span>\n",
       "<span style=\"color: #7fbfbf; text-decoration-color: #7fbfbf\">                    </span>         <span style=\"color: #008000; text-decoration-color: #008000\">ences_hackathon/src/pmpx_pkg/connectors/data_kom</span> <span style=\"color: #7f7f7f; text-decoration-color: #7f7f7f\">               </span>\n",
       "<span style=\"color: #7fbfbf; text-decoration-color: #7fbfbf\">                    </span>         <span style=\"color: #008000; text-decoration-color: #008000\">odo/conf'</span>, <span style=\"color: #008000; text-decoration-color: #008000\">'/home/jovyan/personal/zecai/codebase</span> <span style=\"color: #7f7f7f; text-decoration-color: #7f7f7f\">               </span>\n",
       "<span style=\"color: #7fbfbf; text-decoration-color: #7fbfbf\">                    </span>         <span style=\"color: #008000; text-decoration-color: #008000\">/life_sciences_hackathon/src/pmpx_pkg/connectors</span> <span style=\"color: #7f7f7f; text-decoration-color: #7f7f7f\">               </span>\n",
       "<span style=\"color: #7fbfbf; text-decoration-color: #7fbfbf\">                    </span>         <span style=\"color: #008000; text-decoration-color: #008000\">/segmentation/conf'</span>, <span style=\"color: #008000; text-decoration-color: #008000\">'/home/jovyan/personal/zeca</span> <span style=\"color: #7f7f7f; text-decoration-color: #7f7f7f\">               </span>\n",
       "<span style=\"color: #7fbfbf; text-decoration-color: #7fbfbf\">                    </span>         <span style=\"color: #008000; text-decoration-color: #008000\">i/codebase/life_sciences_hackathon/src/pmpx_pkg/</span> <span style=\"color: #7f7f7f; text-decoration-color: #7f7f7f\">               </span>\n",
       "<span style=\"color: #7fbfbf; text-decoration-color: #7fbfbf\">                    </span>         <span style=\"color: #008000; text-decoration-color: #008000\">connectors/reporting_xai/conf'</span>, <span style=\"color: #008000; text-decoration-color: #008000\">'/home/jovyan/pe</span> <span style=\"color: #7f7f7f; text-decoration-color: #7f7f7f\">               </span>\n",
       "<span style=\"color: #7fbfbf; text-decoration-color: #7fbfbf\">                    </span>         <span style=\"color: #008000; text-decoration-color: #008000\">rsonal/zecai/codebase/life_sciences_hackathon/sr</span> <span style=\"color: #7f7f7f; text-decoration-color: #7f7f7f\">               </span>\n",
       "<span style=\"color: #7fbfbf; text-decoration-color: #7fbfbf\">                    </span>         <span style=\"color: #008000; text-decoration-color: #008000\">c/pmpx_pkg/connectors/predictive_modeling/conf'</span>, <span style=\"color: #7f7f7f; text-decoration-color: #7f7f7f\">               </span>\n",
       "<span style=\"color: #7fbfbf; text-decoration-color: #7fbfbf\">                    </span>          <span style=\"color: #008000; text-decoration-color: #008000\">'/home/jovyan/personal/zecai/codebase/life_scie</span> <span style=\"color: #7f7f7f; text-decoration-color: #7f7f7f\">               </span>\n",
       "<span style=\"color: #7fbfbf; text-decoration-color: #7fbfbf\">                    </span>         <span style=\"color: #008000; text-decoration-color: #008000\">nces_hackathon/src/pmpx_pkg/connectors/pxaa_core</span> <span style=\"color: #7f7f7f; text-decoration-color: #7f7f7f\">               </span>\n",
       "<span style=\"color: #7fbfbf; text-decoration-color: #7fbfbf\">                    </span>         <span style=\"color: #008000; text-decoration-color: #008000\">/conf'</span><span style=\"font-weight: bold\">]</span> matching the glob <span style=\"color: #800080; text-decoration-color: #800080; font-weight: bold\">pattern</span><span style=\"font-weight: bold\">(</span>s<span style=\"font-weight: bold\">)</span>:            <span style=\"color: #7f7f7f; text-decoration-color: #7f7f7f\">               </span>\n",
       "<span style=\"color: #7fbfbf; text-decoration-color: #7fbfbf\">                    </span>         <span style=\"font-weight: bold\">(</span><span style=\"color: #008000; text-decoration-color: #008000\">'credentials*'</span>, <span style=\"color: #008000; text-decoration-color: #008000\">'credentials*/**'</span>,              <span style=\"color: #7f7f7f; text-decoration-color: #7f7f7f\">               </span>\n",
       "<span style=\"color: #7fbfbf; text-decoration-color: #7fbfbf\">                    </span>         <span style=\"color: #008000; text-decoration-color: #008000\">'**/credentials*'</span><span style=\"font-weight: bold\">)</span>                               <span style=\"color: #7f7f7f; text-decoration-color: #7f7f7f\">               </span>\n",
       "<span style=\"color: #7fbfbf; text-decoration-color: #7fbfbf\">                    </span>           <span style=\"color: #800080; text-decoration-color: #800080; font-weight: bold\">warn</span><span style=\"font-weight: bold\">(</span>f\"Credentials not found in your Kedro     <span style=\"color: #7f7f7f; text-decoration-color: #7f7f7f\">               </span>\n",
       "<span style=\"color: #7fbfbf; text-decoration-color: #7fbfbf\">                    </span>         project config.\\n<span style=\"font-weight: bold\">{</span><span style=\"color: #800080; text-decoration-color: #800080; font-weight: bold\">str</span><span style=\"font-weight: bold\">(</span>exc<span style=\"font-weight: bold\">)}</span>\"<span style=\"font-weight: bold\">)</span>                    <span style=\"color: #7f7f7f; text-decoration-color: #7f7f7f\">               </span>\n",
       "<span style=\"color: #7fbfbf; text-decoration-color: #7fbfbf\">                    </span>                                                          <span style=\"color: #7f7f7f; text-decoration-color: #7f7f7f\">               </span>\n",
       "</pre>\n"
      ],
      "text/plain": [
       "\u001b[2;36m[04/19/23 20:25:46]\u001b[0m\u001b[2;36m \u001b[0m\u001b[31mWARNING \u001b[0m \u001b[35m/home/jovyan/.conda/envs/test/lib/python3.8/site\u001b[0m \u001b]8;id=307279;file:///home/jovyan/.conda/envs/test/lib/python3.8/warnings.py\u001b\\\u001b[2mwarnings.py\u001b[0m\u001b]8;;\u001b\\\u001b[2m:\u001b[0m\u001b]8;id=80492;file:///home/jovyan/.conda/envs/test/lib/python3.8/warnings.py#109\u001b\\\u001b[2m109\u001b[0m\u001b]8;;\u001b\\\n",
       "\u001b[2;36m                    \u001b[0m         \u001b[35m-packages/kedro/framework/context/\u001b[0m\u001b[95mcontext.py\u001b[0m:\u001b[1;36m339\u001b[0m \u001b[2m               \u001b[0m\n",
       "\u001b[2;36m                    \u001b[0m         : UserWarning: Credentials not found in your     \u001b[2m               \u001b[0m\n",
       "\u001b[2;36m                    \u001b[0m         Kedro project config.                            \u001b[2m               \u001b[0m\n",
       "\u001b[2;36m                    \u001b[0m         No files found in \u001b[1m[\u001b[0m\u001b[32m'/home/jovyan/personal/zecai/\u001b[0m \u001b[2m               \u001b[0m\n",
       "\u001b[2;36m                    \u001b[0m         \u001b[32mcodebase/life_sciences_hackathon/conf/base'\u001b[0m, \u001b[32m'/h\u001b[0m \u001b[2m               \u001b[0m\n",
       "\u001b[2;36m                    \u001b[0m         \u001b[32mome/jovyan/personal/zecai/codebase/life_sciences\u001b[0m \u001b[2m               \u001b[0m\n",
       "\u001b[2;36m                    \u001b[0m         \u001b[32m_hackathon/conf/local'\u001b[0m, \u001b[32m'/home/jovyan/personal/z\u001b[0m \u001b[2m               \u001b[0m\n",
       "\u001b[2;36m                    \u001b[0m         \u001b[32mecai/codebase/life_sciences_hackathon/src/pmpx_p\u001b[0m \u001b[2m               \u001b[0m\n",
       "\u001b[2;36m                    \u001b[0m         \u001b[32mkg/connectors/model_input/conf'\u001b[0m, \u001b[32m'/home/jovyan/p\u001b[0m \u001b[2m               \u001b[0m\n",
       "\u001b[2;36m                    \u001b[0m         \u001b[32mersonal/zecai/codebase/life_sciences_hackathon/s\u001b[0m \u001b[2m               \u001b[0m\n",
       "\u001b[2;36m                    \u001b[0m         \u001b[32mrc/pmpx_pkg/connectors/post_surrogate_tree/conf'\u001b[0m \u001b[2m               \u001b[0m\n",
       "\u001b[2;36m                    \u001b[0m         , \u001b[32m'/home/jovyan/personal/zecai/codebase/life_sci\u001b[0m \u001b[2m               \u001b[0m\n",
       "\u001b[2;36m                    \u001b[0m         \u001b[32mences_hackathon/src/pmpx_pkg/connectors/data_kom\u001b[0m \u001b[2m               \u001b[0m\n",
       "\u001b[2;36m                    \u001b[0m         \u001b[32modo/conf'\u001b[0m, \u001b[32m'/home/jovyan/personal/zecai/codebase\u001b[0m \u001b[2m               \u001b[0m\n",
       "\u001b[2;36m                    \u001b[0m         \u001b[32m/life_sciences_hackathon/src/pmpx_pkg/connectors\u001b[0m \u001b[2m               \u001b[0m\n",
       "\u001b[2;36m                    \u001b[0m         \u001b[32m/segmentation/conf'\u001b[0m, \u001b[32m'/home/jovyan/personal/zeca\u001b[0m \u001b[2m               \u001b[0m\n",
       "\u001b[2;36m                    \u001b[0m         \u001b[32mi/codebase/life_sciences_hackathon/src/pmpx_pkg/\u001b[0m \u001b[2m               \u001b[0m\n",
       "\u001b[2;36m                    \u001b[0m         \u001b[32mconnectors/reporting_xai/conf'\u001b[0m, \u001b[32m'/home/jovyan/pe\u001b[0m \u001b[2m               \u001b[0m\n",
       "\u001b[2;36m                    \u001b[0m         \u001b[32mrsonal/zecai/codebase/life_sciences_hackathon/sr\u001b[0m \u001b[2m               \u001b[0m\n",
       "\u001b[2;36m                    \u001b[0m         \u001b[32mc/pmpx_pkg/connectors/predictive_modeling/conf'\u001b[0m, \u001b[2m               \u001b[0m\n",
       "\u001b[2;36m                    \u001b[0m          \u001b[32m'/home/jovyan/personal/zecai/codebase/life_scie\u001b[0m \u001b[2m               \u001b[0m\n",
       "\u001b[2;36m                    \u001b[0m         \u001b[32mnces_hackathon/src/pmpx_pkg/connectors/pxaa_core\u001b[0m \u001b[2m               \u001b[0m\n",
       "\u001b[2;36m                    \u001b[0m         \u001b[32m/conf'\u001b[0m\u001b[1m]\u001b[0m matching the glob \u001b[1;35mpattern\u001b[0m\u001b[1m(\u001b[0ms\u001b[1m)\u001b[0m:            \u001b[2m               \u001b[0m\n",
       "\u001b[2;36m                    \u001b[0m         \u001b[1m(\u001b[0m\u001b[32m'credentials*'\u001b[0m, \u001b[32m'credentials*/**'\u001b[0m,              \u001b[2m               \u001b[0m\n",
       "\u001b[2;36m                    \u001b[0m         \u001b[32m'**/credentials*'\u001b[0m\u001b[1m)\u001b[0m                               \u001b[2m               \u001b[0m\n",
       "\u001b[2;36m                    \u001b[0m           \u001b[1;35mwarn\u001b[0m\u001b[1m(\u001b[0mf\"Credentials not found in your Kedro     \u001b[2m               \u001b[0m\n",
       "\u001b[2;36m                    \u001b[0m         project config.\\n\u001b[1m{\u001b[0m\u001b[1;35mstr\u001b[0m\u001b[1m(\u001b[0mexc\u001b[1m)\u001b[0m\u001b[1m}\u001b[0m\"\u001b[1m)\u001b[0m                    \u001b[2m               \u001b[0m\n",
       "\u001b[2;36m                    \u001b[0m                                                          \u001b[2m               \u001b[0m\n"
      ]
     },
     "metadata": {},
     "output_type": "display_data"
    },
    {
     "data": {
      "text/html": [
       "<pre style=\"white-space:pre;overflow-x:auto;line-height:normal;font-family:Menlo,'DejaVu Sans Mono',consolas,'Courier New',monospace\"><span style=\"color: #7fbfbf; text-decoration-color: #7fbfbf\">                    </span><span style=\"color: #000080; text-decoration-color: #000080\">INFO    </span> Kedro project pmpx_pkg                           <a href=\"file:///home/jovyan/.conda/envs/test/lib/python3.8/site-packages/kedro/ipython/__init__.py\" target=\"_blank\"><span style=\"color: #7f7f7f; text-decoration-color: #7f7f7f\">__init__.py</span></a><span style=\"color: #7f7f7f; text-decoration-color: #7f7f7f\">:</span><a href=\"file:///home/jovyan/.conda/envs/test/lib/python3.8/site-packages/kedro/ipython/__init__.py#101\" target=\"_blank\"><span style=\"color: #7f7f7f; text-decoration-color: #7f7f7f\">101</span></a>\n",
       "</pre>\n"
      ],
      "text/plain": [
       "\u001b[2;36m                   \u001b[0m\u001b[2;36m \u001b[0m\u001b[34mINFO    \u001b[0m Kedro project pmpx_pkg                           \u001b]8;id=165055;file:///home/jovyan/.conda/envs/test/lib/python3.8/site-packages/kedro/ipython/__init__.py\u001b\\\u001b[2m__init__.py\u001b[0m\u001b]8;;\u001b\\\u001b[2m:\u001b[0m\u001b]8;id=96215;file:///home/jovyan/.conda/envs/test/lib/python3.8/site-packages/kedro/ipython/__init__.py#101\u001b\\\u001b[2m101\u001b[0m\u001b]8;;\u001b\\\n"
      ]
     },
     "metadata": {},
     "output_type": "display_data"
    },
    {
     "data": {
      "text/html": [
       "<pre style=\"white-space:pre;overflow-x:auto;line-height:normal;font-family:Menlo,'DejaVu Sans Mono',consolas,'Courier New',monospace\"><span style=\"color: #7fbfbf; text-decoration-color: #7fbfbf\">                    </span><span style=\"color: #000080; text-decoration-color: #000080\">INFO    </span> Defined global variable <span style=\"color: #008000; text-decoration-color: #008000\">'context'</span>, <span style=\"color: #008000; text-decoration-color: #008000\">'session'</span>,    <a href=\"file:///home/jovyan/.conda/envs/test/lib/python3.8/site-packages/kedro/ipython/__init__.py\" target=\"_blank\"><span style=\"color: #7f7f7f; text-decoration-color: #7f7f7f\">__init__.py</span></a><span style=\"color: #7f7f7f; text-decoration-color: #7f7f7f\">:</span><a href=\"file:///home/jovyan/.conda/envs/test/lib/python3.8/site-packages/kedro/ipython/__init__.py#102\" target=\"_blank\"><span style=\"color: #7f7f7f; text-decoration-color: #7f7f7f\">102</span></a>\n",
       "<span style=\"color: #7fbfbf; text-decoration-color: #7fbfbf\">                    </span>         <span style=\"color: #008000; text-decoration-color: #008000\">'catalog'</span> and <span style=\"color: #008000; text-decoration-color: #008000\">'pipelines'</span>                        <span style=\"color: #7f7f7f; text-decoration-color: #7f7f7f\">               </span>\n",
       "</pre>\n"
      ],
      "text/plain": [
       "\u001b[2;36m                   \u001b[0m\u001b[2;36m \u001b[0m\u001b[34mINFO    \u001b[0m Defined global variable \u001b[32m'context'\u001b[0m, \u001b[32m'session'\u001b[0m,    \u001b]8;id=972717;file:///home/jovyan/.conda/envs/test/lib/python3.8/site-packages/kedro/ipython/__init__.py\u001b\\\u001b[2m__init__.py\u001b[0m\u001b]8;;\u001b\\\u001b[2m:\u001b[0m\u001b]8;id=296543;file:///home/jovyan/.conda/envs/test/lib/python3.8/site-packages/kedro/ipython/__init__.py#102\u001b\\\u001b[2m102\u001b[0m\u001b]8;;\u001b\\\n",
       "\u001b[2;36m                    \u001b[0m         \u001b[32m'catalog'\u001b[0m and \u001b[32m'pipelines'\u001b[0m                        \u001b[2m               \u001b[0m\n"
      ]
     },
     "metadata": {},
     "output_type": "display_data"
    },
    {
     "data": {
      "text/html": [
       "<pre style=\"white-space:pre;overflow-x:auto;line-height:normal;font-family:Menlo,'DejaVu Sans Mono',consolas,'Courier New',monospace\"><span style=\"color: #7fbfbf; text-decoration-color: #7fbfbf\">                    </span><span style=\"color: #000080; text-decoration-color: #000080\">INFO    </span> Registered line magic <span style=\"color: #008000; text-decoration-color: #008000\">'run_viz'</span>                  <a href=\"file:///home/jovyan/.conda/envs/test/lib/python3.8/site-packages/kedro/ipython/__init__.py\" target=\"_blank\"><span style=\"color: #7f7f7f; text-decoration-color: #7f7f7f\">__init__.py</span></a><span style=\"color: #7f7f7f; text-decoration-color: #7f7f7f\">:</span><a href=\"file:///home/jovyan/.conda/envs/test/lib/python3.8/site-packages/kedro/ipython/__init__.py#108\" target=\"_blank\"><span style=\"color: #7f7f7f; text-decoration-color: #7f7f7f\">108</span></a>\n",
       "</pre>\n"
      ],
      "text/plain": [
       "\u001b[2;36m                   \u001b[0m\u001b[2;36m \u001b[0m\u001b[34mINFO    \u001b[0m Registered line magic \u001b[32m'run_viz'\u001b[0m                  \u001b]8;id=943013;file:///home/jovyan/.conda/envs/test/lib/python3.8/site-packages/kedro/ipython/__init__.py\u001b\\\u001b[2m__init__.py\u001b[0m\u001b]8;;\u001b\\\u001b[2m:\u001b[0m\u001b]8;id=586803;file:///home/jovyan/.conda/envs/test/lib/python3.8/site-packages/kedro/ipython/__init__.py#108\u001b\\\u001b[2m108\u001b[0m\u001b]8;;\u001b\\\n"
      ]
     },
     "metadata": {},
     "output_type": "display_data"
    }
   ],
   "source": [
    "%reload_kedro"
   ]
  },
  {
   "cell_type": "code",
   "execution_count": 3,
   "id": "07beace9-9b2b-423d-8af4-aeec51bdf40e",
   "metadata": {},
   "outputs": [
    {
     "data": {
      "text/html": [
       "<pre style=\"white-space:pre;overflow-x:auto;line-height:normal;font-family:Menlo,'DejaVu Sans Mono',consolas,'Courier New',monospace\"><span style=\"color: #7fbfbf; text-decoration-color: #7fbfbf\">[04/19/23 20:26:41] </span><span style=\"color: #000080; text-decoration-color: #000080\">INFO    </span> Loading data from                            <a href=\"file:///home/jovyan/.conda/envs/test/lib/python3.8/site-packages/kedro/io/data_catalog.py\" target=\"_blank\"><span style=\"color: #7f7f7f; text-decoration-color: #7f7f7f\">data_catalog.py</span></a><span style=\"color: #7f7f7f; text-decoration-color: #7f7f7f\">:</span><a href=\"file:///home/jovyan/.conda/envs/test/lib/python3.8/site-packages/kedro/io/data_catalog.py#343\" target=\"_blank\"><span style=\"color: #7f7f7f; text-decoration-color: #7f7f7f\">343</span></a>\n",
       "<span style=\"color: #7fbfbf; text-decoration-color: #7fbfbf\">                    </span>         <span style=\"color: #008000; text-decoration-color: #008000\">'data_komodo.prm_providers'</span>                  <span style=\"color: #7f7f7f; text-decoration-color: #7f7f7f\">                   </span>\n",
       "<span style=\"color: #7fbfbf; text-decoration-color: #7fbfbf\">                    </span>         <span style=\"font-weight: bold\">(</span>SparkDataSet<span style=\"font-weight: bold\">)</span><span style=\"color: #808000; text-decoration-color: #808000\">...</span>                            <span style=\"color: #7f7f7f; text-decoration-color: #7f7f7f\">                   </span>\n",
       "</pre>\n"
      ],
      "text/plain": [
       "\u001b[2;36m[04/19/23 20:26:41]\u001b[0m\u001b[2;36m \u001b[0m\u001b[34mINFO    \u001b[0m Loading data from                            \u001b]8;id=702107;file:///home/jovyan/.conda/envs/test/lib/python3.8/site-packages/kedro/io/data_catalog.py\u001b\\\u001b[2mdata_catalog.py\u001b[0m\u001b]8;;\u001b\\\u001b[2m:\u001b[0m\u001b]8;id=670487;file:///home/jovyan/.conda/envs/test/lib/python3.8/site-packages/kedro/io/data_catalog.py#343\u001b\\\u001b[2m343\u001b[0m\u001b]8;;\u001b\\\n",
       "\u001b[2;36m                    \u001b[0m         \u001b[32m'data_komodo.prm_providers'\u001b[0m                  \u001b[2m                   \u001b[0m\n",
       "\u001b[2;36m                    \u001b[0m         \u001b[1m(\u001b[0mSparkDataSet\u001b[1m)\u001b[0m\u001b[33m...\u001b[0m                            \u001b[2m                   \u001b[0m\n"
      ]
     },
     "metadata": {},
     "output_type": "display_data"
    },
    {
     "name": "stderr",
     "output_type": "stream",
     "text": [
      "23/04/19 20:26:41 WARN MetricsConfig: Cannot locate configuration: tried hadoop-metrics2-s3a-file-system.properties,hadoop-metrics2.properties\n",
      "                                                                                \r"
     ]
    },
    {
     "data": {
      "text/html": [
       "<pre style=\"white-space:pre;overflow-x:auto;line-height:normal;font-family:Menlo,'DejaVu Sans Mono',consolas,'Courier New',monospace\">\n",
       "<span style=\"font-weight: bold\">[</span>\n",
       "    <span style=\"color: #008000; text-decoration-color: #008000\">'npi_id'</span>,\n",
       "    <span style=\"color: #008000; text-decoration-color: #008000\">'provider_speciality_1'</span>,\n",
       "    <span style=\"color: #008000; text-decoration-color: #008000\">'provider_speciality_2'</span>,\n",
       "    <span style=\"color: #008000; text-decoration-color: #008000\">'provider_state'</span>,\n",
       "    <span style=\"color: #008000; text-decoration-color: #008000\">'provider_type'</span>,\n",
       "    <span style=\"color: #008000; text-decoration-color: #008000\">'provider_hco_id'</span>,\n",
       "    <span style=\"color: #008000; text-decoration-color: #008000\">'provider_first_name'</span>,\n",
       "    <span style=\"color: #008000; text-decoration-color: #008000\">'provider_middle_name'</span>,\n",
       "    <span style=\"color: #008000; text-decoration-color: #008000\">'provider_last_name'</span>,\n",
       "    <span style=\"color: #008000; text-decoration-color: #008000\">'provider_deactivation_dt'</span>,\n",
       "    <span style=\"color: #008000; text-decoration-color: #008000\">'provider_reactivation_dt'</span>,\n",
       "    <span style=\"color: #008000; text-decoration-color: #008000\">'provider_process_dt'</span>,\n",
       "    <span style=\"color: #008000; text-decoration-color: #008000\">'source'</span>\n",
       "<span style=\"font-weight: bold\">]</span>\n",
       "</pre>\n"
      ],
      "text/plain": [
       "\n",
       "\u001b[1m[\u001b[0m\n",
       "    \u001b[32m'npi_id'\u001b[0m,\n",
       "    \u001b[32m'provider_speciality_1'\u001b[0m,\n",
       "    \u001b[32m'provider_speciality_2'\u001b[0m,\n",
       "    \u001b[32m'provider_state'\u001b[0m,\n",
       "    \u001b[32m'provider_type'\u001b[0m,\n",
       "    \u001b[32m'provider_hco_id'\u001b[0m,\n",
       "    \u001b[32m'provider_first_name'\u001b[0m,\n",
       "    \u001b[32m'provider_middle_name'\u001b[0m,\n",
       "    \u001b[32m'provider_last_name'\u001b[0m,\n",
       "    \u001b[32m'provider_deactivation_dt'\u001b[0m,\n",
       "    \u001b[32m'provider_reactivation_dt'\u001b[0m,\n",
       "    \u001b[32m'provider_process_dt'\u001b[0m,\n",
       "    \u001b[32m'source'\u001b[0m\n",
       "\u001b[1m]\u001b[0m\n"
      ]
     },
     "metadata": {},
     "output_type": "display_data"
    }
   ],
   "source": [
    "tmp_df = catalog.load(\"data_komodo.prm_providers\")\n",
    "tmp_df.columns"
   ]
  },
  {
   "cell_type": "code",
   "execution_count": null,
   "id": "5d5832d8-9452-4ccc-b6a8-d9077bc79033",
   "metadata": {},
   "outputs": [],
   "source": []
  }
 ],
 "metadata": {
  "kernelspec": {
   "display_name": "Python 3.9",
   "language": "python",
   "name": "python3"
  },
  "language_info": {
   "codemirror_mode": {
    "name": "ipython",
    "version": 3
   },
   "file_extension": ".py",
   "mimetype": "text/x-python",
   "name": "python",
   "nbconvert_exporter": "python",
   "pygments_lexer": "ipython3",
   "version": "3.9.7"
  }
 },
 "nbformat": 4,
 "nbformat_minor": 5
}

{
 "cells": [
  {
   "cell_type": "code",
   "execution_count": 1,
   "id": "ef6eea46-65f9-437e-8c65-feeaad9afc00",
   "metadata": {},
   "outputs": [],
   "source": [
    "#MIN-MAX DATES\n",
    "train_max_date = \"2017-07-13\"\n",
    "train_min_date = \"2015-07-13\"\n",
    "test_max_date = \"2019-04-23\"\n",
    "test_min_date = \"2017-04-23\""
   ]
  },
  {
   "cell_type": "code",
   "execution_count": 2,
   "id": "91b06bab-7620-41d4-8666-89480574a3b1",
   "metadata": {},
   "outputs": [
    {
     "name": "stderr",
     "output_type": "stream",
     "text": [
      "Warning: Ignoring non-Spark config property: fs.s3a.aws.credentials.provider\n"
     ]
    },
    {
     "name": "stdout",
     "output_type": "stream",
     "text": [
      ":: loading settings :: url = jar:file:/home/jovyan/.conda/envs/python3/lib/python3.9/site-packages/pyspark/jars/ivy-2.5.1.jar!/org/apache/ivy/core/settings/ivysettings.xml\n"
     ]
    },
    {
     "name": "stderr",
     "output_type": "stream",
     "text": [
      "Ivy Default Cache set to: /home/jovyan/.ivy2/cache\n",
      "The jars for the packages stored in: /home/jovyan/.ivy2/jars\n",
      "org.apache.hadoop#hadoop-aws added as a dependency\n",
      ":: resolving dependencies :: org.apache.spark#spark-submit-parent-9af75309-af9e-4541-80f5-4267eb90a09d;1.0\n",
      "\tconfs: [default]\n",
      "\tfound org.apache.hadoop#hadoop-aws;3.2.2 in central\n",
      "\tfound com.amazonaws#aws-java-sdk-bundle;1.11.563 in central\n",
      ":: resolution report :: resolve 141ms :: artifacts dl 4ms\n",
      "\t:: modules in use:\n",
      "\tcom.amazonaws#aws-java-sdk-bundle;1.11.563 from central in [default]\n",
      "\torg.apache.hadoop#hadoop-aws;3.2.2 from central in [default]\n",
      "\t---------------------------------------------------------------------\n",
      "\t|                  |            modules            ||   artifacts   |\n",
      "\t|       conf       | number| search|dwnlded|evicted|| number|dwnlded|\n",
      "\t---------------------------------------------------------------------\n",
      "\t|      default     |   2   |   0   |   0   |   0   ||   2   |   0   |\n",
      "\t---------------------------------------------------------------------\n",
      ":: retrieving :: org.apache.spark#spark-submit-parent-9af75309-af9e-4541-80f5-4267eb90a09d\n",
      "\tconfs: [default]\n",
      "\t0 artifacts copied, 2 already retrieved (0kB/4ms)\n",
      "23/04/26 11:08:01 WARN NativeCodeLoader: Unable to load native-hadoop library for your platform... using builtin-java classes where applicable\n",
      "Setting default log level to \"WARN\".\n",
      "To adjust logging level use sc.setLogLevel(newLevel). For SparkR, use setLogLevel(newLevel).\n"
     ]
    },
    {
     "name": "stdout",
     "output_type": "stream",
     "text": [
      "                           PRE prm_diagnosis/\n",
      "                           PRE prm_diagnosis_mk/\n",
      "                           PRE prm_enrollment/\n",
      "                           PRE prm_payers/\n",
      "                           PRE prm_persons/\n",
      "                           PRE prm_prescription/\n",
      "                           PRE prm_prescription_1/\n",
      "                           PRE prm_procedure/\n",
      "                           PRE prm_providers/\n",
      "                           PRE prm_visit/\n"
     ]
    }
   ],
   "source": [
    "from pyspark.sql import SparkSession\n",
    "from pyspark.sql import functions as f\n",
    "from pyspark.sql.window import Window as w\n",
    "import pandas as pd\n",
    "pd.set_option('display.max_columns', None)\n",
    "\n",
    "import warnings\n",
    "warnings.filterwarnings(\"ignore\")\n",
    "\n",
    "spark = (\n",
    "    SparkSession.builder\n",
    "    .config(\"spark.driver.memory\",\"100g\")\n",
    "    .config(\"spark.hadoop.fs.s3a.impl\",\"org.apache.hadoop.fs.s3a.S3AFileSystem\")\n",
    "    .config(\"spark.jars.packages\",\"org.apache.hadoop:hadoop-aws:3.2.2\")\n",
    "    .config(\"fs.s3a.aws.credentials.provider\",\"com.amazonaws.auth.DefaultAWSCredentialsProviderChain\")\n",
    "    .config(\"spark.driver.maxResultSize\",0)\n",
    "    # .config('spark.hadoop.io.compression.codecs', 'nl.basjes.hadoop.io.compress.SplittableGzipCodec')\n",
    "    .getOrCreate()\n",
    ")\n",
    "spark.conf.set(\"spark.sql.repl.eagerEval.enabled\", True)\n",
    "spark.conf.set(\"spark.hadoop.io.compression.codecs\", \"org.apache.hadoop.io.compress.BZip2Codec\")\n",
    "\n",
    "s3_bucket_spark = \"s3a://820323602090-team-dbad373c-7e36-407b-8690-05a44b804f43\"\n",
    "s3_bucket_pandas = \"s3a://820323602090-team-dbad373c-7e36-407b-8690-05a44b804f43\"\n",
    "data_path = s3_bucket_spark + '/data/data_komodo/'\n",
    "\n",
    "!aws s3 ls $team_bucket/data/data_komodo/"
   ]
  },
  {
   "cell_type": "markdown",
   "id": "a5e8ca8e-179b-4df8-8966-61d8cb1f3306",
   "metadata": {},
   "source": [
    "## Get train and test NPI IDs"
   ]
  },
  {
   "cell_type": "code",
   "execution_count": null,
   "id": "667f00bf-4dca-4d3f-aa85-e838bbdfac39",
   "metadata": {},
   "outputs": [],
   "source": [
    "path_to_targets = '../../instance_shared/life_sciences_hackathon-1/data/02_intermediate/'\n",
    "train_target = spark.read.parquet(path_to_targets+'train_target.parquet').select('PROVIDER_NPI').withColumn('is_train', f.lit(1)).dropDuplicates()\n",
    "test_target = spark.read.parquet(path_to_targets+'test_target.parquet').select('PROVIDER_NPI').withColumn('is_train', f.lit(0)).dropDuplicates()"
   ]
  },
  {
   "cell_type": "markdown",
   "id": "e71fe86f-dacd-4b17-b8dd-ebfbe4679960",
   "metadata": {},
   "source": [
    "## Load and filter data"
   ]
  },
  {
   "cell_type": "code",
   "execution_count": null,
   "id": "dbb4f67a-7af2-4ffa-8773-762e50946733",
   "metadata": {},
   "outputs": [],
   "source": [
    "prm_diagn = spark.read.parquet(data_path+\"prm_diagnosis/\")\\\n",
    "                 .withColumn('npi_id', f.coalesce('npi_id', 'npi_id_2'))\\\n",
    "                 .withColumn('npi_id', f.coalesce('npi_id', 'npi_id_3'))\\\n",
    "                 .withColumn('PROVIDER_NPI', f.coalesce('npi_id', 'npi_id_4'))\\\n",
    "                 .withColumn('date_day', f.to_date(f.col('date_day'), 'yyyy-MM-dd'))\\\n",
    "                 .select('PROVIDER_NPI', 'date_day', 'person_id', 'vx_visit_id',\n",
    "                         'primary_diagnosis_flag', 'dx_diagnosis_code', 'dx_diag_code_type')\\\n",
    "                 .filter(f.col('PROVIDER_NPI').isNotNull())\\\n",
    "                 .filter(f.col('date_day').isNotNull())\\\n",
    "                 .filter(f.col('person_id').isNotNull())\\\n",
    "                 .filter(f.col('vx_visit_id').isNotNull())\\\n",
    "                 .dropDuplicates()"
   ]
  },
  {
   "cell_type": "code",
   "execution_count": null,
   "id": "e9cc8cca-526b-4ba8-a740-56f5f7de2349",
   "metadata": {},
   "outputs": [],
   "source": [
    "prm_diagn_train = prm_diagn.filter((f.col('date_day') < f.lit(train_max_date)) &\n",
    "                                   (f.col('date_day') >= f.lit(train_min_date)))\\\n",
    "                           .join(train_target, on='PROVIDER_NPI', how='right')\n",
    "\n",
    "prm_diagn_test = prm_diagn.filter((f.col('date_day') < f.lit(test_max_date)) &\n",
    "                                  (f.col('date_day') >= f.lit(test_min_date)))\\\n",
    "                          .join(test_target, on='PROVIDER_NPI', how='right')\n",
    "\n",
    "print('Train unique providers left:', prm_diagn_train.select('PROVIDER_NPI').distinct().count())\n",
    "print('Test unique providers left:', prm_diagn_test.select('PROVIDER_NPI').distinct().count())\n",
    "\n",
    "prm_diagn_clean = prm_diagn_train.union(prm_diagn_test)\n",
    "prm_diagn_clean.write.parquet('../intermediate_data/diagnosis_with_persons.parquet', mode='overwrite')"
   ]
  },
  {
   "cell_type": "markdown",
   "id": "defc0434-82fa-4258-aa0e-b2ffdd0cf8a5",
   "metadata": {},
   "source": [
    "## Make features"
   ]
  },
  {
   "cell_type": "code",
   "execution_count": 3,
   "id": "7a15cbec-e63a-44b8-b8de-af35739c3d16",
   "metadata": {},
   "outputs": [
    {
     "name": "stderr",
     "output_type": "stream",
     "text": [
      "                                                                                \r"
     ]
    }
   ],
   "source": [
    "diagn = spark.read.parquet('../intermediate_data/diagnosis_with_persons.parquet')\n",
    "\n",
    "diagn = diagn.withColumn('is_pso', f.when(((f.col('dx_diagnosis_code').startswith('L40')) &\n",
    "                                           (f.col('dx_diag_code_type') != '9')) |\n",
    "                                          ((f.col('dx_diagnosis_code').startswith('696')) &\n",
    "                                           (f.col('dx_diag_code_type') != '10')), f.lit(1))\n",
    "                                             .otherwise(f.lit(0)))\n",
    "\n",
    "diagn = diagn.withColumn('last_3_months', f.when(((diagn.is_train == 1) &\n",
    "                                                                      (f.months_between(f.lit(train_max_date),\n",
    "                                                                                        f.col('date_day')) <= 3)) |\n",
    "                                                                     ((diagn.is_train == 0) &\n",
    "                                                                      (f.months_between(f.lit(test_max_date),\n",
    "                                                                                        f.col('date_day')) <= 3)),\n",
    "                                                                     1).otherwise(0))\n",
    "\n",
    "diagn = diagn.withColumn('last_6_months', f.when(((diagn.is_train == 1) &\n",
    "                                                  (f.months_between(f.lit(train_max_date),\n",
    "                                                                    f.col('date_day')) <= 6)) |\n",
    "                                                 ((diagn.is_train == 0) &\n",
    "                                                  (f.months_between(f.lit(test_max_date),\n",
    "                                                                    f.col('date_day')) <= 6)),\n",
    "                                                 1).otherwise(0))\\\n",
    "             .drop('dx_diag_code_type', 'dx_diagnosis_code', 'date_day')"
   ]
  },
  {
   "cell_type": "code",
   "execution_count": 4,
   "id": "07af254f-be16-4004-9e99-40e780afa5cd",
   "metadata": {},
   "outputs": [
    {
     "data": {
      "text/html": [
       "<table border='1'>\n",
       "<tr><th>PROVIDER_NPI</th><th>person_id</th><th>vx_visit_id</th><th>primary_diagnosis_flag</th><th>is_train</th><th>is_pso</th><th>last_3_months</th><th>last_6_months</th></tr>\n",
       "<tr><td>1023058567</td><td>e49097cdc475c2329...</td><td>938de33eb3c180359...</td><td>true</td><td>0</td><td>1</td><td>0</td><td>0</td></tr>\n",
       "<tr><td>1023058567</td><td>ebf8b92605caa0bc9...</td><td>de1217c89ec4ee115...</td><td>false</td><td>0</td><td>0</td><td>0</td><td>0</td></tr>\n",
       "<tr><td>1023058567</td><td>ebf8b92605caa0bc9...</td><td>4044fe6a0010c9b07...</td><td>false</td><td>0</td><td>0</td><td>0</td><td>0</td></tr>\n",
       "<tr><td>1023058567</td><td>2b2b8f802e2951c17...</td><td>5430995a5372e1e14...</td><td>false</td><td>0</td><td>0</td><td>0</td><td>1</td></tr>\n",
       "<tr><td>1023058567</td><td>8611956c384aee447...</td><td>5a87e6298f81f99b3...</td><td>true</td><td>0</td><td>0</td><td>0</td><td>0</td></tr>\n",
       "</table>\n"
      ],
      "text/plain": [
       "+------------+--------------------+--------------------+----------------------+--------+------+-------------+-------------+\n",
       "|PROVIDER_NPI|           person_id|         vx_visit_id|primary_diagnosis_flag|is_train|is_pso|last_3_months|last_6_months|\n",
       "+------------+--------------------+--------------------+----------------------+--------+------+-------------+-------------+\n",
       "|  1023058567|e49097cdc475c2329...|938de33eb3c180359...|                  true|       0|     1|            0|            0|\n",
       "|  1023058567|ebf8b92605caa0bc9...|de1217c89ec4ee115...|                 false|       0|     0|            0|            0|\n",
       "|  1023058567|ebf8b92605caa0bc9...|4044fe6a0010c9b07...|                 false|       0|     0|            0|            0|\n",
       "|  1023058567|2b2b8f802e2951c17...|5430995a5372e1e14...|                 false|       0|     0|            0|            1|\n",
       "|  1023058567|8611956c384aee447...|5a87e6298f81f99b3...|                  true|       0|     0|            0|            0|\n",
       "+------------+--------------------+--------------------+----------------------+--------+------+-------------+-------------+"
      ]
     },
     "execution_count": 4,
     "metadata": {},
     "output_type": "execute_result"
    }
   ],
   "source": [
    "diagn.limit(5)"
   ]
  },
  {
   "cell_type": "code",
   "execution_count": 5,
   "id": "562f642b-42fc-4b5c-8d36-d8c50a4efffa",
   "metadata": {},
   "outputs": [
    {
     "name": "stderr",
     "output_type": "stream",
     "text": [
      "                                                                                \r"
     ]
    }
   ],
   "source": [
    "diagn.write.parquet('../intermediate_data/diagnosis_with_persons_clean.parquet', mode='overwrite')"
   ]
  },
  {
   "cell_type": "markdown",
   "id": "5213a8f9-43b6-47e2-b319-a148b35be9a8",
   "metadata": {
    "tags": []
   },
   "source": [
    "## Patients clustering"
   ]
  },
  {
   "cell_type": "markdown",
   "id": "0614b0c7-46c3-4f5e-bcf7-edb750b69251",
   "metadata": {},
   "source": [
    "### From Diagnosis"
   ]
  },
  {
   "cell_type": "code",
   "execution_count": 7,
   "id": "8d9bc12a-3e19-46c2-aa4c-719a60d90769",
   "metadata": {},
   "outputs": [
    {
     "data": {
      "text/html": [
       "<table border='1'>\n",
       "<tr><th>PROVIDER_NPI</th><th>date_day</th><th>person_id</th><th>vx_visit_id</th><th>primary_diagnosis_flag</th><th>dx_diagnosis_code</th><th>dx_diag_code_type</th><th>is_train</th></tr>\n",
       "<tr><td>1023058567</td><td>2017-12-19</td><td>e49097cdc475c2329...</td><td>938de33eb3c180359...</td><td>true</td><td>L400</td><td>10</td><td>0</td></tr>\n",
       "<tr><td>1023058567</td><td>2017-06-12</td><td>ebf8b92605caa0bc9...</td><td>de1217c89ec4ee115...</td><td>false</td><td>L814</td><td>10</td><td>0</td></tr>\n",
       "<tr><td>1023058567</td><td>2017-12-15</td><td>ebf8b92605caa0bc9...</td><td>4044fe6a0010c9b07...</td><td>false</td><td>Z7189</td><td>10</td><td>0</td></tr>\n",
       "<tr><td>1023058567</td><td>2018-12-10</td><td>2b2b8f802e2951c17...</td><td>5430995a5372e1e14...</td><td>false</td><td>Z09</td><td>10</td><td>0</td></tr>\n",
       "<tr><td>1023058567</td><td>2017-10-28</td><td>8611956c384aee447...</td><td>5a87e6298f81f99b3...</td><td>true</td><td>Z7189</td><td>10</td><td>0</td></tr>\n",
       "</table>\n"
      ],
      "text/plain": [
       "+------------+----------+--------------------+--------------------+----------------------+-----------------+-----------------+--------+\n",
       "|PROVIDER_NPI|  date_day|           person_id|         vx_visit_id|primary_diagnosis_flag|dx_diagnosis_code|dx_diag_code_type|is_train|\n",
       "+------------+----------+--------------------+--------------------+----------------------+-----------------+-----------------+--------+\n",
       "|  1023058567|2017-12-19|e49097cdc475c2329...|938de33eb3c180359...|                  true|             L400|               10|       0|\n",
       "|  1023058567|2017-06-12|ebf8b92605caa0bc9...|de1217c89ec4ee115...|                 false|             L814|               10|       0|\n",
       "|  1023058567|2017-12-15|ebf8b92605caa0bc9...|4044fe6a0010c9b07...|                 false|            Z7189|               10|       0|\n",
       "|  1023058567|2018-12-10|2b2b8f802e2951c17...|5430995a5372e1e14...|                 false|              Z09|               10|       0|\n",
       "|  1023058567|2017-10-28|8611956c384aee447...|5a87e6298f81f99b3...|                  true|            Z7189|               10|       0|\n",
       "+------------+----------+--------------------+--------------------+----------------------+-----------------+-----------------+--------+"
      ]
     },
     "execution_count": 7,
     "metadata": {},
     "output_type": "execute_result"
    }
   ],
   "source": [
    "diagn = spark.read.parquet('../intermediate_data/diagnosis_with_persons.parquet')\n",
    "diagn.limit(5)"
   ]
  },
  {
   "cell_type": "code",
   "execution_count": 8,
   "id": "0d49888f-2178-40d1-a057-598aa2d5e519",
   "metadata": {},
   "outputs": [],
   "source": [
    "diagn = diagn.withColumn('is_pso', f.when(((f.col('dx_diagnosis_code').startswith('L40')) &\n",
    "                                           (f.col('dx_diag_code_type') != '9')) |\n",
    "                                          ((f.col('dx_diagnosis_code').startswith('696')) &\n",
    "                                           (f.col('dx_diag_code_type') != '10')), f.lit(1))\n",
    "                                             .otherwise(f.lit(0)))\n",
    "\n",
    "diagn_pso_visits = diagn.filter(f.col('is_pso') == 1).groupBy(['person_id', 'is_train']).agg(\n",
    "    f.countDistinct('vx_visit_id').alias('pso_visits_count')\n",
    ")\n",
    "\n",
    "diagn_visits = diagn.groupBy(['person_id','vx_visit_id','is_train']).agg(\n",
    "    f.count('date_day').alias('encounters_count')\n",
    ").groupBy(['person_id', 'is_train']).agg(\n",
    "    f.avg('encounters_count').alias('avg_encounters_per_visit')\n",
    ")\n",
    "\n",
    "diagn = diagn.groupBy(['person_id', 'is_train']).agg(\n",
    "    f.countDistinct('vx_visit_id').alias('visits_count'),\n",
    "    f.countDistinct('PROVIDER_NPI').alias('nunique_providers'),\n",
    "    f.max('is_pso').alias('had_pso')\n",
    ")\n",
    "\n",
    "diagn = diagn.join(diagn_visits, on=['person_id', 'is_train'], how='inner')\\\n",
    "             .join(diagn_pso_visits, on=['person_id', 'is_train'], how='left')\n",
    "diagn = diagn.withColumn('pso_visits_share', f.col('pso_visits_count') / f.col('visits_count'))\\\n",
    "             .drop('pso_visits_count')"
   ]
  },
  {
   "cell_type": "code",
   "execution_count": 9,
   "id": "eed7e69c-670e-4ced-aab1-75cbfa6ffcff",
   "metadata": {},
   "outputs": [
    {
     "name": "stderr",
     "output_type": "stream",
     "text": [
      "                                                                                \r"
     ]
    },
    {
     "data": {
      "text/html": [
       "<table border='1'>\n",
       "<tr><th>person_id</th><th>is_train</th><th>visits_count</th><th>nunique_providers</th><th>had_pso</th><th>avg_encounters_per_visit</th><th>pso_visits_share</th></tr>\n",
       "<tr><td>0003824ed03b264bb...</td><td>0</td><td>1</td><td>1</td><td>1</td><td>1.0</td><td>1.0</td></tr>\n",
       "<tr><td>00049c2d2f5bc6dc5...</td><td>1</td><td>1</td><td>1</td><td>1</td><td>3.0</td><td>1.0</td></tr>\n",
       "<tr><td>00050ec91dba87e08...</td><td>1</td><td>1</td><td>1</td><td>1</td><td>2.0</td><td>1.0</td></tr>\n",
       "<tr><td>00061c0453e346da3...</td><td>1</td><td>3</td><td>1</td><td>1</td><td>1.3333333333333333</td><td>1.0</td></tr>\n",
       "<tr><td>0009ce8d8f78f5cd4...</td><td>1</td><td>1</td><td>1</td><td>1</td><td>3.0</td><td>1.0</td></tr>\n",
       "</table>\n"
      ],
      "text/plain": [
       "+--------------------+--------+------------+-----------------+-------+------------------------+----------------+\n",
       "|           person_id|is_train|visits_count|nunique_providers|had_pso|avg_encounters_per_visit|pso_visits_share|\n",
       "+--------------------+--------+------------+-----------------+-------+------------------------+----------------+\n",
       "|0003824ed03b264bb...|       0|           1|                1|      1|                     1.0|             1.0|\n",
       "|00049c2d2f5bc6dc5...|       1|           1|                1|      1|                     3.0|             1.0|\n",
       "|00050ec91dba87e08...|       1|           1|                1|      1|                     2.0|             1.0|\n",
       "|00061c0453e346da3...|       1|           3|                1|      1|      1.3333333333333333|             1.0|\n",
       "|0009ce8d8f78f5cd4...|       1|           1|                1|      1|                     3.0|             1.0|\n",
       "+--------------------+--------+------------+-----------------+-------+------------------------+----------------+"
      ]
     },
     "execution_count": 9,
     "metadata": {},
     "output_type": "execute_result"
    }
   ],
   "source": [
    "diagn.limit(5)"
   ]
  },
  {
   "cell_type": "code",
   "execution_count": 10,
   "id": "e45a50ec-826e-4f1b-8907-463ebfe894a2",
   "metadata": {},
   "outputs": [
    {
     "name": "stderr",
     "output_type": "stream",
     "text": [
      "                                                                                \r"
     ]
    }
   ],
   "source": [
    "diagn.write.parquet('../intermediate_data/persons_diag_fts.parquet', mode='overwrite')"
   ]
  },
  {
   "cell_type": "markdown",
   "id": "6fb12636-a591-4c4e-9d50-daef2f22ed4f",
   "metadata": {},
   "source": [
    "### From procedures"
   ]
  },
  {
   "cell_type": "code",
   "execution_count": 5,
   "id": "83a577b7-accd-4292-8b36-5e1b9bdec951",
   "metadata": {},
   "outputs": [
    {
     "name": "stderr",
     "output_type": "stream",
     "text": [
      "                                                                                \r"
     ]
    }
   ],
   "source": [
    "proc = spark.read.parquet(data_path+\"prm_diagnosis_mk/\")\\\n",
    "                 .withColumnRenamed('primary_hcp_npi', 'PROVIDER_NPI')\\\n",
    "                 .withColumn('date_day', f.to_date(f.col('date_day'), 'yyyy-MM-dd'))\\\n",
    "                 .select('PROVIDER_NPI', 'date_day', 'vx_visit_id', 'person_id', 'dx_procedure_code')\\\n",
    "                 .filter(f.col('PROVIDER_NPI').isNotNull())\\\n",
    "                 .filter(f.col('date_day').isNotNull())\\\n",
    "                 .filter(f.col('vx_visit_id').isNotNull())\\\n",
    "                 .filter(f.col('person_id').isNotNull())\\\n",
    "                 .dropDuplicates()\n",
    "\n",
    "prm_diagn_train = proc.filter((f.col('date_day') < f.lit(train_max_date)) &\n",
    "                              (f.col('date_day') >= f.lit(train_min_date)))\\\n",
    "                      .join(train_target, on='PROVIDER_NPI', how='right')\n",
    "\n",
    "prm_diagn_test = proc.filter((f.col('date_day') < f.lit(test_max_date)) &\n",
    "                             (f.col('date_day') >= f.lit(test_min_date)))\\\n",
    "                     .join(test_target, on='PROVIDER_NPI', how='right')\n",
    "\n",
    "proc = prm_diagn_train.union(prm_diagn_test)\\\n",
    "                      .select('vx_visit_id', 'person_id', 'dx_procedure_code', 'is_train').dropDuplicates()\n",
    "proc.write.parquet('../intermediate_data/patients_with_proc.parquet', mode='overwrite')"
   ]
  },
  {
   "cell_type": "code",
   "execution_count": 6,
   "id": "d94096c9-8c51-4c82-9dc9-9cf901ecd9ee",
   "metadata": {},
   "outputs": [
    {
     "data": {
      "text/html": [
       "<table border='1'>\n",
       "<tr><th>vx_visit_id</th><th>person_id</th><th>dx_procedure_code</th><th>is_train</th></tr>\n",
       "<tr><td>c6e8c3cc577982c6c...</td><td>eb0065f2b8bf0a115...</td><td>00W0X0Z</td><td>1</td></tr>\n",
       "<tr><td>8343b77f9d5185642...</td><td>ca1bcefab55f50b74...</td><td>0BH17EZ</td><td>1</td></tr>\n",
       "<tr><td>24a9df06bbc2efdf4...</td><td>e470c398356cc2ce1...</td><td>085N3ZZ</td><td>1</td></tr>\n",
       "<tr><td>8343b77f9d5185642...</td><td>ca1bcefab55f50b74...</td><td>5A1945Z</td><td>1</td></tr>\n",
       "<tr><td>423a2f8612add8500...</td><td>223bfcf73eaa46c92...</td><td>00W0X0Z</td><td>1</td></tr>\n",
       "</table>\n"
      ],
      "text/plain": [
       "+--------------------+--------------------+-----------------+--------+\n",
       "|         vx_visit_id|           person_id|dx_procedure_code|is_train|\n",
       "+--------------------+--------------------+-----------------+--------+\n",
       "|c6e8c3cc577982c6c...|eb0065f2b8bf0a115...|          00W0X0Z|       1|\n",
       "|8343b77f9d5185642...|ca1bcefab55f50b74...|          0BH17EZ|       1|\n",
       "|24a9df06bbc2efdf4...|e470c398356cc2ce1...|          085N3ZZ|       1|\n",
       "|8343b77f9d5185642...|ca1bcefab55f50b74...|          5A1945Z|       1|\n",
       "|423a2f8612add8500...|223bfcf73eaa46c92...|          00W0X0Z|       1|\n",
       "+--------------------+--------------------+-----------------+--------+"
      ]
     },
     "execution_count": 6,
     "metadata": {},
     "output_type": "execute_result"
    }
   ],
   "source": [
    "proc = spark.read.parquet('../intermediate_data/patients_with_proc.parquet')\n",
    "proc.limit(5)"
   ]
  },
  {
   "cell_type": "code",
   "execution_count": 7,
   "id": "3a960517-7eb3-4573-84bd-a41d94ef1f79",
   "metadata": {},
   "outputs": [
    {
     "data": {
      "text/html": [
       "<table border='1'>\n",
       "<tr><th>person_id</th><th>is_train</th><th>nunique_procedures</th><th>nunique_procedures_per_visit</th></tr>\n",
       "<tr><td>278071d51e4deb7b5...</td><td>1</td><td>1</td><td>1.0</td></tr>\n",
       "<tr><td>cd25b5103c2bd4286...</td><td>0</td><td>1</td><td>1.0</td></tr>\n",
       "<tr><td>ac01ee8de47281bdd...</td><td>1</td><td>1</td><td>1.0</td></tr>\n",
       "<tr><td>cc65b20d7291dc5db...</td><td>1</td><td>1</td><td>1.0</td></tr>\n",
       "<tr><td>8d64371ce0ef136a1...</td><td>1</td><td>1</td><td>1.0</td></tr>\n",
       "</table>\n"
      ],
      "text/plain": [
       "+--------------------+--------+------------------+----------------------------+\n",
       "|           person_id|is_train|nunique_procedures|nunique_procedures_per_visit|\n",
       "+--------------------+--------+------------------+----------------------------+\n",
       "|278071d51e4deb7b5...|       1|                 1|                         1.0|\n",
       "|cd25b5103c2bd4286...|       0|                 1|                         1.0|\n",
       "|ac01ee8de47281bdd...|       1|                 1|                         1.0|\n",
       "|cc65b20d7291dc5db...|       1|                 1|                         1.0|\n",
       "|8d64371ce0ef136a1...|       1|                 1|                         1.0|\n",
       "+--------------------+--------+------------------+----------------------------+"
      ]
     },
     "execution_count": 7,
     "metadata": {},
     "output_type": "execute_result"
    }
   ],
   "source": [
    "proc_visits = proc.groupBy(['vx_visit_id', 'person_id', 'is_train']).agg(\n",
    "    f.countDistinct('dx_procedure_code').alias('nu_procedures')\n",
    ").groupBy(['person_id', 'is_train']).agg(\n",
    "    f.avg('nu_procedures').alias('nunique_procedures_per_visit')\n",
    ")\n",
    "\n",
    "proc = proc.groupBy(['person_id', 'is_train']).agg(\n",
    "    f.countDistinct('dx_procedure_code').alias('nunique_procedures')\n",
    ").join(proc_visits, on=['person_id', 'is_train']).na.fill(0)\n",
    "\n",
    "proc.limit(5)"
   ]
  },
  {
   "cell_type": "code",
   "execution_count": 8,
   "id": "7c64d51b-5249-4533-8c6a-7c76144318c7",
   "metadata": {},
   "outputs": [],
   "source": [
    "proc.write.parquet('../intermediate_data/persons_proc_fts.parquet', mode='overwrite')"
   ]
  },
  {
   "cell_type": "markdown",
   "id": "7f350a55-7231-4a3f-8859-fb56c7901d4d",
   "metadata": {},
   "source": [
    "### From enrollment"
   ]
  },
  {
   "cell_type": "code",
   "execution_count": 3,
   "id": "7f6b387a-b1b1-47db-a1ca-3406cbb13b9d",
   "metadata": {},
   "outputs": [
    {
     "name": "stderr",
     "output_type": "stream",
     "text": [
      "23/04/26 09:05:13 WARN MetricsConfig: Cannot locate configuration: tried hadoop-metrics2-s3a-file-system.properties,hadoop-metrics2.properties\n",
      "                                                                                \r"
     ]
    }
   ],
   "source": [
    "prm_enrol = spark.read.parquet(data_path+\"prm_enrollment/\").select('person_id', 'enr_plan_type').dropDuplicates()"
   ]
  },
  {
   "cell_type": "code",
   "execution_count": 5,
   "id": "52d9641d-8571-4460-8ea6-5b5e2bdfbaa2",
   "metadata": {},
   "outputs": [
    {
     "name": "stderr",
     "output_type": "stream",
     "text": [
      "                                                                                \r"
     ]
    },
    {
     "data": {
      "text/html": [
       "<table border='1'>\n",
       "<tr><th>person_id</th><th>enr_plan_C</th><th>enr_plan_S</th><th>enr_plan_RR</th><th>enr_plan_M</th><th>no_enr_plan</th></tr>\n",
       "<tr><td>f67723418a2e75b87...</td><td>1</td><td>1</td><td>0</td><td>0</td><td>0</td></tr>\n",
       "<tr><td>ee21f9d505746c8f5...</td><td>1</td><td>1</td><td>1</td><td>0</td><td>0</td></tr>\n",
       "<tr><td>12a8ba76d395ac645...</td><td>0</td><td>0</td><td>1</td><td>0</td><td>0</td></tr>\n",
       "<tr><td>5044ff0818a4bd3c9...</td><td>0</td><td>0</td><td>0</td><td>0</td><td>0</td></tr>\n",
       "<tr><td>abad7dbd6a5d7fb79...</td><td>0</td><td>1</td><td>0</td><td>0</td><td>0</td></tr>\n",
       "</table>\n"
      ],
      "text/plain": [
       "+--------------------+----------+----------+-----------+----------+-----------+\n",
       "|           person_id|enr_plan_C|enr_plan_S|enr_plan_RR|enr_plan_M|no_enr_plan|\n",
       "+--------------------+----------+----------+-----------+----------+-----------+\n",
       "|f67723418a2e75b87...|         1|         1|          0|         0|          0|\n",
       "|ee21f9d505746c8f5...|         1|         1|          1|         0|          0|\n",
       "|12a8ba76d395ac645...|         0|         0|          1|         0|          0|\n",
       "|5044ff0818a4bd3c9...|         0|         0|          0|         0|          0|\n",
       "|abad7dbd6a5d7fb79...|         0|         1|          0|         0|          0|\n",
       "+--------------------+----------+----------+-----------+----------+-----------+"
      ]
     },
     "execution_count": 5,
     "metadata": {},
     "output_type": "execute_result"
    }
   ],
   "source": [
    "prm_enrol = prm_enrol.withColumn('enr_plan_C', f.when(f.col('enr_plan_type') == 'C', 1).otherwise(0))\\\n",
    "                     .withColumn('enr_plan_S', f.when(f.col('enr_plan_type') == 'S', 1).otherwise(0))\\\n",
    "                     .withColumn('enr_plan_RR', f.when(f.col('enr_plan_type') == 'RR', 1).otherwise(0))\\\n",
    "                     .withColumn('enr_plan_M', f.when(f.col('enr_plan_type') == 'M', 1).otherwise(0))\\\n",
    "                     .withColumn('no_enr_plan', f.when(f.col('enr_plan_type').isNull(), 1).otherwise(0))\n",
    "\n",
    "prm_enrol = prm_enrol.groupBy('person_id').agg(\n",
    "    f.max('enr_plan_C').alias('enr_plan_C'),\n",
    "    f.max('enr_plan_S').alias('enr_plan_S'),\n",
    "    f.max('enr_plan_RR').alias('enr_plan_RR'),\n",
    "    f.max('enr_plan_M').alias('enr_plan_M'),\n",
    "    f.min('no_enr_plan').alias('no_enr_plan')\n",
    ")\n",
    "\n",
    "prm_enrol.limit(5)"
   ]
  },
  {
   "cell_type": "code",
   "execution_count": 6,
   "id": "6b2f3276-b1a9-4a9a-84d1-7dbb81bbac19",
   "metadata": {},
   "outputs": [
    {
     "name": "stderr",
     "output_type": "stream",
     "text": [
      "                                                                                \r"
     ]
    }
   ],
   "source": [
    "prm_enrol.write.parquet('../intermediate_data/persons_enrollments.parquet', mode='overwrite')"
   ]
  },
  {
   "cell_type": "markdown",
   "id": "9642986b-8437-474f-b982-38ee5692455d",
   "metadata": {},
   "source": [
    "### From persons"
   ]
  },
  {
   "cell_type": "code",
   "execution_count": 18,
   "id": "1a4fcd3b-408d-4345-b108-6264dde312bc",
   "metadata": {},
   "outputs": [
    {
     "name": "stderr",
     "output_type": "stream",
     "text": [
      "23/04/26 09:54:34 WARN MetricsConfig: Cannot locate configuration: tried hadoop-metrics2-s3a-file-system.properties,hadoop-metrics2.properties\n",
      "                                                                                \r"
     ]
    },
    {
     "data": {
      "text/html": [
       "<table border='1'>\n",
       "<tr><th>person_id</th><th>is_female</th><th>birth_year</th></tr>\n",
       "<tr><td>0025fe417c4cba661...</td><td>0</td><td>1953</td></tr>\n",
       "<tr><td>00a20f1317dc2759e...</td><td>1</td><td>1988</td></tr>\n",
       "<tr><td>00f3f2ad2dbfb1257...</td><td>0</td><td>1943</td></tr>\n",
       "<tr><td>00fb2becd29e56ed4...</td><td>1</td><td>1977</td></tr>\n",
       "<tr><td>01181d19d057fe59c...</td><td>0</td><td>1965</td></tr>\n",
       "</table>\n"
      ],
      "text/plain": [
       "+--------------------+---------+----------+\n",
       "|           person_id|is_female|birth_year|\n",
       "+--------------------+---------+----------+\n",
       "|0025fe417c4cba661...|        0|      1953|\n",
       "|00a20f1317dc2759e...|        1|      1988|\n",
       "|00f3f2ad2dbfb1257...|        0|      1943|\n",
       "|00fb2becd29e56ed4...|        1|      1977|\n",
       "|01181d19d057fe59c...|        0|      1965|\n",
       "+--------------------+---------+----------+"
      ]
     },
     "execution_count": 18,
     "metadata": {},
     "output_type": "execute_result"
    }
   ],
   "source": [
    "prm_persons = spark.read.parquet(data_path+\"prm_persons/\")\\\n",
    "                        .withColumn('birth_year', f.when(f.col('px_birth_dt').isNull(), f.lit(None))\n",
    "                                    .otherwise(f.col('px_birth_dt').substr(1,4)))\\\n",
    "                        .withColumn('is_female', f.when(f.col('px_gender') == 'F', 1).otherwise(0))\\\n",
    "                        .select('person_id','is_female','birth_year')\\\n",
    "                        .filter(f.col('person_id').isNotNull())\\\n",
    "                        .dropDuplicates()\n",
    "\n",
    "prm_persons.limit(5)"
   ]
  },
  {
   "cell_type": "code",
   "execution_count": 19,
   "id": "bb300693-c432-4a5e-819d-a38049a923ea",
   "metadata": {},
   "outputs": [
    {
     "name": "stderr",
     "output_type": "stream",
     "text": [
      "                                                                                \r"
     ]
    }
   ],
   "source": [
    "prm_persons.write.parquet('../intermediate_data/persons_socdem.parquet', mode='overwrite')"
   ]
  },
  {
   "cell_type": "markdown",
   "id": "a8f2b95c-355b-47ce-8fa2-793b514814f5",
   "metadata": {},
   "source": [
    "### From medicines"
   ]
  },
  {
   "cell_type": "code",
   "execution_count": 4,
   "id": "0b45d1b8-2568-494e-bbee-dc18170d8358",
   "metadata": {},
   "outputs": [
    {
     "name": "stderr",
     "output_type": "stream",
     "text": [
      "23/04/26 09:24:59 WARN MetricsConfig: Cannot locate configuration: tried hadoop-metrics2-s3a-file-system.properties,hadoop-metrics2.properties\n",
      "                                                                                \r"
     ]
    },
    {
     "data": {
      "text/html": [
       "<table border='1'>\n",
       "<tr><th>person_id</th><th>is_train</th><th>nunique_ndc</th><th>nunique_ndc_pso</th></tr>\n",
       "<tr><td>176339930c729d727...</td><td>1</td><td>4</td><td>null</td></tr>\n",
       "<tr><td>2fed8bdf92ca86efa...</td><td>1</td><td>0</td><td>null</td></tr>\n",
       "<tr><td>59d4b7f1713dd5904...</td><td>1</td><td>0</td><td>null</td></tr>\n",
       "<tr><td>cb559f497c1a1140d...</td><td>1</td><td>2</td><td>null</td></tr>\n",
       "<tr><td>d7c7a6ff02df18608...</td><td>1</td><td>1</td><td>null</td></tr>\n",
       "</table>\n"
      ],
      "text/plain": [
       "+--------------------+--------+-----------+---------------+\n",
       "|           person_id|is_train|nunique_ndc|nunique_ndc_pso|\n",
       "+--------------------+--------+-----------+---------------+\n",
       "|176339930c729d727...|       1|          4|           null|\n",
       "|2fed8bdf92ca86efa...|       1|          0|           null|\n",
       "|59d4b7f1713dd5904...|       1|          0|           null|\n",
       "|cb559f497c1a1140d...|       1|          2|           null|\n",
       "|d7c7a6ff02df18608...|       1|          1|           null|\n",
       "+--------------------+--------+-----------+---------------+"
      ]
     },
     "execution_count": 4,
     "metadata": {},
     "output_type": "execute_result"
    }
   ],
   "source": [
    "prescr = spark.read.parquet(data_path+\"prm_prescription_1/\")\\\n",
    "                   .withColumnRenamed('npi_id', 'PROVIDER_NPI')\\\n",
    "                   .withColumn('date_day', f.to_date(f.col('date_day'), 'yyyy-MM-dd'))\\\n",
    "                   .drop('rx_quantity', 'rx_drug_days_supply')\\\n",
    "                   .filter(f.col('PROVIDER_NPI').isNotNull())\\\n",
    "                   .filter(f.col('date_day').isNotNull())\\\n",
    "                   .filter(f.col('person_id').isNotNull())\\\n",
    "                   .dropDuplicates()\n",
    "\n",
    "prescr_train = prescr.filter((f.col('date_day') < f.lit(train_max_date)) &\n",
    "                             (f.col('date_day') >= f.lit(train_min_date)))\\\n",
    "                     .join(train_target, on='PROVIDER_NPI', how='right')\n",
    "\n",
    "prescr_test = prescr.filter((f.col('date_day') < f.lit(test_max_date)) &\n",
    "                            (f.col('date_day') >= f.lit(test_min_date)))\\\n",
    "                    .join(test_target, on='PROVIDER_NPI', how='right')\n",
    "\n",
    "prescr = prescr_train.union(prescr_test)\n",
    "\n",
    "prescr = prescr.withColumn('is_pso', f.when(((f.col('diagnosis').startswith('L40')) &\n",
    "                                             (f.col('diagnosis_code_type') != '9')) |\n",
    "                                            ((f.col('diagnosis').startswith('696')) &\n",
    "                                             (f.col('diagnosis_code_type') != '10')), f.lit(1))\n",
    "                           .otherwise(f.lit(0)))\\\n",
    "               .select('person_id', 'rx_ndc_code', 'is_pso', 'is_train')\n",
    "\n",
    "prescr_all = prescr.groupBy(['person_id', 'is_train']).agg(f.countDistinct('rx_ndc_code').alias('nunique_ndc'))\n",
    "prescr_pso = prescr.filter(f.col('is_pso') == 1).groupBy(['person_id', 'is_train']).agg(\n",
    "    f.countDistinct('rx_ndc_code').alias('nunique_ndc_pso')\n",
    ")\n",
    "prescr = prescr_all.join(prescr_pso, on=['person_id', 'is_train'], how='left')\n",
    "prescr.limit(5)"
   ]
  },
  {
   "cell_type": "code",
   "execution_count": 5,
   "id": "842451b5-27af-4229-ae80-f720300cd366",
   "metadata": {},
   "outputs": [
    {
     "name": "stderr",
     "output_type": "stream",
     "text": [
      "                                                                                ]\r"
     ]
    }
   ],
   "source": [
    "prescr.write.parquet('../intermediate_data/persons_medicines.parquet', mode='overwrite')"
   ]
  },
  {
   "cell_type": "markdown",
   "id": "1864f6a1-39ce-47f3-b4da-724ac6262f4c",
   "metadata": {},
   "source": [
    "### From visits"
   ]
  },
  {
   "cell_type": "code",
   "execution_count": 9,
   "id": "839911b0-7bc9-40ce-9e05-10217c2df83d",
   "metadata": {},
   "outputs": [
    {
     "name": "stderr",
     "output_type": "stream",
     "text": [
      "                                                                                \r"
     ]
    },
    {
     "data": {
      "text/html": [
       "<table border='1'>\n",
       "<tr><th>person_id</th><th>visit_type_nhiv_share</th><th>visit_type_opv_share</th><th>visit_type_iv_share</th><th>visit_type_lv_share</th><th>visit_type_hv_share</th><th>visit_type_av_share</th><th>visit_type_pv_share</th><th>visit_type_erv_share</th></tr>\n",
       "<tr><td>afa598bc8f70bb75e...</td><td>0.0</td><td>0.3333333333333333</td><td>0.0</td><td>0.0</td><td>0.0</td><td>0.0</td><td>0.0</td><td>0.3333333333333333</td></tr>\n",
       "<tr><td>48a429d6e9d727f82...</td><td>0.0</td><td>0.5</td><td>0.0</td><td>0.0</td><td>0.0</td><td>0.0</td><td>0.0</td><td>0.0</td></tr>\n",
       "<tr><td>14574752d1c8969da...</td><td>0.0</td><td>0.3333333333333333</td><td>0.0</td><td>0.3333333333333333</td><td>0.0</td><td>0.0</td><td>0.0</td><td>0.0</td></tr>\n",
       "<tr><td>dc128517c80cde0fc...</td><td>0.0</td><td>0.14285714285714285</td><td>0.14285714285714285</td><td>0.14285714285714285</td><td>0.14285714285714285</td><td>0.0</td><td>0.14285714285714285</td><td>0.14285714285714285</td></tr>\n",
       "<tr><td>2dbe08c1e9830e50c...</td><td>0.0</td><td>0.5</td><td>0.0</td><td>0.0</td><td>0.0</td><td>0.0</td><td>0.0</td><td>0.0</td></tr>\n",
       "</table>\n"
      ],
      "text/plain": [
       "+--------------------+---------------------+--------------------+-------------------+-------------------+-------------------+-------------------+-------------------+--------------------+\n",
       "|           person_id|visit_type_nhiv_share|visit_type_opv_share|visit_type_iv_share|visit_type_lv_share|visit_type_hv_share|visit_type_av_share|visit_type_pv_share|visit_type_erv_share|\n",
       "+--------------------+---------------------+--------------------+-------------------+-------------------+-------------------+-------------------+-------------------+--------------------+\n",
       "|afa598bc8f70bb75e...|                  0.0|  0.3333333333333333|                0.0|                0.0|                0.0|                0.0|                0.0|  0.3333333333333333|\n",
       "|48a429d6e9d727f82...|                  0.0|                 0.5|                0.0|                0.0|                0.0|                0.0|                0.0|                 0.0|\n",
       "|14574752d1c8969da...|                  0.0|  0.3333333333333333|                0.0| 0.3333333333333333|                0.0|                0.0|                0.0|                 0.0|\n",
       "|dc128517c80cde0fc...|                  0.0| 0.14285714285714285|0.14285714285714285|0.14285714285714285|0.14285714285714285|                0.0|0.14285714285714285| 0.14285714285714285|\n",
       "|2dbe08c1e9830e50c...|                  0.0|                 0.5|                0.0|                0.0|                0.0|                0.0|                0.0|                 0.0|\n",
       "+--------------------+---------------------+--------------------+-------------------+-------------------+-------------------+-------------------+-------------------+--------------------+"
      ]
     },
     "execution_count": 9,
     "metadata": {},
     "output_type": "execute_result"
    }
   ],
   "source": [
    "prm_visit = spark.read.parquet(data_path+\"prm_visit/\").select('person_id', 'vx_visit_type')\\\n",
    "                 .filter(f.col('person_id').isNotNull()).dropDuplicates()\n",
    "\n",
    "v_types = {\n",
    "    'Non-hospital institution Visit':'nhiv',\n",
    "    'Outpatient Visit':'opv',\n",
    "    'Inpatient Visit':'iv',\n",
    "    'Laboratory Visit':'lv',\n",
    "    'Home Visit':'hv',\n",
    "    'Ambulance Visit':'av',\n",
    "    'Pharmacy Visit':'pv',\n",
    "    'Emergency Room Visit':'erv'\n",
    "}\n",
    "\n",
    "for v_type in v_types:\n",
    "    prm_visit = prm_visit.withColumn(f'visit_type_{v_types[v_type]}_share',\n",
    "                                     f.when(f.col('vx_visit_type') == v_type, 1)\n",
    "                                     .otherwise(0))\n",
    "    \n",
    "prm_visit = prm_visit.groupBy('person_id').agg(\n",
    "    f.avg('visit_type_nhiv_share').alias('visit_type_nhiv_share'),\n",
    "    f.avg('visit_type_opv_share').alias('visit_type_opv_share'),\n",
    "    f.avg('visit_type_iv_share').alias('visit_type_iv_share'),\n",
    "    f.avg('visit_type_lv_share').alias('visit_type_lv_share'),\n",
    "    f.avg('visit_type_hv_share').alias('visit_type_hv_share'),\n",
    "    f.avg('visit_type_av_share').alias('visit_type_av_share'),\n",
    "    f.avg('visit_type_pv_share').alias('visit_type_pv_share'),\n",
    "    f.avg('visit_type_erv_share').alias('visit_type_erv_share')\n",
    ").na.fill(0)\n",
    "\n",
    "prm_visit.limit(5)"
   ]
  },
  {
   "cell_type": "code",
   "execution_count": 10,
   "id": "50bf7c42-f22e-4715-9f1a-9afdbb95412b",
   "metadata": {},
   "outputs": [
    {
     "name": "stderr",
     "output_type": "stream",
     "text": [
      "                                                                                \r"
     ]
    }
   ],
   "source": [
    "prm_visit.write.parquet('../intermediate_data/persons_visits.parquet', mode='overwrite')"
   ]
  },
  {
   "cell_type": "markdown",
   "id": "7065e349-afd8-4a04-a346-cce5a66539df",
   "metadata": {},
   "source": [
    "### Merge and preprocess features"
   ]
  },
  {
   "cell_type": "code",
   "execution_count": 1,
   "id": "2d1d0136-7337-436d-a62a-a21cd682aa57",
   "metadata": {},
   "outputs": [],
   "source": [
    "import os\n",
    "import numpy as np\n",
    "import pandas as pd\n",
    "\n",
    "from sklearn.preprocessing import StandardScaler\n",
    "from sklearn.cluster import KMeans\n",
    "\n",
    "pd.set_option('display.max_columns', None)\n",
    "\n",
    "import joblib\n",
    "\n",
    "import matplotlib.pyplot as plt\n",
    "%matplotlib inline"
   ]
  },
  {
   "cell_type": "code",
   "execution_count": 3,
   "id": "58a6e131-302c-4e3e-b018-596e6ecf0273",
   "metadata": {},
   "outputs": [
    {
     "data": {
      "text/plain": [
       "['persons_diag_fts.parquet',\n",
       " 'persons_socdem.parquet',\n",
       " 'persons_proc_fts.parquet',\n",
       " 'persons_medicines.parquet',\n",
       " 'persons_visits.parquet',\n",
       " 'persons_enrollments.parquet']"
      ]
     },
     "execution_count": 3,
     "metadata": {},
     "output_type": "execute_result"
    }
   ],
   "source": [
    "files_folder = '../intermediate_data/'\n",
    "fts_files = [f for f in os.listdir(files_folder) if f.startswith('persons_')]\n",
    "\n",
    "trusted_file = 'persons_diag_fts.parquet'\n",
    "fts_files = [trusted_file] + [f for f in fts_files if f != trusted_file]\n",
    "fts_files"
   ]
  },
  {
   "cell_type": "code",
   "execution_count": 20,
   "id": "76334a9b-c2b2-403b-9d3e-6b4a41914d4d",
   "metadata": {},
   "outputs": [
    {
     "name": "stdout",
     "output_type": "stream",
     "text": [
      "persons_socdem.parquet\n",
      "persons_proc_fts.parquet\n",
      "persons_medicines.parquet\n",
      "persons_visits.parquet\n",
      "persons_enrollments.parquet\n"
     ]
    }
   ],
   "source": [
    "persons = pd.read_parquet(files_folder + fts_files[0]).fillna(0)\n",
    "\n",
    "for fts_file in fts_files[1:]:\n",
    "    \n",
    "    print(fts_file)\n",
    "    \n",
    "    temp_df = pd.read_parquet(files_folder + fts_file).fillna(0)\n",
    "    \n",
    "    if 'is_train' in temp_df.columns:\n",
    "        persons = persons.merge(temp_df, how='outer')\n",
    "    \n",
    "    else:\n",
    "        persons = persons.merge(temp_df, how='left')\n",
    "        \n",
    "persons.fillna(0, inplace=True)"
   ]
  },
  {
   "cell_type": "code",
   "execution_count": 21,
   "id": "9493bf1e-a241-4544-b8ff-b00927b1aa5d",
   "metadata": {},
   "outputs": [],
   "source": [
    "persons['birth_year'] = persons['birth_year'].astype(int)"
   ]
  },
  {
   "cell_type": "code",
   "execution_count": 36,
   "id": "5b59df00-ce18-43eb-a9df-197ad928ac62",
   "metadata": {},
   "outputs": [],
   "source": [
    "def get_too_high_nan_shares(features_df, nan_share_threshold = .95):\n",
    "    \n",
    "    nan_shares = features_df.drop(['is_train', 'person_id'], axis=1).isnull().mean().reset_index()\n",
    "    return nan_shares.loc[nan_shares[0] > nan_share_threshold, 'index'].values.tolist()\n",
    "\n",
    "def get_high_correlated_features(features_df, correlation_threshold = .975):\n",
    "    \n",
    "    corr_matrix = features_df.drop(['is_train', 'person_id'], axis=1).corr().abs()\n",
    "    upper = corr_matrix.where(np.triu(np.ones(corr_matrix.shape), k=1).astype(bool))\n",
    "    to_drop = [column for column in upper.columns if any(upper[column] > 0.95)]\n",
    "    \n",
    "    return to_drop\n",
    "\n",
    "def get_high_univariant_features(features_df, univariant_threshold = .99):\n",
    "    \n",
    "    univariant_list = []\n",
    "    total_n = features_df.shape[0]\n",
    "    \n",
    "    for fts in [f for f in features_df.columns if f not in ['is_train', 'person_id']]:\n",
    "        \n",
    "        if persons[fts].value_counts().iloc[0] / total_n >= univariant_threshold:\n",
    "            univariant_list.append(fts)\n",
    "    \n",
    "    return univariant_list"
   ]
  },
  {
   "cell_type": "code",
   "execution_count": 39,
   "id": "d6788bed-60d2-4412-baf9-767c4bb44b7c",
   "metadata": {},
   "outputs": [],
   "source": [
    "nan_fts = get_too_high_nan_shares(persons)\n",
    "corr_fts = get_high_correlated_features(persons)\n",
    "uv_fts = get_high_univariant_features(persons, univariant_threshold = .95)\n",
    "persons.drop(list(set(nan_fts)|set(corr_fts)|set(uv_fts)), axis=1, inplace=True)"
   ]
  },
  {
   "cell_type": "code",
   "execution_count": 41,
   "id": "cdd0e9d4-c586-4922-9f47-3153f5f0b184",
   "metadata": {},
   "outputs": [
    {
     "data": {
      "text/plain": [
       "['visits_count',\n",
       " 'nunique_providers',\n",
       " 'avg_encounters_per_visit',\n",
       " 'nunique_ndc']"
      ]
     },
     "execution_count": 41,
     "metadata": {},
     "output_type": "execute_result"
    }
   ],
   "source": [
    "potential_outliers = [c for c in persons.columns if c.endswith('count')\n",
    "                      or c.startswith('nunique') or c.startswith('avg')]\n",
    "potential_outliers"
   ]
  },
  {
   "cell_type": "code",
   "execution_count": 49,
   "id": "3a2f414a-81f9-4c79-93e0-25c6fbcf902e",
   "metadata": {},
   "outputs": [],
   "source": [
    "for po_col in potential_outliers:\n",
    "    persons[po_col] = np.clip(persons[po_col], -np.inf, persons[po_col].quantile(.99))"
   ]
  },
  {
   "cell_type": "code",
   "execution_count": 57,
   "id": "4283958d-8065-44ff-9e02-dd37f41c49d5",
   "metadata": {},
   "outputs": [
    {
     "data": {
      "text/plain": [
       "['../models/persons_clustering_scaler.sav ']"
      ]
     },
     "execution_count": 57,
     "metadata": {},
     "output_type": "execute_result"
    }
   ],
   "source": [
    "scaler = StandardScaler().fit(persons.iloc[:,2:])\n",
    "joblib.dump(scaler, '../models/persons_clustering_scaler.sav ')"
   ]
  },
  {
   "cell_type": "code",
   "execution_count": 59,
   "id": "ebdef46b-df00-47d2-bf97-863f731d173d",
   "metadata": {},
   "outputs": [],
   "source": [
    "persons_scaled = persons.drop(['person_id', 'is_train'], axis=1).copy()\n",
    "persons_scaled.iloc[:,:] = scaler.transform(persons_scaled.iloc[:,:])"
   ]
  },
  {
   "cell_type": "markdown",
   "id": "c8cc1d6e-786e-4750-a42b-c4a500d5af43",
   "metadata": {},
   "source": [
    "### Run and save clustering"
   ]
  },
  {
   "cell_type": "code",
   "execution_count": 66,
   "id": "19aa5202-537f-427a-8a47-e3cbfabb28e5",
   "metadata": {},
   "outputs": [
    {
     "name": "stdout",
     "output_type": "stream",
     "text": [
      "1... 2... 3... 4... 5... 6... 7... 8... 9... done!\n"
     ]
    }
   ],
   "source": [
    "inertias = []\n",
    "\n",
    "for n_clusters in range(1,10):\n",
    "    print(n_clusters, end='... ')\n",
    "    kmeans = KMeans(n_clusters=n_clusters, random_state=3225).fit(persons_scaled.values)\n",
    "    inertias.append(kmeans.inertia_)\n",
    "    \n",
    "print('done!')"
   ]
  },
  {
   "cell_type": "code",
   "execution_count": 69,
   "id": "62c0bafb-2585-49c0-82ac-5ffbc7e65905",
   "metadata": {},
   "outputs": [
    {
     "data": {
      "text/plain": [
       "[<matplotlib.lines.Line2D at 0x7f381dc5b7c0>]"
      ]
     },
     "execution_count": 69,
     "metadata": {},
     "output_type": "execute_result"
    },
    {
     "data": {
      "image/png": "[encoded data removed]",
      "text/plain": [
       "<Figure size 1200x600 with 1 Axes>"
      ]
     },
     "metadata": {},
     "output_type": "display_data"
    }
   ],
   "source": [
    "plt.figure(figsize=(12,6))\n",
    "plt.plot(range(1,10), inertias)"
   ]
  },
  {
   "cell_type": "code",
   "execution_count": 70,
   "id": "530e63c0-bf00-4c28-a585-c69d70791f6b",
   "metadata": {},
   "outputs": [],
   "source": [
    "n_clusters = 4\n",
    "\n",
    "kmeans = KMeans(n_clusters=n_clusters, random_state=3225).fit(persons_scaled.values)\n",
    "clusters = kmeans.predict(persons_scaled.values)"
   ]
  },
  {
   "cell_type": "code",
   "execution_count": 72,
   "id": "939a0fd6-453f-4acd-81f5-864af1443eb3",
   "metadata": {},
   "outputs": [
    {
     "data": {
      "text/plain": [
       "1    878287\n",
       "2    787253\n",
       "0    460690\n",
       "3    197955\n",
       "dtype: int64"
      ]
     },
     "execution_count": 72,
     "metadata": {},
     "output_type": "execute_result"
    }
   ],
   "source": [
    "pd.Series(clusters).value_counts()"
   ]
  },
  {
   "cell_type": "code",
   "execution_count": 76,
   "id": "f382fa77-06da-4a49-86ff-3fc50158d27f",
   "metadata": {},
   "outputs": [],
   "source": [
    "clust_result = persons[['person_id', 'is_train']]\n",
    "clust_result['cluster'] = clusters\n",
    "clust_result = pd.get_dummies(clust_result, columns=['cluster'], prefix='cluster')"
   ]
  },
  {
   "cell_type": "code",
   "execution_count": 78,
   "id": "d83cd40e-e373-48e1-a6db-436643acfe47",
   "metadata": {},
   "outputs": [],
   "source": [
    "clust_result['person_id'] = clust_result['person_id'].astype(str)\n",
    "clust_result.to_parquet(files_folder + 'persons_clusters.parquet')"
   ]
  },
  {
   "cell_type": "markdown",
   "id": "6fc1e6f2-0865-49e7-9fd4-770a44333918",
   "metadata": {},
   "source": [
    "## Create persons features"
   ]
  },
  {
   "cell_type": "markdown",
   "id": "704958f3-471f-486c-850b-dad388cf0698",
   "metadata": {},
   "source": [
    "### Merge with clusters"
   ]
  },
  {
   "cell_type": "code",
   "execution_count": 3,
   "id": "73737312-7243-4860-a789-8da192bdc4f0",
   "metadata": {},
   "outputs": [
    {
     "name": "stderr",
     "output_type": "stream",
     "text": [
      "                                                                                \r"
     ]
    }
   ],
   "source": [
    "persons = spark.read.parquet('../intermediate_data/diagnosis_with_persons_clean.parquet')\\\n",
    "               .join(spark.read.parquet('../intermediate_data/persons_clusters.parquet')\n",
    "                     .drop('__index_level_0__'), on=['person_id', 'is_train'], how='left')\\\n",
    "               .na.fill(0)"
   ]
  },
  {
   "cell_type": "markdown",
   "id": "cedc3f50-1fe1-4b78-88c3-376ce2b74463",
   "metadata": {},
   "source": [
    "### Calculate features"
   ]
  },
  {
   "cell_type": "markdown",
   "id": "2b5c962f-a3dd-4347-8ea6-8164f2544f52",
   "metadata": {},
   "source": [
    "**nunique clients**"
   ]
  },
  {
   "cell_type": "code",
   "execution_count": 4,
   "id": "6db9d4ca-de86-4b2a-8fe4-6d93db233930",
   "metadata": {},
   "outputs": [],
   "source": [
    "persons_pso_prim = persons.filter((f.col('is_pso') == 1) &\n",
    "                                  (f.col('primary_diagnosis_flag') == 'true'))\\\n",
    "                          .groupBy(['PROVIDER_NPI', 'is_train']).agg(\n",
    "    f.countDistinct('person_id').alias('nunique_clients_pso_primary')\n",
    ")\n",
    "\n",
    "persons_pso = persons.filter(f.col('is_pso') == 1)\\\n",
    "                          .groupBy(['PROVIDER_NPI', 'is_train']).agg(\n",
    "    f.countDistinct('person_id').alias('nunique_clients_pso')\n",
    ")\n",
    "\n",
    "persons_all = persons.groupBy(['PROVIDER_NPI', 'is_train']).agg(\n",
    "    f.countDistinct('person_id').alias('nunique_clients')\n",
    ")\n",
    "\n",
    "persons_pso_prim_l3m = persons.filter((f.col('is_pso') == 1) &\n",
    "                                      (f.col('primary_diagnosis_flag') == 'true') & \n",
    "                                      (f.col('last_3_months') == 1))\\\n",
    "                          .groupBy(['PROVIDER_NPI', 'is_train']).agg(\n",
    "    f.countDistinct('person_id').alias('nunique_clients_pso_primary_l3m')\n",
    ")\n",
    "\n",
    "persons_pso_l3m = persons.filter((f.col('is_pso') == 1) &\n",
    "                                 (f.col('last_3_months') == 1))\\\n",
    "                          .groupBy(['PROVIDER_NPI', 'is_train']).agg(\n",
    "    f.countDistinct('person_id').alias('nunique_clients_pso_l3m')\n",
    ")\n",
    "\n",
    "persons_all_l3m = persons.filter(f.col('last_3_months') == 1).groupBy(['PROVIDER_NPI', 'is_train']).agg(\n",
    "    f.countDistinct('person_id').alias('nunique_clients_l3m')\n",
    ")\n",
    "\n",
    "persons_pso_prim_l6m = persons.filter((f.col('is_pso') == 1) &\n",
    "                                      (f.col('primary_diagnosis_flag') == 'true') & \n",
    "                                      (f.col('last_6_months') == 1))\\\n",
    "                          .groupBy(['PROVIDER_NPI', 'is_train']).agg(\n",
    "    f.countDistinct('person_id').alias('nunique_clients_pso_primary_l6m')\n",
    ")\n",
    "\n",
    "persons_pso_l6m = persons.filter((f.col('is_pso') == 1) &\n",
    "                                 (f.col('last_6_months') == 1))\\\n",
    "                          .groupBy(['PROVIDER_NPI', 'is_train']).agg(\n",
    "    f.countDistinct('person_id').alias('nunique_clients_pso_l6m')\n",
    ")\n",
    "\n",
    "persons_all_l6m = persons.filter(f.col('last_6_months') == 1).groupBy(['PROVIDER_NPI', 'is_train']).agg(\n",
    "    f.countDistinct('person_id').alias('nunique_clients_l6m')\n",
    ")\n",
    "\n",
    "for fts in [persons_pso_prim, persons_pso,\n",
    "            persons_pso_prim_l3m, persons_pso_l3m, persons_all_l3m,\n",
    "            persons_pso_prim_l6m, persons_pso_l6m, persons_all_l6m]:\n",
    "    persons_all = persons_all.join(fts, on=['PROVIDER_NPI', 'is_train'], how='left').na.fill(0)"
   ]
  },
  {
   "cell_type": "markdown",
   "id": "806187e6-0255-4335-adb6-d3fb1a2b706e",
   "metadata": {},
   "source": [
    "**visits by clusters**"
   ]
  },
  {
   "cell_type": "code",
   "execution_count": 5,
   "id": "c92fa3f6-665a-4a64-a4af-7725f1278c60",
   "metadata": {},
   "outputs": [],
   "source": [
    "visits = persons.groupBy(['PROVIDER_NPI', 'is_train', 'vx_visit_id']).agg(\n",
    "    f.max('cluster_0').alias('cluster_0'),\n",
    "    f.max('cluster_1').alias('cluster_1'),\n",
    "    f.max('cluster_2').alias('cluster_2'),\n",
    "    f.max('cluster_3').alias('cluster_3')\n",
    ").groupBy(['PROVIDER_NPI', 'is_train']).agg(\n",
    "    f.avg('cluster_0').alias('client_cluster_0_visits_share'),\n",
    "    f.avg('cluster_1').alias('client_cluster_1_visits_share'),\n",
    "    f.avg('cluster_2').alias('client_cluster_2_visits_share'),\n",
    "    f.avg('cluster_3').alias('client_cluster_3_visits_share')\n",
    ")\n",
    "\n",
    "visits_l3m = persons.filter(f.col('last_3_months') == 1).groupBy(['PROVIDER_NPI', 'is_train', 'vx_visit_id']).agg(\n",
    "    f.max('cluster_0').alias('cluster_0'),\n",
    "    f.max('cluster_1').alias('cluster_1'),\n",
    "    f.max('cluster_2').alias('cluster_2'),\n",
    "    f.max('cluster_3').alias('cluster_3')\n",
    ").groupBy(['PROVIDER_NPI', 'is_train']).agg(\n",
    "    f.avg('cluster_0').alias('client_cluster_0_visits_share_l3m'),\n",
    "    f.avg('cluster_1').alias('client_cluster_1_visits_share_l3m'),\n",
    "    f.avg('cluster_2').alias('client_cluster_2_visits_share_l3m'),\n",
    "    f.avg('cluster_3').alias('client_cluster_3_visits_share_l3m')\n",
    ")\n",
    "\n",
    "visits_l6m = persons.filter(f.col('last_6_months') == 1).groupBy(['PROVIDER_NPI', 'is_train', 'vx_visit_id']).agg(\n",
    "    f.max('cluster_0').alias('cluster_0'),\n",
    "    f.max('cluster_1').alias('cluster_1'),\n",
    "    f.max('cluster_2').alias('cluster_2'),\n",
    "    f.max('cluster_3').alias('cluster_3')\n",
    ").groupBy(['PROVIDER_NPI', 'is_train']).agg(\n",
    "    f.avg('cluster_0').alias('client_cluster_0_visits_share_l6m'),\n",
    "    f.avg('cluster_1').alias('client_cluster_1_visits_share_l6m'),\n",
    "    f.avg('cluster_2').alias('client_cluster_2_visits_share_l6m'),\n",
    "    f.avg('cluster_3').alias('client_cluster_3_visits_share_l6m')\n",
    ")\n",
    "\n",
    "for fts in [visits, visits_l3m, visits_l6m]:\n",
    "    persons_all = persons_all.join(fts, on=['PROVIDER_NPI', 'is_train'], how='left').na.fill(0)"
   ]
  },
  {
   "cell_type": "markdown",
   "id": "ae0cfb4d-34fd-42bf-a314-e146ca2b5eb3",
   "metadata": {},
   "source": [
    "**nunique by cluster**"
   ]
  },
  {
   "cell_type": "code",
   "execution_count": 6,
   "id": "379df261-68bb-4913-98f7-b31577c57f60",
   "metadata": {},
   "outputs": [],
   "source": [
    "for cluster in [0,1,2,3]:\n",
    "\n",
    "    nu_clus = persons.filter(f.col(f'cluster_{cluster}') == 1).groupBy(['PROVIDER_NPI', 'is_train']).agg(\n",
    "        f.countDistinct('person_id').alias(f'nunique_clients_cluster_{cluster}')\n",
    "    )\n",
    "    persons_all = persons_all.join(nu_clus, on=['PROVIDER_NPI', 'is_train'], how='left').na.fill(0)"
   ]
  },
  {
   "cell_type": "code",
   "execution_count": 7,
   "id": "17b71aa2-fcb5-408c-8fe9-07d3ec4dec52",
   "metadata": {},
   "outputs": [],
   "source": [
    "dynamic_cols = [\n",
    "    'nunique_clients_pso_primary',\n",
    "    'nunique_clients_pso',\n",
    "    'nunique_clients',\n",
    "    'client_cluster_0_visits_share',\n",
    "    'client_cluster_1_visits_share',\n",
    "    'client_cluster_2_visits_share',\n",
    "    'client_cluster_3_visits_share'\n",
    "]\n",
    "\n",
    "for dyn_col in dynamic_cols:\n",
    "    persons_all = persons_all.withColumn(dyn_col + '_l3m_vs_l6m', f.when(f.col(dyn_col + '_l6m') == 0, 1)\n",
    "                                         .otherwise(f.col(dyn_col + '_l3m') / f.col(dyn_col + '_l6m')))\n",
    "    persons_all = persons_all.withColumn(dyn_col + '_l3m_vs_l2y', f.when(f.col(dyn_col) == 0, 1)\n",
    "                                         .otherwise(f.col(dyn_col + '_l3m') / f.col(dyn_col)))"
   ]
  },
  {
   "cell_type": "code",
   "execution_count": 8,
   "id": "ac146ce0-0d77-4740-afec-ebfbff7c991b",
   "metadata": {},
   "outputs": [
    {
     "name": "stderr",
     "output_type": "stream",
     "text": [
      "23/04/26 11:08:12 WARN package: Truncated the string representation of a plan since it was too large. This behavior can be adjusted by setting 'spark.sql.debug.maxToStringFields'.\n",
      "                                                                                \r"
     ]
    }
   ],
   "source": [
    "persons_all.na.fill(0).write.parquet(\n",
    "    '../../instance_shared/life_sciences_hackathon-1/data/04_feature/persons_categories.parquet'\n",
    ")"
   ]
  },
  {
   "cell_type": "markdown",
   "id": "0e724045-ccaf-4d63-9edc-126d31d1ef30",
   "metadata": {},
   "source": [
    "## Check features"
   ]
  },
  {
   "cell_type": "code",
   "execution_count": 1,
   "id": "36313ed7-290f-4fc8-b89f-8739b0461ce2",
   "metadata": {},
   "outputs": [
    {
     "name": "stdout",
     "output_type": "stream",
     "text": [
      "(26185, 41)\n",
      "null count total:  0\n"
     ]
    },
    {
     "data": {
      "text/plain": [
       "0    13416\n",
       "1    12769\n",
       "Name: is_train, dtype: int64"
      ]
     },
     "execution_count": 1,
     "metadata": {},
     "output_type": "execute_result"
    }
   ],
   "source": [
    "import pandas as pd\n",
    "fts = pd.read_parquet('../../instance_shared/life_sciences_hackathon-1/data/04_feature/persons_categories.parquet')\n",
    "print(fts.shape)\n",
    "print('null count total: ', fts.isnull().sum().sum())\n",
    "fts.is_train.value_counts()"
   ]
  },
  {
   "cell_type": "code",
   "execution_count": null,
   "id": "21213861-c717-47d4-8c9c-d7c3dedc545c",
   "metadata": {},
   "outputs": [],
   "source": []
  }
 ],
 "metadata": {
  "kernelspec": {
   "display_name": "Python 3.9",
   "language": "python",
   "name": "python3"
  },
  "language_info": {
   "codemirror_mode": {
    "name": "ipython",
    "version": 3
   },
   "file_extension": ".py",
   "mimetype": "text/x-python",
   "name": "python",
   "nbconvert_exporter": "python",
   "pygments_lexer": "ipython3",
   "version": "3.9.7"
  }
 },
 "nbformat": 4,
 "nbformat_minor": 5
}
